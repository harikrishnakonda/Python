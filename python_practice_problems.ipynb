{
  "cells": [
    {
      "cell_type": "code",
      "execution_count": 5,
      "metadata": {
        "colab": {
          "base_uri": "https://localhost:8080/"
        },
        "id": "p25qPEC488zC",
        "outputId": "c5c2e412-ea74-4aaf-feae-fbb04b7f993c"
      },
      "outputs": [
        {
          "output_type": "stream",
          "name": "stdout",
          "text": [
            "hari\n"
          ]
        }
      ],
      "source": [
        "print(\"hari\")"
      ]
    },
    {
      "cell_type": "code",
      "execution_count": 6,
      "metadata": {
        "colab": {
          "base_uri": "https://localhost:8080/"
        },
        "id": "Xe_DhCjl9Qsw",
        "outputId": "d0507edc-6f6c-4240-c0af-2f565e2b6317"
      },
      "outputs": [
        {
          "output_type": "stream",
          "name": "stdout",
          "text": [
            "Largest Number : 34\n"
          ]
        }
      ],
      "source": [
        "a=[1,7,10,34,2,8]\n",
        "\"\"\"\n",
        "print(\"Largest Number :\",max(a))\n",
        "\"\"\"\n",
        "max = a[ 0 ]\n",
        "for i in a:\n",
        "\tif i > max:\n",
        "\t\tmax = i\n",
        "print(\"Largest Number :\",max)"
      ]
    },
    {
      "cell_type": "code",
      "execution_count": 7,
      "metadata": {
        "colab": {
          "base_uri": "https://localhost:8080/"
        },
        "id": "bGsuAtqoA5mV",
        "outputId": "b620f7c3-86e2-4570-e6b6-d7c5c9e4b4a4"
      },
      "outputs": [
        {
          "output_type": "execute_result",
          "data": {
            "text/plain": [
              "True"
            ]
          },
          "metadata": {},
          "execution_count": 7
        }
      ],
      "source": [
        "x=\"Cats come from tiger family\"\n",
        "'Cats' and 'tiger' in x"
      ]
    },
    {
      "cell_type": "code",
      "execution_count": 8,
      "metadata": {
        "colab": {
          "base_uri": "https://localhost:8080/"
        },
        "id": "OuZfAfN6Kkgu",
        "outputId": "cecb13b1-2314-4ffe-cb37-a5808107f076"
      },
      "outputs": [
        {
          "output_type": "stream",
          "name": "stdout",
          "text": [
            "the original string is:\n",
            "canvas\n",
            "the reversed string is:\n",
            "savnac \n"
          ]
        }
      ],
      "source": [
        "def reverse (a):\n",
        "    str = \" \"\n",
        "    for i in s:\n",
        "        str = i + str\n",
        "    return str\n",
        "s = \"canvas\"\n",
        "print(\"the original string is:\")\n",
        "print(s)\n",
        "print(\"the reversed string is:\")\n",
        "print(reverse(s))"
      ]
    },
    {
      "cell_type": "code",
      "execution_count": 9,
      "metadata": {
        "colab": {
          "base_uri": "https://localhost:8080/"
        },
        "id": "uH9l-CBgfBIj",
        "outputId": "264175b3-c252-413b-b57f-4091845f6946"
      },
      "outputs": [
        {
          "output_type": "stream",
          "name": "stdout",
          "text": [
            "No. of vowels : 4\n"
          ]
        }
      ],
      "source": [
        "def vowel_count(str):\n",
        "\n",
        "    count = 0\n",
        "\n",
        "    vowel = set(\"aeiouAEIOU\")\n",
        "\n",
        "    for alphabet in str:\n",
        "\n",
        "        if alphabet in vowel:\n",
        "            count = count + 1\n",
        "\n",
        "    print(\"No. of vowels :\", count)\n",
        "\n",
        "str = \"Rome is city\"\n",
        "\n",
        "vowel_count(str)"
      ]
    },
    {
      "cell_type": "code",
      "execution_count": 10,
      "metadata": {
        "colab": {
          "base_uri": "https://localhost:8080/"
        },
        "id": "5N-n_pG9ugFc",
        "outputId": "e332e475-66a4-492d-9226-558f607c50bf"
      },
      "outputs": [
        {
          "output_type": "stream",
          "name": "stdout",
          "text": [
            "Enter a string: harikrishna\n",
            "Number of letters in the string: 11\n"
          ]
        }
      ],
      "source": [
        "def count_letters(input_string):\n",
        "\n",
        "    letter_count = 0\n",
        "\n",
        "    for char in input_string:\n",
        "\n",
        "        if char.isalpha():\n",
        "            letter_count += 1\n",
        "\n",
        "    return letter_count\n",
        "\n",
        "input_string = input(\"Enter a string: \")\n",
        "\n",
        "result = count_letters(input_string)\n",
        "print(f\"Number of letters in the string: {result}\")"
      ]
    },
    {
      "cell_type": "code",
      "execution_count": 11,
      "metadata": {
        "colab": {
          "base_uri": "https://localhost:8080/"
        },
        "id": "JfzKIvJqvRmS",
        "outputId": "19e7f05c-2077-475e-bf4d-e9b97167381e"
      },
      "outputs": [
        {
          "output_type": "stream",
          "name": "stdout",
          "text": [
            "Number of numeric characters: 2\n",
            "Number of uppercase characters: 2\n",
            "Number of lowercase characters: 8\n",
            "Number of special characters: 3\n"
          ]
        }
      ],
      "source": [
        "def count_characters(input_string):\n",
        "    # Initialize variables to store counts\n",
        "    num_count = 0\n",
        "    upper_count = 0\n",
        "    lower_count = 0\n",
        "    special_count = 0\n",
        "\n",
        "    # Iterate through each character in the input string\n",
        "    for char in input_string:\n",
        "        if char.isnumeric():\n",
        "            num_count += 1\n",
        "        elif char.isupper():\n",
        "            upper_count += 1\n",
        "        elif char.islower():\n",
        "            lower_count += 1\n",
        "        else:\n",
        "            special_count += 1\n",
        "\n",
        "    return num_count, upper_count, lower_count, special_count\n",
        "\n",
        "# Input string\n",
        "input_string = \"@pyTh)nlobb!Y34\"\n",
        "\n",
        "# Call the count_characters function and store the results\n",
        "num_count, upper_count, lower_count, special_count = count_characters(input_string)\n",
        "\n",
        "# Print the counts\n",
        "print(f\"Number of numeric characters: {num_count}\")\n",
        "print(f\"Number of uppercase characters: {upper_count}\")\n",
        "print(f\"Number of lowercase characters: {lower_count}\")\n",
        "print(f\"Number of special characters: {special_count}\")"
      ]
    },
    {
      "cell_type": "code",
      "execution_count": 12,
      "metadata": {
        "colab": {
          "base_uri": "https://localhost:8080/"
        },
        "id": "8JOCK9UP1Ns7",
        "outputId": "8ef46c02-bf8c-41a7-ff01-824bb633c016"
      },
      "outputs": [
        {
          "output_type": "stream",
          "name": "stdout",
          "text": [
            "[0, 1, 2, 3, 4, 5, 6, 7, 8, 9]\n"
          ]
        }
      ],
      "source": [
        "l2 =[]\n",
        "for i in range(0,10):\n",
        "  l2.append(i)\n",
        "print(l2)"
      ]
    },
    {
      "cell_type": "code",
      "execution_count": 27,
      "metadata": {
        "id": "ptyvUtNZrDlt",
        "colab": {
          "base_uri": "https://localhost:8080/"
        },
        "outputId": "147ff85d-a813-4c44-de72-a45f999ffcec"
      },
      "outputs": [
        {
          "output_type": "stream",
          "name": "stdout",
          "text": [
            "[0, 2, 4, 6, 8]\n"
          ]
        }
      ],
      "source": [
        "l3=[]\n",
        "for j in l2:\n",
        "  if j%2==0:\n",
        "    l3.append(j)\n",
        "print(l3)"
      ]
    },
    {
      "cell_type": "code",
      "execution_count": 28,
      "metadata": {
        "colab": {
          "base_uri": "https://localhost:8080/"
        },
        "id": "tQ2X1Q2VtjqI",
        "outputId": "1196a201-a0f7-4e47-9e30-5ae2c365a06e"
      },
      "outputs": [
        {
          "output_type": "stream",
          "name": "stdout",
          "text": [
            "the original string is:\n",
            "canvas\n",
            "the reversed string is:\n",
            "savnac \n"
          ]
        }
      ],
      "source": [
        "def reverse (a):\n",
        "    str = \" \"\n",
        "    for i in s:\n",
        "        str = i + str\n",
        "    return str\n",
        "s = \"canvas\"\n",
        "print(\"the original string is:\")\n",
        "print(s)\n",
        "print(\"the reversed string is:\")\n",
        "print(reverse(s))"
      ]
    },
    {
      "cell_type": "code",
      "execution_count": 29,
      "metadata": {
        "colab": {
          "base_uri": "https://localhost:8080/"
        },
        "id": "kl9pkOePtsmY",
        "outputId": "666c93d7-eabe-45a0-d988-de4df6ba184c"
      },
      "outputs": [
        {
          "output_type": "execute_result",
          "data": {
            "text/plain": [
              "[500, 400, 300, 200, 100]"
            ]
          },
          "metadata": {},
          "execution_count": 29
        }
      ],
      "source": [
        "x = [100,200,300,400,500]\n",
        "x[::-1]"
      ]
    },
    {
      "cell_type": "code",
      "execution_count": 30,
      "metadata": {
        "colab": {
          "base_uri": "https://localhost:8080/"
        },
        "id": "iNlkLHHXub_f",
        "outputId": "3bf27cdf-be03-46a8-bfd2-4f32c5081fbf"
      },
      "outputs": [
        {
          "output_type": "stream",
          "name": "stdout",
          "text": [
            "[500, 400, 300, 200, 100]\n"
          ]
        }
      ],
      "source": [
        "print(x[::-1])"
      ]
    },
    {
      "cell_type": "code",
      "execution_count": 31,
      "metadata": {
        "colab": {
          "base_uri": "https://localhost:8080/",
          "height": 36
        },
        "id": "4po4KpSmuiTB",
        "outputId": "e0fef33e-0702-41b8-c8e0-908a44cb2e36"
      },
      "outputs": [
        {
          "output_type": "execute_result",
          "data": {
            "text/plain": [
              "'MY Name is kelly'"
            ],
            "application/vnd.google.colaboratory.intrinsic+json": {
              "type": "string"
            }
          },
          "metadata": {},
          "execution_count": 31
        }
      ],
      "source": [
        "l1 = [\"M\",\"Na\",\"i\",\"ke\"]\n",
        "l2 = [\"Y\",\"me\",\"s\",\"lly\"]\n",
        "a = []\n",
        "for i,j in zip(l1,l2):\n",
        "  k = i+j\n",
        "  a.append(k)\n",
        "\n",
        "\" \".join(a)"
      ]
    },
    {
      "cell_type": "code",
      "execution_count": 32,
      "metadata": {
        "colab": {
          "base_uri": "https://localhost:8080/"
        },
        "id": "KepXetK9vNNw",
        "outputId": "5647b2bc-00c0-4dc4-d0c5-b71a919a98d1"
      },
      "outputs": [
        {
          "output_type": "execute_result",
          "data": {
            "text/plain": [
              "['MY', 'Name', 'is', 'kelly']"
            ]
          },
          "metadata": {},
          "execution_count": 32
        }
      ],
      "source": [
        "a"
      ]
    },
    {
      "cell_type": "code",
      "execution_count": 33,
      "metadata": {
        "id": "C33khrxyySj7"
      },
      "outputs": [],
      "source": [
        "a = []\n",
        "list1 = [\"Hello\",\"take\"]\n",
        "list2 = [\"dear\",\"son\"]\n",
        "for i in list1:\n",
        "  for j in list2:\n",
        "    k = i+\" \"+j\n",
        "    a.append(k)"
      ]
    },
    {
      "cell_type": "code",
      "execution_count": 34,
      "metadata": {
        "colab": {
          "base_uri": "https://localhost:8080/"
        },
        "id": "1M6FvEq2yUew",
        "outputId": "7ab13597-390c-4966-e573-7805cb1936a7"
      },
      "outputs": [
        {
          "output_type": "execute_result",
          "data": {
            "text/plain": [
              "['Hello dear', 'Hello son', 'take dear', 'take son']"
            ]
          },
          "metadata": {},
          "execution_count": 34
        }
      ],
      "source": [
        "a"
      ]
    },
    {
      "cell_type": "code",
      "execution_count": 35,
      "metadata": {
        "colab": {
          "base_uri": "https://localhost:8080/"
        },
        "id": "77StZIVkyZZJ",
        "outputId": "a3870d17-8745-409d-b37f-9747583a29f7"
      },
      "outputs": [
        {
          "output_type": "stream",
          "name": "stdout",
          "text": [
            "10 400\n",
            "20 300\n",
            "30 200\n",
            "40 100\n"
          ]
        }
      ],
      "source": [
        "list1 =[10,20,30,40]\n",
        "list2 =[100,200,300,400]\n",
        "a = []\n",
        "rl2 = list2[::-1]\n",
        "for i,j in zip(list1,rl2):\n",
        "  print(i,j)"
      ]
    },
    {
      "cell_type": "code",
      "execution_count": 36,
      "metadata": {
        "colab": {
          "base_uri": "https://localhost:8080/"
        },
        "id": "z7KA_4KtzQRs",
        "outputId": "a6affeac-c0f0-4934-cf21-88bdb8bd0edf"
      },
      "outputs": [
        {
          "output_type": "execute_result",
          "data": {
            "text/plain": [
              "4"
            ]
          },
          "metadata": {},
          "execution_count": 36
        }
      ],
      "source": [
        "thistuple = (\"apple\",\"banana\",\"cherry\",\"mango\")\n",
        "len(thistuple)"
      ]
    },
    {
      "cell_type": "code",
      "execution_count": 37,
      "metadata": {
        "colab": {
          "base_uri": "https://localhost:8080/"
        },
        "id": "HpxOZgy4zQU1",
        "outputId": "5fe7f637-d915-4b60-aac3-bc65d2f02b34"
      },
      "outputs": [
        {
          "output_type": "execute_result",
          "data": {
            "text/plain": [
              "tuple"
            ]
          },
          "metadata": {},
          "execution_count": 37
        }
      ],
      "source": [
        "type(thistuple)"
      ]
    },
    {
      "cell_type": "code",
      "execution_count": 38,
      "metadata": {
        "id": "Bwvs3ipazYLv"
      },
      "outputs": [],
      "source": [
        "t1 = (\"apple\",\"mango\",\"banana\")\n",
        "t2 = (\"1\",\"2\",\"3\")\n",
        "t3 = (\"abc\",\"bac\",\"cde\")\n"
      ]
    },
    {
      "cell_type": "code",
      "execution_count": 39,
      "metadata": {
        "id": "w9vsauA2z_C2"
      },
      "outputs": [],
      "source": [
        "l1 = list(thistuple)\n",
        "l1.append('orange')\n",
        "thistuple = tuple(l1)"
      ]
    },
    {
      "cell_type": "code",
      "execution_count": 40,
      "metadata": {
        "colab": {
          "base_uri": "https://localhost:8080/"
        },
        "id": "CHbJvJFg0qJC",
        "outputId": "2ba47017-70e4-45ed-dcfc-4cbf5e3ae78d"
      },
      "outputs": [
        {
          "output_type": "execute_result",
          "data": {
            "text/plain": [
              "('apple', 'banana', 'cherry', 'mango', 'orange')"
            ]
          },
          "metadata": {},
          "execution_count": 40
        }
      ],
      "source": [
        "thistuple"
      ]
    },
    {
      "cell_type": "code",
      "execution_count": 41,
      "metadata": {
        "id": "QdpJNoUs0uW2"
      },
      "outputs": [],
      "source": [
        "l2 = list(thistuple)\n",
        "l2.remove(\"orange\")\n",
        "thistuple = tuple(l2)"
      ]
    },
    {
      "cell_type": "code",
      "execution_count": 42,
      "metadata": {
        "colab": {
          "base_uri": "https://localhost:8080/"
        },
        "id": "ounA1Aln1IJ-",
        "outputId": "ff4af310-e067-4536-a12b-455f100072d0"
      },
      "outputs": [
        {
          "output_type": "execute_result",
          "data": {
            "text/plain": [
              "('apple', 'banana', 'cherry', 'mango')"
            ]
          },
          "metadata": {},
          "execution_count": 42
        }
      ],
      "source": [
        "thistuple"
      ]
    },
    {
      "cell_type": "code",
      "execution_count": 43,
      "metadata": {
        "colab": {
          "base_uri": "https://localhost:8080/"
        },
        "id": "7qtSSWwU1Kfe",
        "outputId": "f46c9e38-5666-4db5-f9c8-080a0f7c6530"
      },
      "outputs": [
        {
          "output_type": "execute_result",
          "data": {
            "text/plain": [
              "[' ', 'dra', 'fsr']"
            ]
          },
          "metadata": {},
          "execution_count": 43
        }
      ],
      "source": [
        "x = [\" \",\"dra\",\"fsr\"]\n",
        "\n",
        "x"
      ]
    },
    {
      "cell_type": "code",
      "execution_count": 44,
      "metadata": {
        "id": "VRMHi7cP2TO2"
      },
      "outputs": [],
      "source": [
        "x.remove(\" \")"
      ]
    },
    {
      "cell_type": "code",
      "execution_count": 45,
      "metadata": {
        "colab": {
          "base_uri": "https://localhost:8080/"
        },
        "id": "ekfMs5DA2vwy",
        "outputId": "14c74c33-7c18-4dae-b18f-1ddef5a04552"
      },
      "outputs": [
        {
          "output_type": "execute_result",
          "data": {
            "text/plain": [
              "['dra', 'fsr']"
            ]
          },
          "metadata": {},
          "execution_count": 45
        }
      ],
      "source": [
        "x"
      ]
    },
    {
      "cell_type": "code",
      "execution_count": 49,
      "metadata": {
        "id": "yrohxX7j5c9L"
      },
      "outputs": [],
      "source": [
        "\n",
        "l1 = [40,50,30,20,10,2,20,70,90,20]\n",
        "r_item = 20\n",
        "for item in l1:\n",
        "\tif(item == r_item):\n",
        "\t\tl1.remove(r_item)"
      ]
    },
    {
      "cell_type": "code",
      "execution_count": 50,
      "metadata": {
        "colab": {
          "base_uri": "https://localhost:8080/"
        },
        "id": "XuR98lDe6YWm",
        "outputId": "b6746596-5d75-4125-923c-f73e6ee3de36"
      },
      "outputs": [
        {
          "output_type": "execute_result",
          "data": {
            "text/plain": [
              "[40, 50, 30, 10, 2, 70, 90]"
            ]
          },
          "metadata": {},
          "execution_count": 50
        }
      ],
      "source": [
        "l1"
      ]
    },
    {
      "cell_type": "code",
      "execution_count": 51,
      "metadata": {
        "colab": {
          "base_uri": "https://localhost:8080/"
        },
        "id": "suQE2xaC6dc6",
        "outputId": "2c378880-f57b-472f-9c28-2c90cf56812e"
      },
      "outputs": [
        {
          "output_type": "stream",
          "name": "stdout",
          "text": [
            "Enter number 7000:7000\n",
            "[10, 20, [300, 400, [5000, 6000, 7000], 500], 30, 40]\n"
          ]
        }
      ],
      "source": [
        "list1 = [10, 20, [300, 400, [5000, 6000], 500], 30, 40]\n",
        "add = int(input(\"Enter number 7000:\"))\n",
        "list1[2][2].append(add)\n",
        "print(list1)"
      ]
    },
    {
      "cell_type": "code",
      "execution_count": 56,
      "metadata": {
        "colab": {
          "base_uri": "https://localhost:8080/"
        },
        "id": "7uT1oSQPvPtu",
        "outputId": "a37383cc-4f68-4406-f093-8c0338b9956c"
      },
      "outputs": [
        {
          "output_type": "stream",
          "name": "stdout",
          "text": [
            "0\n",
            "1\n",
            "2\n",
            "3\n",
            "4\n"
          ]
        }
      ],
      "source": [
        "for i in range(0,5):\n",
        "  print(i)"
      ]
    },
    {
      "cell_type": "code",
      "execution_count": 57,
      "metadata": {
        "colab": {
          "base_uri": "https://localhost:8080/",
          "height": 36
        },
        "id": "ijPlL2P5-CZy",
        "outputId": "26ce1b4a-30d3-45eb-a99b-484676bdcbb0"
      },
      "outputs": [
        {
          "output_type": "execute_result",
          "data": {
            "text/plain": [
              "'a'"
            ],
            "application/vnd.google.colaboratory.intrinsic+json": {
              "type": "string"
            }
          },
          "metadata": {},
          "execution_count": 57
        }
      ],
      "source": [
        "  c=['cat','dog']\n",
        "  c[0][1]"
      ]
    },
    {
      "cell_type": "code",
      "execution_count": 58,
      "metadata": {
        "colab": {
          "base_uri": "https://localhost:8080/",
          "height": 36
        },
        "id": "eG3Nrwxc_UWl",
        "outputId": "2f5dc979-ae4b-4347-df9d-473943903f00"
      },
      "outputs": [
        {
          "output_type": "execute_result",
          "data": {
            "text/plain": [
              "'24567'"
            ],
            "application/vnd.google.colaboratory.intrinsic+json": {
              "type": "string"
            }
          },
          "metadata": {},
          "execution_count": 58
        }
      ],
      "source": [
        "num = '76542'\n",
        "num[::-1]\n"
      ]
    },
    {
      "cell_type": "code",
      "execution_count": 60,
      "metadata": {
        "colab": {
          "base_uri": "https://localhost:8080/"
        },
        "id": "heGp-B5M7URd",
        "outputId": "82d8edb7-9cfa-40df-8a31-12f9cf74b042"
      },
      "outputs": [
        {
          "output_type": "stream",
          "name": "stdout",
          "text": [
            "pntv\n"
          ]
        }
      ],
      "source": [
        "str = \"pynative\"\n",
        "print(str[0::2])"
      ]
    },
    {
      "cell_type": "code",
      "execution_count": 67,
      "metadata": {
        "colab": {
          "base_uri": "https://localhost:8080/"
        },
        "id": "H2Ma1po53KrQ",
        "outputId": "806b2f9e-f70e-4a2c-f073-0bc7cbcb2243"
      },
      "outputs": [
        {
          "output_type": "stream",
          "name": "stdout",
          "text": [
            "[500, 400, 300, 200, 100]\n"
          ]
        }
      ],
      "source": [
        "list1 = [100, 200, 300, 400, 500]\n",
        "list1.reverse()\n",
        "print(list1)"
      ]
    },
    {
      "cell_type": "code",
      "execution_count": 68,
      "metadata": {
        "colab": {
          "base_uri": "https://localhost:8080/"
        },
        "id": "iCo3lVbtm8Tp",
        "outputId": "49ed5cb6-f101-49e0-d633-fbc07cd3d5ff"
      },
      "outputs": [
        {
          "output_type": "execute_result",
          "data": {
            "text/plain": [
              "[100, 200, 300, 400, 500]"
            ]
          },
          "metadata": {},
          "execution_count": 68
        }
      ],
      "source": [
        "list1[::-1]"
      ]
    },
    {
      "cell_type": "code",
      "execution_count": 69,
      "metadata": {
        "colab": {
          "base_uri": "https://localhost:8080/"
        },
        "id": "WEM7sGHInK50",
        "outputId": "60ecab90-a046-4af9-82bc-237c0f6ec12d"
      },
      "outputs": [
        {
          "output_type": "execute_result",
          "data": {
            "text/plain": [
              "[0, 0]"
            ]
          },
          "metadata": {},
          "execution_count": 69
        }
      ],
      "source": [
        "way=[0]*2\n",
        "way\n",
        "\n",
        "\n"
      ]
    },
    {
      "cell_type": "code",
      "execution_count": 72,
      "metadata": {
        "id": "R1QGNR9-gwp9",
        "colab": {
          "base_uri": "https://localhost:8080/"
        },
        "outputId": "8c383c25-0775-4f1d-df2d-f335ed2d3b63"
      },
      "outputs": [
        {
          "name": "stdout",
          "output_type": "stream",
          "text": [
            "Enter the operation (A for Addition, S for Subtraction, M for Multiplication, D for Division): D\n",
            "Enter the first number: 9\n",
            "Enter the second number: 3\n",
            "Result: 3.0\n",
            "Do you want to continue? (Y/N): N\n"
          ]
        }
      ],
      "source": [
        "# Calculator\n",
        "def calculate(operation, *args):\n",
        "    if operation == 'A':\n",
        "        result = args[0] + args[1]\n",
        "    elif operation == 'S':\n",
        "        result = args[0] - args[1]\n",
        "    elif operation == 'M':\n",
        "        result = args[0] * args[1]\n",
        "    elif operation == 'D':\n",
        "        if args[1] != 0:\n",
        "            result = args[0] / args[1]\n",
        "        else:\n",
        "            return \"Division by zero is not allowed.\"\n",
        "\n",
        "    return result\n",
        "\n",
        "def add_numbers():\n",
        "    numbers = []\n",
        "    while True:\n",
        "        num = float(input(\"Enter a number: \"))\n",
        "        numbers.append(num)\n",
        "        choice = input(\"Do you want to add one more number? (Y/N): \").strip().upper()\n",
        "        if choice != 'Y':\n",
        "            if len(numbers) < 2:\n",
        "                print(\"Minimum 2 numbers are required.\")\n",
        "            else:\n",
        "                return numbers\n",
        "\n",
        "def get_numbers():\n",
        "    num1 = float(input(\"Enter the first number: \"))\n",
        "    num2 = float(input(\"Enter the second number: \"))\n",
        "    return num1, num2\n",
        "\n",
        "def main():\n",
        "    while True:\n",
        "        operation = input(\"Enter the operation (A for Addition, S for Subtraction, M for Multiplication, D for Division): \").strip().upper()\n",
        "\n",
        "        if operation == 'A':\n",
        "            numbers = add_numbers()\n",
        "        else:\n",
        "            num1, num2 = get_numbers()\n",
        "            numbers = (num1, num2)\n",
        "\n",
        "        result = calculate(operation, *numbers)\n",
        "        print(\"Result:\", result)\n",
        "\n",
        "        choice = input(\"Do you want to continue? (Y/N): \").strip().upper()\n",
        "        if choice != 'Y':\n",
        "            break\n",
        "\n",
        "if __name__ == \"__main__\":\n",
        "    main()"
      ]
    },
    {
      "cell_type": "code",
      "execution_count": 74,
      "metadata": {
        "colab": {
          "base_uri": "https://localhost:8080/"
        },
        "id": "jlgNGaqZzyWz",
        "outputId": "7f5c82d6-bfed-4e3e-a5d5-9885323c3797"
      },
      "outputs": [
        {
          "output_type": "stream",
          "name": "stdout",
          "text": [
            "odd\n"
          ]
        }
      ],
      "source": [
        "n = 51\n",
        "if n % 2 == 0:\n",
        "  print('even')\n",
        "else:\n",
        "  print('odd')"
      ]
    },
    {
      "cell_type": "code",
      "execution_count": 75,
      "metadata": {
        "id": "Xhjx_KPpvowm"
      },
      "outputs": [],
      "source": [
        "list1 = []\n",
        "list2 = []\n",
        "list3 = []\n",
        "list4 = []\n",
        "for i in range(1,101,1):\n",
        "  list1.append(i)\n",
        "  if i % 2 == 0:\n",
        "    list2.append(i)\n",
        "  else:\n",
        "    list3.append(i)\n",
        "  if i % 5 ==0 or i % 7 ==0:\n",
        "    list4.append(i)"
      ]
    },
    {
      "cell_type": "code",
      "execution_count": 76,
      "metadata": {
        "colab": {
          "base_uri": "https://localhost:8080/"
        },
        "id": "zZfKVdgPwLSO",
        "outputId": "c6b9b02c-c451-4321-b6e6-88a5259b05d5"
      },
      "outputs": [
        {
          "output_type": "stream",
          "name": "stdout",
          "text": [
            "[5, 7, 10, 14, 15, 20, 21, 25, 28, 30, 35, 40, 42, 45, 49, 50, 55, 56, 60, 63, 65, 70, 75, 77, 80, 84, 85, 90, 91, 95, 98, 100]\n",
            "[1, 2, 3, 4, 5, 6, 7, 8, 9, 10, 11, 12, 13, 14, 15, 16, 17, 18, 19, 20, 21, 22, 23, 24, 25, 26, 27, 28, 29, 30, 31, 32, 33, 34, 35, 36, 37, 38, 39, 40, 41, 42, 43, 44, 45, 46, 47, 48, 49, 50, 51, 52, 53, 54, 55, 56, 57, 58, 59, 60, 61, 62, 63, 64, 65, 66, 67, 68, 69, 70, 71, 72, 73, 74, 75, 76, 77, 78, 79, 80, 81, 82, 83, 84, 85, 86, 87, 88, 89, 90, 91, 92, 93, 94, 95, 96, 97, 98, 99, 100]\n",
            "[1, 3, 5, 7, 9, 11, 13, 15, 17, 19, 21, 23, 25, 27, 29, 31, 33, 35, 37, 39, 41, 43, 45, 47, 49, 51, 53, 55, 57, 59, 61, 63, 65, 67, 69, 71, 73, 75, 77, 79, 81, 83, 85, 87, 89, 91, 93, 95, 97, 99]\n",
            "[2, 4, 6, 8, 10, 12, 14, 16, 18, 20, 22, 24, 26, 28, 30, 32, 34, 36, 38, 40, 42, 44, 46, 48, 50, 52, 54, 56, 58, 60, 62, 64, 66, 68, 70, 72, 74, 76, 78, 80, 82, 84, 86, 88, 90, 92, 94, 96, 98, 100]\n"
          ]
        }
      ],
      "source": [
        "print(list4)\n",
        "print(list1)\n",
        "print(list3)\n",
        "print(list2)\n"
      ]
    },
    {
      "cell_type": "code",
      "execution_count": 77,
      "metadata": {
        "colab": {
          "base_uri": "https://localhost:8080/"
        },
        "id": "pwzNBoKEyRRo",
        "outputId": "5dddb454-c756-4a3c-927d-192696590e6f"
      },
      "outputs": [
        {
          "output_type": "stream",
          "name": "stdout",
          "text": [
            "greater\n"
          ]
        }
      ],
      "source": [
        "a,b,c = 15,10,12\n",
        "if a>b:\n",
        "  print('greater')\n",
        "elif a<b:\n",
        "  print('lesser')\n",
        "elif a == b:\n",
        "  print('equal')\n",
        "elif a>c:\n",
        "  print('a is greater than c')"
      ]
    },
    {
      "cell_type": "code",
      "execution_count": 78,
      "metadata": {
        "colab": {
          "base_uri": "https://localhost:8080/"
        },
        "id": "hiBBr8S_214S",
        "outputId": "fc806bdb-6b94-42fe-9954-9666b95dabeb"
      },
      "outputs": [
        {
          "output_type": "stream",
          "name": "stdout",
          "text": [
            "lesser\n",
            "equal\n",
            "c is greater than b\n"
          ]
        }
      ],
      "source": [
        "a,b,c = 5,5,12\n",
        "if a>b:\n",
        "  print('greater')\n",
        "if a<c:\n",
        "  print('lesser')\n",
        "if a==b:\n",
        "  print('equal')\n",
        "if b<c:\n",
        "  print('c is greater than b')"
      ]
    },
    {
      "cell_type": "code",
      "execution_count": 79,
      "metadata": {
        "colab": {
          "base_uri": "https://localhost:8080/"
        },
        "id": "c5DISWyW40kI",
        "outputId": "015423ef-a73f-4189-8d42-653127cf38a7"
      },
      "outputs": [
        {
          "output_type": "stream",
          "name": "stdout",
          "text": [
            "[1]\n",
            "[1, 2]\n",
            "[1, 2, 3]\n",
            "[1, 2, 3, 4]\n",
            "[1, 2, 3, 4, 5]\n",
            "[1, 2, 3, 4, 5, 6]\n",
            "[1, 2, 3, 4, 5, 6, 7]\n",
            "[1, 2, 3, 4, 5, 6, 7, 8]\n",
            "[1, 2, 3, 4, 5, 6, 7, 8, 9]\n",
            "[1, 2, 3, 4, 5, 6, 7, 8, 9, 10]\n"
          ]
        }
      ],
      "source": [
        "list1 = []\n",
        "for i in range(1,11,1):\n",
        "  list1.append(i)\n",
        "  print(list1)"
      ]
    },
    {
      "cell_type": "code",
      "execution_count": 80,
      "metadata": {
        "colab": {
          "base_uri": "https://localhost:8080/"
        },
        "id": "EGuCScNd50sX",
        "outputId": "1e29d1c7-c36d-4b84-d5a4-1f9e56e5bb3a"
      },
      "outputs": [
        {
          "output_type": "execute_result",
          "data": {
            "text/plain": [
              "[1, 2, 3, 4, 5, 6, 7, 8, 9, 10]"
            ]
          },
          "metadata": {},
          "execution_count": 80
        }
      ],
      "source": [
        "list1"
      ]
    },
    {
      "cell_type": "code",
      "execution_count": 81,
      "metadata": {
        "colab": {
          "base_uri": "https://localhost:8080/"
        },
        "id": "SKvcF0jT6miA",
        "outputId": "20843ab5-7853-4ac9-895a-391032ef4b8d"
      },
      "outputs": [
        {
          "output_type": "execute_result",
          "data": {
            "text/plain": [
              "[1, 4, 7, 10]"
            ]
          },
          "metadata": {},
          "execution_count": 81
        }
      ],
      "source": [
        "list1 [0::3]"
      ]
    },
    {
      "cell_type": "code",
      "execution_count": 82,
      "metadata": {
        "colab": {
          "base_uri": "https://localhost:8080/"
        },
        "id": "knJU0Exs6v7F",
        "outputId": "7cdd55ca-584b-4f11-9cd9-ec063eeb205d"
      },
      "outputs": [
        {
          "output_type": "stream",
          "name": "stdout",
          "text": [
            "0 0 0\n",
            "0 0 1\n",
            "0 1 0\n",
            "0 1 1\n",
            "1 0 0\n",
            "1 0 1\n",
            "1 1 0\n",
            "1 1 1\n"
          ]
        }
      ],
      "source": [
        "i = [0,1]\n",
        "x = []\n",
        "for l in i:\n",
        "  for m in i:\n",
        "    for n in i:\n",
        "      print(l,m,n)"
      ]
    },
    {
      "cell_type": "code",
      "execution_count": 83,
      "metadata": {
        "id": "1zJyS1RV8WOY"
      },
      "outputs": [],
      "source": [
        "i = [1,2,3,4,5,6]\n",
        "x = []\n",
        "for l in i:\n",
        "  for m in i:\n",
        "    x.append((l,m))\n",
        "\n"
      ]
    },
    {
      "cell_type": "code",
      "execution_count": 84,
      "metadata": {
        "colab": {
          "base_uri": "https://localhost:8080/"
        },
        "id": "_MO9Q6dS8MqR",
        "outputId": "6bb08fda-980b-4a56-fe08-8732a38a97ef"
      },
      "outputs": [
        {
          "output_type": "execute_result",
          "data": {
            "text/plain": [
              "[(1, 1),\n",
              " (1, 2),\n",
              " (1, 3),\n",
              " (1, 4),\n",
              " (1, 5),\n",
              " (1, 6),\n",
              " (2, 1),\n",
              " (2, 2),\n",
              " (2, 3),\n",
              " (2, 4),\n",
              " (2, 5),\n",
              " (2, 6),\n",
              " (3, 1),\n",
              " (3, 2),\n",
              " (3, 3),\n",
              " (3, 4),\n",
              " (3, 5),\n",
              " (3, 6),\n",
              " (4, 1),\n",
              " (4, 2),\n",
              " (4, 3),\n",
              " (4, 4),\n",
              " (4, 5),\n",
              " (4, 6),\n",
              " (5, 1),\n",
              " (5, 2),\n",
              " (5, 3),\n",
              " (5, 4),\n",
              " (5, 5),\n",
              " (5, 6),\n",
              " (6, 1),\n",
              " (6, 2),\n",
              " (6, 3),\n",
              " (6, 4),\n",
              " (6, 5),\n",
              " (6, 6)]"
            ]
          },
          "metadata": {},
          "execution_count": 84
        }
      ],
      "source": [
        "x"
      ]
    },
    {
      "cell_type": "code",
      "execution_count": 85,
      "metadata": {
        "id": "FZAW3kTo83M_"
      },
      "outputs": [],
      "source": [
        "n = 100\n",
        "x = []\n",
        "for i in range(1,101,1):\n",
        "  if n % i == 0:\n",
        "    x.append(i)\n",
        "\n"
      ]
    },
    {
      "cell_type": "code",
      "execution_count": 86,
      "metadata": {
        "colab": {
          "base_uri": "https://localhost:8080/"
        },
        "id": "o3ILe3yMCmse",
        "outputId": "c948827e-e2ed-4beb-d2ec-1a9da73e75a8"
      },
      "outputs": [
        {
          "output_type": "execute_result",
          "data": {
            "text/plain": [
              "[1, 2, 4, 5, 10, 20, 25, 50, 100]"
            ]
          },
          "metadata": {},
          "execution_count": 86
        }
      ],
      "source": [
        "x"
      ]
    },
    {
      "cell_type": "code",
      "execution_count": 87,
      "metadata": {
        "colab": {
          "base_uri": "https://localhost:8080/"
        },
        "id": "0k_vsTiiCzs8",
        "outputId": "ea0b57b4-7fcc-4bf2-830c-6407124f938a"
      },
      "outputs": [
        {
          "output_type": "stream",
          "name": "stdout",
          "text": [
            "n is not a prime no:\n",
            "1\n"
          ]
        }
      ],
      "source": [
        "n = 19\n",
        "k = 0\n",
        "for i in range(1,19,1):\n",
        "  if n % i ==0:\n",
        "    k = k + 1\n",
        "if k ==2:\n",
        "  print('n is prime no:')\n",
        "else:\n",
        "  print('n is not a prime no:')\n",
        "print(k)\n",
        "\n"
      ]
    },
    {
      "cell_type": "code",
      "execution_count": 88,
      "metadata": {
        "colab": {
          "base_uri": "https://localhost:8080/"
        },
        "id": "J4Et2R6cEejY",
        "outputId": "da3c027d-31b4-4692-ab1d-6d0b2d360af4"
      },
      "outputs": [
        {
          "output_type": "execute_result",
          "data": {
            "text/plain": [
              "1"
            ]
          },
          "metadata": {},
          "execution_count": 88
        }
      ],
      "source": [
        "k"
      ]
    },
    {
      "cell_type": "code",
      "execution_count": 89,
      "metadata": {
        "colab": {
          "base_uri": "https://localhost:8080/"
        },
        "id": "pW4wDJYREfvg",
        "outputId": "6214b263-ed35-4f67-a6a1-e156a800f58f"
      },
      "outputs": [
        {
          "output_type": "stream",
          "name": "stdout",
          "text": [
            "hri\n"
          ]
        }
      ],
      "source": [
        "s = 'hari'\n",
        "\n",
        "i=s[0]\n",
        "m=s[int(len(s)/2)]\n",
        "l=s[len(s)-1]\n",
        "print(i+m+l)"
      ]
    },
    {
      "cell_type": "code",
      "execution_count": 90,
      "metadata": {
        "colab": {
          "base_uri": "https://localhost:8080/"
        },
        "id": "kLeQg6Q1-uO_",
        "outputId": "156719ac-cd77-4bad-e9ed-bd28a7e88797"
      },
      "outputs": [
        {
          "output_type": "stream",
          "name": "stdout",
          "text": [
            "5\n",
            "100\n",
            "5\n",
            "100\n"
          ]
        }
      ],
      "source": [
        "def print_numbers():\n",
        "  print(5)\n",
        "  print(100)\n",
        "print_numbers()\n",
        "print_numbers()"
      ]
    },
    {
      "cell_type": "code",
      "execution_count": 91,
      "metadata": {
        "colab": {
          "base_uri": "https://localhost:8080/"
        },
        "id": "vmnw56ESRnF8",
        "outputId": "b107a974-aad3-46fa-84da-f01b535bcecf"
      },
      "outputs": [
        {
          "output_type": "stream",
          "name": "stdout",
          "text": [
            "105\n",
            "25\n"
          ]
        }
      ],
      "source": [
        "def plus_ten(numbers):\n",
        "  result = numbers + 5\n",
        "  print(result)\n",
        "\n",
        "\n",
        "plus_ten(100)\n",
        "plus_ten(20)"
      ]
    },
    {
      "cell_type": "code",
      "execution_count": 92,
      "metadata": {
        "colab": {
          "base_uri": "https://localhost:8080/"
        },
        "id": "4ybBVo8XULkp",
        "outputId": "697c1b8f-9717-4a3f-b7dc-a00e30b58bc5"
      },
      "outputs": [
        {
          "output_type": "stream",
          "name": "stdout",
          "text": [
            "\n",
            "Taylor\n",
            "\n"
          ]
        }
      ],
      "source": [
        "# Replace ___ with your code\n",
        "\n",
        "def display_info(name,location):\n",
        "    print(name)\n",
        "    print(location)\n",
        "\n",
        "# take user input\n",
        "country = input()\n",
        "\n",
        "# call the function with arguments 'Taylor' and country\n",
        "display_info('Taylor',country)"
      ]
    },
    {
      "cell_type": "code",
      "execution_count": 93,
      "metadata": {
        "colab": {
          "base_uri": "https://localhost:8080/"
        },
        "id": "5PlGRVK8VpJg",
        "outputId": "3830f273-163f-41c4-9aa6-ef4f92d717e8"
      },
      "outputs": [
        {
          "name": "stdout",
          "output_type": "stream",
          "text": [
            "enter the number:5\n"
          ]
        }
      ],
      "source": [
        "a=input('enter the number:')"
      ]
    },
    {
      "cell_type": "code",
      "execution_count": 94,
      "metadata": {
        "colab": {
          "base_uri": "https://localhost:8080/"
        },
        "id": "ptgp1d03Wgs_",
        "outputId": "d9302738-8952-4f94-93b2-884f4d2ca9d0"
      },
      "outputs": [
        {
          "output_type": "stream",
          "name": "stdout",
          "text": [
            "8\n"
          ]
        }
      ],
      "source": [
        "def fn(a,b):\n",
        "  c=a+b\n",
        "  print(c)\n",
        "fn(3,5)"
      ]
    },
    {
      "cell_type": "code",
      "execution_count": 95,
      "metadata": {
        "colab": {
          "base_uri": "https://localhost:8080/"
        },
        "id": "ER52Rp9DW9Pq",
        "outputId": "bfebecbd-182a-4cce-d820-551f12d3c9a6"
      },
      "outputs": [
        {
          "output_type": "stream",
          "name": "stdout",
          "text": [
            "Hello Ana\n",
            "Hello Jacob\n"
          ]
        }
      ],
      "source": [
        "def greet(name):\n",
        "    greeting = 'Hello ' + name\n",
        "    return greeting\n",
        "\n",
        "result = greet('Ana')\n",
        "print(result)\n",
        "result = greet('Jacob')\n",
        "print(result)"
      ]
    },
    {
      "cell_type": "code",
      "execution_count": 96,
      "metadata": {
        "colab": {
          "base_uri": "https://localhost:8080/"
        },
        "id": "scVHprqTawB7",
        "outputId": "0598395c-cd54-499b-a75c-23435ffae33a"
      },
      "outputs": [
        {
          "output_type": "stream",
          "name": "stdout",
          "text": [
            "5\n",
            "5\n",
            "25\n"
          ]
        }
      ],
      "source": [
        "\n",
        "# function definition\n",
        "def get_product(number1, number2):\n",
        "    result=number1*number2\n",
        "    return result\n",
        "\n",
        "# get integer input from the user\n",
        "n1 = int(input())\n",
        "n2 = int(input())\n",
        "\n",
        "# call the function with n1 and n2 as arguments\n",
        "# store the returned value in the total variable\n",
        "total = get_product(n1,n2)\n",
        "print(total)"
      ]
    },
    {
      "cell_type": "code",
      "execution_count": 97,
      "metadata": {
        "colab": {
          "base_uri": "https://localhost:8080/"
        },
        "id": "FscBXDo7bhkb",
        "outputId": "fcbe25f6-6558-4843-f3e7-a8143a48c7b2"
      },
      "outputs": [
        {
          "output_type": "stream",
          "name": "stdout",
          "text": [
            "a\n",
            "vowel\n"
          ]
        }
      ],
      "source": [
        "# Replace ___ with your code\n",
        "def check_vowel(character):\n",
        "\n",
        "    if(character == 'a' or character == 'e' or character == 'i' or character == 'o' or character == 'u'):\n",
        "        return \"vowel\"\n",
        "\n",
        "    return \"not vowel\"\n",
        "\n",
        "character = input()\n",
        "result = check_vowel(character)\n",
        "print(result)"
      ]
    },
    {
      "cell_type": "code",
      "execution_count": 98,
      "metadata": {
        "colab": {
          "base_uri": "https://localhost:8080/"
        },
        "id": "ImVarE3Bdne7",
        "outputId": "1ffed23e-707f-4481-95ed-7f350119cc5f"
      },
      "outputs": [
        {
          "output_type": "stream",
          "name": "stdout",
          "text": [
            "Hello\n"
          ]
        }
      ],
      "source": [
        "def greet():\n",
        "    greeting = 'Hello'\n",
        "\n",
        "    print(greeting)\n",
        "greet()\n"
      ]
    },
    {
      "cell_type": "code",
      "execution_count": 99,
      "metadata": {
        "colab": {
          "base_uri": "https://localhost:8080/"
        },
        "id": "r-iIcXpuCQcK",
        "outputId": "5456f714-222a-4e66-f8a6-6b634edc2545"
      },
      "outputs": [
        {
          "output_type": "stream",
          "name": "stdout",
          "text": [
            "9\n",
            "True\n"
          ]
        }
      ],
      "source": [
        "# Replace ___ with your code\n",
        "# create a function checkMultipleofThree\n",
        "def checkMultipleofThree(num):\n",
        "\n",
        "    # check if num is divisible true\n",
        "    if num % 3 == 0:\n",
        "\n",
        "        # return True\n",
        "        return True\n",
        "\n",
        "    # return False\n",
        "    return False\n",
        "\n",
        "\n",
        "#take input from user\n",
        "num = int(input())\n",
        "\n",
        "# call the function to check if the number is multiple of 3\n",
        "result = checkMultipleofThree(num)\n",
        "\n",
        "# print the number\n",
        "print(result)"
      ]
    },
    {
      "cell_type": "code",
      "execution_count": 100,
      "metadata": {
        "colab": {
          "base_uri": "https://localhost:8080/"
        },
        "id": "pUTJ_ctmJV9h",
        "outputId": "77ed5026-1dd6-4cca-e773-1497250449ea"
      },
      "outputs": [
        {
          "output_type": "stream",
          "name": "stdout",
          "text": [
            "5\n",
            "120\n"
          ]
        }
      ],
      "source": [
        "# Replace ___ with your code\n",
        "\n",
        "def compute_factorial(n):\n",
        "    factorial = 1\n",
        "\n",
        "    # computer factorial\n",
        "    for i in range(1,n+1):\n",
        "        factorial = factorial * i\n",
        "\n",
        "    # return factorial\n",
        "    return factorial\n",
        "\n",
        "# get user input\n",
        "number = int(input())\n",
        "total = compute_factorial(number)\n",
        "\n",
        "print(total)"
      ]
    },
    {
      "cell_type": "code",
      "execution_count": 101,
      "metadata": {
        "colab": {
          "base_uri": "https://localhost:8080/"
        },
        "id": "vzKh6KkHLiJP",
        "outputId": "a5ae65a2-35cc-453d-ceb7-8ba4282a8ad4"
      },
      "outputs": [
        {
          "output_type": "stream",
          "name": "stdout",
          "text": [
            "Enter a non-negative integer: 9\n",
            "The factorial of 9 is 362880\n"
          ]
        }
      ],
      "source": [
        "def compute_factorial(n):\n",
        "    factorial = 1\n",
        "    for i in range(1, n + 1):\n",
        "        factorial *= i\n",
        "    return factorial\n",
        "\n",
        "number = int(input(\"Enter a non-negative integer: \"))\n",
        "total = compute_factorial(number)\n",
        "print(f\"The factorial of {number} is {total}\")"
      ]
    },
    {
      "cell_type": "code",
      "execution_count": 105,
      "metadata": {
        "id": "zQ13_aBjH110"
      },
      "outputs": [],
      "source": [
        "class Market:\n",
        "  def __init__(self,veg_price,veg_quantity,fru_price,fru_quantity,cho_price,cho_quantity):\n",
        "    self.veg_price=veg_price\n",
        "    self.veg_quantity=veg_quantity\n",
        "    self.fru_price=fru_price\n",
        "    self.fru_quantity=fru_quantity\n",
        "    self.cho_price=cho_price\n",
        "    self.cho_quantity=cho_quantity\n",
        "    self.__discount=0.20\n",
        "\n",
        "  def set_discount(self,discount):\n",
        "      self.__discount=discount\n",
        "\n",
        "  def get_price(self):\n",
        "       self.veg_cost=self.veg_price*self.veg_quantity*(1-self.__discount)\n",
        "       self.fru_cost=self.fru_price*self.fru_quantity*(1-self.__discount)\n",
        "       self.cho_cost=self.cho_price*self.cho_quantity*(1-self.__discount)\n",
        "       return self.veg_cost,self.fru_cost,self.cho_cost\n",
        "\n",
        "  def __repr__(self):\n",
        "     return f\"cost on veg:{self.veg_cost},cost on fru:{self.fru_cost},cost on cho:{self.cho_cost}\"\n",
        "\n",
        "\n"
      ]
    },
    {
      "cell_type": "code",
      "execution_count": 106,
      "metadata": {
        "colab": {
          "base_uri": "https://localhost:8080/"
        },
        "id": "iJsJYp4xOyTt",
        "outputId": "e90a526e-cb93-4442-ecef-1ec8face41ac"
      },
      "outputs": [
        {
          "output_type": "execute_result",
          "data": {
            "text/plain": [
              "(64.0, 72.0, 64.0)"
            ]
          },
          "metadata": {},
          "execution_count": 106
        }
      ],
      "source": [
        "m=Market(20,4,30,3,40,2)\n",
        "m.get_price()\n"
      ]
    },
    {
      "cell_type": "code",
      "execution_count": 107,
      "metadata": {
        "colab": {
          "base_uri": "https://localhost:8080/"
        },
        "id": "wvy2ow0wPPUh",
        "outputId": "64fd2abe-c809-4f50-d7d0-2bcd114dc2ee"
      },
      "outputs": [
        {
          "output_type": "stream",
          "name": "stdout",
          "text": [
            "cost on veg:64.0,cost on fru:72.0,cost on cho:64.0\n"
          ]
        }
      ],
      "source": [
        "print(m)"
      ]
    },
    {
      "cell_type": "code",
      "execution_count": 108,
      "metadata": {
        "id": "BOmzuXydPwWE"
      },
      "outputs": [],
      "source": [
        "def myFunc(*args):\n",
        "  for arg in args:\n",
        "    print(arg)"
      ]
    },
    {
      "cell_type": "code",
      "source": [
        "myFunc('hi')"
      ],
      "metadata": {
        "colab": {
          "base_uri": "https://localhost:8080/"
        },
        "id": "CA1KrduksFN0",
        "outputId": "5cea5a1c-accc-4414-9b56-581757d9b4df"
      },
      "execution_count": 109,
      "outputs": [
        {
          "output_type": "stream",
          "name": "stdout",
          "text": [
            "hi\n"
          ]
        }
      ]
    },
    {
      "cell_type": "code",
      "source": [],
      "metadata": {
        "id": "0n7NBW7quRLW"
      },
      "execution_count": null,
      "outputs": []
    }
  ],
  "metadata": {
    "colab": {
      "provenance": []
    },
    "kernelspec": {
      "display_name": "Python 3",
      "name": "python3"
    },
    "language_info": {
      "name": "python"
    }
  },
  "nbformat": 4,
  "nbformat_minor": 0
}