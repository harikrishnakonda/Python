{
  "cells": [
    {
      "cell_type": "markdown",
      "metadata": {
        "id": "YMWwam2U7u4C"
      },
      "source": [
        "## Python Class 1 - command to execute is shift+enter"
      ]
    },
    {
      "cell_type": "markdown",
      "metadata": {
        "id": "ztcKyVtm8bg6"
      },
      "source": [
        "## Comments in Python"
      ]
    },
    {
      "cell_type": "code",
      "execution_count": 222,
      "metadata": {
        "colab": {
          "base_uri": "https://localhost:8080/",
          "height": 36
        },
        "id": "vMHNqh-Y8bI1",
        "outputId": "a038cdef-caca-4fe5-836d-99e3b149e05a"
      },
      "outputs": [
        {
          "output_type": "execute_result",
          "data": {
            "text/plain": [
              "'\\nMUltiline comments\\n'"
            ],
            "application/vnd.google.colaboratory.intrinsic+json": {
              "type": "string"
            }
          },
          "metadata": {},
          "execution_count": 222
        }
      ],
      "source": [
        "# Comment means an non executable code\n",
        "\n",
        "# Single line comment\n",
        "\n",
        "'''\n",
        "MUltiline comments\n",
        "'''\n"
      ]
    },
    {
      "cell_type": "markdown",
      "metadata": {
        "id": "IaCUXPqiG5Lq"
      },
      "source": [
        "## Print functions in Python"
      ]
    },
    {
      "cell_type": "code",
      "execution_count": 223,
      "metadata": {
        "colab": {
          "base_uri": "https://localhost:8080/"
        },
        "id": "9cvKyTyfG8uu",
        "outputId": "891a9263-d3f6-4143-c68e-17ea75754592"
      },
      "outputs": [
        {
          "output_type": "stream",
          "name": "stdout",
          "text": [
            "Hello World\n"
          ]
        }
      ],
      "source": [
        "\n",
        "#keywords are group of words that have a specific functionality\n",
        "print (\"Hello World\")"
      ]
    },
    {
      "cell_type": "code",
      "execution_count": 224,
      "metadata": {
        "colab": {
          "base_uri": "https://localhost:8080/"
        },
        "id": "GJUXhPO8HSHZ",
        "outputId": "61c4a13c-3e05-49bb-af84-04d3f60fcf18"
      },
      "outputs": [
        {
          "output_type": "stream",
          "name": "stdout",
          "text": [
            "Python 3.10.12\n"
          ]
        }
      ],
      "source": [
        "#to check version of python\n",
        "!python --version"
      ]
    },
    {
      "cell_type": "code",
      "execution_count": 225,
      "metadata": {
        "id": "zRDA2-w8Hvox",
        "colab": {
          "base_uri": "https://localhost:8080/",
          "height": 53
        },
        "outputId": "3ea61c49-ee31-4c6b-d6af-09b65580defb"
      },
      "outputs": [
        {
          "output_type": "execute_result",
          "data": {
            "text/plain": [
              "'\\nPython is a interpretor.\\n\\ncode -> Compiler/interpretor(Syntax check) -> MachineCode\\n\\nCompiler : Tries to execute the code at once\\nInterpretor : tries to compile the code line by line\\n'"
            ],
            "application/vnd.google.colaboratory.intrinsic+json": {
              "type": "string"
            }
          },
          "metadata": {},
          "execution_count": 225
        }
      ],
      "source": [
        "'''\n",
        "Python is a interpretor.\n",
        "\n",
        "code -> Compiler/interpretor(Syntax check) -> MachineCode\n",
        "\n",
        "Compiler : Tries to execute the code at once\n",
        "Interpretor : tries to compile the code line by line\n",
        "'''"
      ]
    },
    {
      "cell_type": "markdown",
      "metadata": {
        "id": "tXp9IYQ1Cump"
      },
      "source": [
        "## Indentation"
      ]
    },
    {
      "cell_type": "code",
      "execution_count": 226,
      "metadata": {
        "colab": {
          "base_uri": "https://localhost:8080/"
        },
        "id": "JjGdyaRSCfcl",
        "outputId": "54cde6fa-d2a5-4e98-87b9-d7b213e4621c"
      },
      "outputs": [
        {
          "output_type": "stream",
          "name": "stdout",
          "text": [
            "Five is greater than two\n"
          ]
        }
      ],
      "source": [
        "if 5 > 2:\n",
        "  print ('Five is greater than two')"
      ]
    },
    {
      "cell_type": "code",
      "execution_count": 227,
      "metadata": {
        "colab": {
          "base_uri": "https://localhost:8080/"
        },
        "id": "4ho19yvFDmoy",
        "outputId": "067d75ef-5d12-43c1-9cc7-431180a210cc"
      },
      "outputs": [
        {
          "output_type": "stream",
          "name": "stdout",
          "text": [
            "hello\n",
            "hi\n",
            "1\n",
            "Five is greater than two\n"
          ]
        }
      ],
      "source": [
        "if 5 > 2:\n",
        "  print ('hello')\n",
        "  if 3 < 7:\n",
        "    print ('hi')\n",
        "    print ('1')\n",
        "\n",
        "print ('Five is greater than two')"
      ]
    },
    {
      "cell_type": "code",
      "execution_count": 228,
      "metadata": {
        "colab": {
          "base_uri": "https://localhost:8080/",
          "height": 36
        },
        "id": "v98746mnDvRf",
        "outputId": "1f75ef34-9121-428e-b8c6-b9e69d1a63d0"
      },
      "outputs": [
        {
          "output_type": "execute_result",
          "data": {
            "text/plain": [
              "'\\nThis is Ajay\\nDataScientist at DELL\\n'"
            ],
            "application/vnd.google.colaboratory.intrinsic+json": {
              "type": "string"
            }
          },
          "metadata": {},
          "execution_count": 228
        }
      ],
      "source": [
        "# This is a python class\n",
        "\n",
        "'''\n",
        "This is Ajay\n",
        "DataScientist at DELL\n",
        "'''"
      ]
    },
    {
      "cell_type": "markdown",
      "metadata": {
        "id": "Wj5AmTEPFo4m"
      },
      "source": [
        "## Variables"
      ]
    },
    {
      "cell_type": "code",
      "execution_count": 229,
      "metadata": {
        "colab": {
          "base_uri": "https://localhost:8080/"
        },
        "id": "TSt7tGTwFWV7",
        "outputId": "501bae33-ebab-4d2f-c003-410c1bc380fe"
      },
      "outputs": [
        {
          "output_type": "stream",
          "name": "stdout",
          "text": [
            "5\n",
            "King\n"
          ]
        }
      ],
      "source": [
        "#variables are something that tend to change\n",
        "x = 5\n",
        "y = \"King\" # all the words or sentences should be in \"\"\n",
        "print (x)\n",
        "print (y)"
      ]
    },
    {
      "cell_type": "code",
      "execution_count": 230,
      "metadata": {
        "colab": {
          "base_uri": "https://localhost:8080/"
        },
        "id": "TjpMOYAOGC_-",
        "outputId": "edc4dcd9-16a8-45ac-aca7-a02f83836a0b"
      },
      "outputs": [
        {
          "output_type": "stream",
          "name": "stdout",
          "text": [
            "5\n",
            "Ram\n"
          ]
        }
      ],
      "source": [
        "#variable values can be replaced\n",
        "x = 5\n",
        "print (x)\n",
        "x = 'Ram'\n",
        "print (x)"
      ]
    },
    {
      "cell_type": "code",
      "execution_count": 231,
      "metadata": {
        "colab": {
          "base_uri": "https://localhost:8080/"
        },
        "id": "4lzpz9ITGtrk",
        "outputId": "17fcf883-6258-40c8-baf2-b4eb28731a5d"
      },
      "outputs": [
        {
          "output_type": "stream",
          "name": "stdout",
          "text": [
            "Hello world\n"
          ]
        }
      ],
      "source": [
        "x = 10\n",
        "if x > 5:\n",
        "  print ('Hello world')"
      ]
    },
    {
      "cell_type": "markdown",
      "metadata": {
        "id": "SeX-_nX_HKSx"
      },
      "source": [
        "## Casting"
      ]
    },
    {
      "cell_type": "code",
      "execution_count": 232,
      "metadata": {
        "colab": {
          "base_uri": "https://localhost:8080/"
        },
        "id": "lB9fkOidG_rr",
        "outputId": "fd8f30ee-d3d0-49b8-f359-8d629f495c09"
      },
      "outputs": [
        {
          "output_type": "stream",
          "name": "stdout",
          "text": [
            "<class 'int'>\n"
          ]
        }
      ],
      "source": [
        "x = 3\n",
        "print (type(x)) # type is the keyword to find the datatype in python"
      ]
    },
    {
      "cell_type": "code",
      "execution_count": 233,
      "metadata": {
        "id": "LfFD0jtjHmsV"
      },
      "outputs": [],
      "source": [
        "x = int(3)\n",
        "x = str(3)\n",
        "x = float(3)"
      ]
    },
    {
      "cell_type": "code",
      "execution_count": 234,
      "metadata": {
        "colab": {
          "base_uri": "https://localhost:8080/"
        },
        "id": "G0wH8U-sH0VW",
        "outputId": "e314dd38-4da4-409a-9955-0947c3b3cbc9"
      },
      "outputs": [
        {
          "output_type": "execute_result",
          "data": {
            "text/plain": [
              "3.0"
            ]
          },
          "metadata": {},
          "execution_count": 234
        }
      ],
      "source": [
        "x"
      ]
    },
    {
      "cell_type": "code",
      "execution_count": 235,
      "metadata": {
        "colab": {
          "base_uri": "https://localhost:8080/"
        },
        "id": "aSlZxZNCH6SW",
        "outputId": "28fbc8f6-e91c-4ddb-c4fe-52e6485333a1"
      },
      "outputs": [
        {
          "output_type": "stream",
          "name": "stdout",
          "text": [
            "100\n"
          ]
        }
      ],
      "source": [
        "# declare a variable x with 100 and convert it to string and print\n",
        "\n",
        "x = 100\n",
        "y = str(x)\n",
        "print (y)"
      ]
    },
    {
      "cell_type": "code",
      "execution_count": 236,
      "metadata": {
        "colab": {
          "base_uri": "https://localhost:8080/",
          "height": 36
        },
        "id": "JzUnblL9IRF_",
        "outputId": "adca25d6-1390-4399-8d40-cb2092aaf1e5"
      },
      "outputs": [
        {
          "output_type": "execute_result",
          "data": {
            "text/plain": [
              "'100'"
            ],
            "application/vnd.google.colaboratory.intrinsic+json": {
              "type": "string"
            }
          },
          "metadata": {},
          "execution_count": 236
        }
      ],
      "source": [
        "str(100)"
      ]
    },
    {
      "cell_type": "code",
      "execution_count": 237,
      "metadata": {
        "id": "7s7qe7HRIYdT",
        "colab": {
          "base_uri": "https://localhost:8080/"
        },
        "outputId": "72313195-dcbf-4f9f-a5f6-09977ec3e60c"
      },
      "outputs": [
        {
          "output_type": "execute_result",
          "data": {
            "text/plain": [
              "str"
            ]
          },
          "metadata": {},
          "execution_count": 237
        }
      ],
      "source": [
        "x = \"John\"\n",
        "x = 'John'\n",
        "# python '' or \"\" mean the same\n",
        "type(x)"
      ]
    },
    {
      "cell_type": "code",
      "execution_count": 238,
      "metadata": {
        "colab": {
          "base_uri": "https://localhost:8080/"
        },
        "id": "NsAgpFbRIwfI",
        "outputId": "7594fea4-73bd-43c9-e6c9-efaa2bfc393e"
      },
      "outputs": [
        {
          "output_type": "stream",
          "name": "stdout",
          "text": [
            "My name is Ajay\n"
          ]
        }
      ],
      "source": [
        "x = 'Ajay'\n",
        "if x == 'Ajay':\n",
        "  print ('My name is Ajay')"
      ]
    },
    {
      "cell_type": "code",
      "execution_count": 239,
      "metadata": {
        "colab": {
          "base_uri": "https://localhost:8080/"
        },
        "id": "CRABbGhfJdrT",
        "outputId": "1c24d9b6-4b87-414d-ec72-5eb69e258055"
      },
      "outputs": [
        {
          "output_type": "stream",
          "name": "stdout",
          "text": [
            "My name is Ajay\n"
          ]
        }
      ],
      "source": [
        "# formatting\n",
        "x = 'Ajay'\n",
        "if x == 'Ajay':\n",
        "  print (f'My name is {x}')"
      ]
    },
    {
      "cell_type": "code",
      "execution_count": 240,
      "metadata": {
        "colab": {
          "base_uri": "https://localhost:8080/"
        },
        "id": "WLNgr6odJr5V",
        "outputId": "64d606e8-b40c-4c48-f7cb-e68a16602bd7"
      },
      "outputs": [
        {
          "output_type": "stream",
          "name": "stdout",
          "text": [
            "I boughts 40 apples and 20 oranges\n"
          ]
        }
      ],
      "source": [
        "apples = 40\n",
        "oranges = 20\n",
        "\n",
        "print (f'I boughts {apples} apples and {oranges} oranges')"
      ]
    },
    {
      "cell_type": "code",
      "execution_count": 241,
      "metadata": {
        "id": "q2h0mpKjJ4gQ",
        "colab": {
          "base_uri": "https://localhost:8080/",
          "height": 36
        },
        "outputId": "b0a3565a-948b-42ee-d843-5450cafe7905"
      },
      "outputs": [
        {
          "output_type": "execute_result",
          "data": {
            "text/plain": [
              "'\\nmyvar,my_var,_my_var,myVar,MYVAR,myvar2 -- Legalones\\n\\n2myvar,my-var, my var\\n'"
            ],
            "application/vnd.google.colaboratory.intrinsic+json": {
              "type": "string"
            }
          },
          "metadata": {},
          "execution_count": 241
        }
      ],
      "source": [
        "# Restrictions on how variable names are declared\n",
        "'''\n",
        "myvar,my_var,_my_var,myVar,MYVAR,myvar2 -- Legalones\n",
        "\n",
        "2myvar,my-var, my var\n",
        "'''"
      ]
    },
    {
      "cell_type": "code",
      "execution_count": 242,
      "metadata": {
        "colab": {
          "base_uri": "https://localhost:8080/"
        },
        "id": "OqPUZRSJLqQa",
        "outputId": "00e3424d-356a-480b-d822-a3d06a4d6126"
      },
      "outputs": [
        {
          "output_type": "stream",
          "name": "stdout",
          "text": [
            "Orange\n",
            "Apple\n",
            "Banana\n"
          ]
        }
      ],
      "source": [
        "x, y, z = 'Orange','Apple','Banana' # Many values to many vaiables\n",
        "\n",
        "print (x)\n",
        "print (y)\n",
        "print (z)"
      ]
    },
    {
      "cell_type": "code",
      "execution_count": 243,
      "metadata": {
        "colab": {
          "base_uri": "https://localhost:8080/"
        },
        "id": "PqE7ZwofMlNB",
        "outputId": "a24db579-9023-4431-fe1a-f64ec92f4a12"
      },
      "outputs": [
        {
          "output_type": "stream",
          "name": "stdout",
          "text": [
            "Grapes\n",
            "Grapes\n",
            "Grapes\n"
          ]
        }
      ],
      "source": [
        "x = y = z = 'Grapes' #one value to multiple variables\n",
        "\n",
        "print (x)\n",
        "print (y)\n",
        "print (z)"
      ]
    },
    {
      "cell_type": "code",
      "execution_count": 244,
      "metadata": {
        "colab": {
          "base_uri": "https://localhost:8080/"
        },
        "id": "7W2z8YYFM5Zf",
        "outputId": "529d6241-4378-4235-d85a-b3cfdef95fb2"
      },
      "outputs": [
        {
          "output_type": "stream",
          "name": "stdout",
          "text": [
            "apple\n",
            "banana\n",
            "Mango\n"
          ]
        }
      ],
      "source": [
        "#unpack a collection\n",
        "\n",
        "fruits = ['apple','banana','Mango']\n",
        "x,y,z = fruits\n",
        "print (x)\n",
        "print (y)\n",
        "print (z)"
      ]
    },
    {
      "cell_type": "code",
      "execution_count": 245,
      "metadata": {
        "id": "adDO4beENSYs"
      },
      "outputs": [],
      "source": [
        "# 1. create collection of 4 names and print using format\n",
        "# 2. Create a varibles names with 4 legal and 4 ilegal\n",
        "# 3. Declare same value to 3 vaiables and convert first variable to string, second to float and third to float. print all three variables"
      ]
    },
    {
      "cell_type": "code",
      "execution_count": 246,
      "metadata": {
        "colab": {
          "base_uri": "https://localhost:8080/"
        },
        "id": "cVEi0uj1MHQn",
        "outputId": "a3390fb1-b494-4775-a79a-de21f8ef95ed"
      },
      "outputs": [
        {
          "output_type": "stream",
          "name": "stdout",
          "text": [
            "The name is Ravi\n",
            "The name is Raju\n",
            "The name is Ram\n",
            "The name is Vinay\n"
          ]
        }
      ],
      "source": [
        "names = ['Ravi','Raju','Ram','Vinay']\n",
        "\n",
        "x,y,z,w = names\n",
        "\n",
        "print (f'The name is {x}')\n",
        "print (f'The name is {y}')\n",
        "print (f'The name is {z}')\n",
        "print (f'The name is {w}')"
      ]
    },
    {
      "cell_type": "code",
      "execution_count": 247,
      "metadata": {
        "colab": {
          "base_uri": "https://localhost:8080/"
        },
        "id": "0RFBl0y6McCU",
        "outputId": "4444207d-da6c-44de-d1e3-557416bdc501"
      },
      "outputs": [
        {
          "output_type": "stream",
          "name": "stdout",
          "text": [
            "3\n",
            "3.0\n",
            "3.0\n"
          ]
        }
      ],
      "source": [
        "x=y=z=3\n",
        "print (str(x))\n",
        "print (float(y))\n",
        "print (float(z))"
      ]
    },
    {
      "cell_type": "markdown",
      "metadata": {
        "id": "cscmXulLNQfU"
      },
      "source": [
        "# print function for multiple variables"
      ]
    },
    {
      "cell_type": "code",
      "execution_count": 248,
      "metadata": {
        "colab": {
          "base_uri": "https://localhost:8080/"
        },
        "id": "Uz9zB0YgNAiJ",
        "outputId": "0901c9da-0606-4f04-834e-b0309583ada7"
      },
      "outputs": [
        {
          "output_type": "stream",
          "name": "stdout",
          "text": [
            "Unitedstates\n",
            "United states\n",
            "United states\n"
          ]
        }
      ],
      "source": [
        "a = 'United' #string\n",
        "b = 'states' #string\n",
        "c = ' '\n",
        "print (a+b) #+ operator is used to concatenate two strings\n",
        "print (a+c+b)\n",
        "print (f'{a} {b}')"
      ]
    },
    {
      "cell_type": "code",
      "execution_count": 249,
      "metadata": {
        "colab": {
          "base_uri": "https://localhost:8080/"
        },
        "id": "PC5NX6rYNeVa",
        "outputId": "186f1ea6-2abe-4d8e-ca8b-0190f2dcd82f"
      },
      "outputs": [
        {
          "output_type": "stream",
          "name": "stdout",
          "text": [
            "I bought 4 apples\n"
          ]
        }
      ],
      "source": [
        "# Qustion is I bought 4 apples as varibales : Concatenate them\n",
        "\n",
        "x = 'I '\n",
        "y = 'bought '\n",
        "z = '4 '\n",
        "w = 'apples'\n",
        "\n",
        "print (x+y+z+w)"
      ]
    },
    {
      "cell_type": "markdown",
      "metadata": {
        "id": "29U4B3_KPORE"
      },
      "source": [
        "## Functions"
      ]
    },
    {
      "cell_type": "code",
      "execution_count": 250,
      "metadata": {
        "id": "ivZCpN16OV3r",
        "colab": {
          "base_uri": "https://localhost:8080/",
          "height": 36
        },
        "outputId": "6834926c-535a-408c-a3bd-96b961d23e6a"
      },
      "outputs": [
        {
          "output_type": "execute_result",
          "data": {
            "text/plain": [
              "'\\nScenario : Addition of three numbers\\n\\n1,2,3\\n4,5,6\\n7,8,9\\n'"
            ],
            "application/vnd.google.colaboratory.intrinsic+json": {
              "type": "string"
            }
          },
          "metadata": {},
          "execution_count": 250
        }
      ],
      "source": [
        "'''\n",
        "Scenario : Addition of three numbers\n",
        "\n",
        "1,2,3\n",
        "4,5,6\n",
        "7,8,9\n",
        "'''"
      ]
    },
    {
      "cell_type": "code",
      "execution_count": 251,
      "metadata": {
        "colab": {
          "base_uri": "https://localhost:8080/"
        },
        "id": "ie1vtSlKPgZI",
        "outputId": "3025f1f0-31b3-464c-902f-e097f6230914"
      },
      "outputs": [
        {
          "output_type": "stream",
          "name": "stdout",
          "text": [
            "6\n",
            "15\n",
            "24\n"
          ]
        }
      ],
      "source": [
        "x = 1\n",
        "y = 2\n",
        "z = 3\n",
        "\n",
        "print (x+y+z)\n",
        "\n",
        "x = 4\n",
        "y = 5\n",
        "z = 6\n",
        "\n",
        "print (x+y+z)\n",
        "\n",
        "x = 7\n",
        "y = 8\n",
        "z = 9\n",
        "\n",
        "print (x+y+z)"
      ]
    },
    {
      "cell_type": "code",
      "execution_count": 252,
      "metadata": {
        "colab": {
          "base_uri": "https://localhost:8080/"
        },
        "id": "CBwLTthXPtkn",
        "outputId": "cb0722a6-7519-4f1c-9513-97912ec3f924"
      },
      "outputs": [
        {
          "output_type": "stream",
          "name": "stdout",
          "text": [
            "6\n",
            "15\n",
            "24\n"
          ]
        }
      ],
      "source": [
        "def sum3(x,y,z): # def funcname(arguments) : Function creation\n",
        "  sum = x+y+z\n",
        "  return sum\n",
        "\n",
        "print (sum3(1,2,3)) # function calling\n",
        "print (sum3(4,5,6)) # function calling\n",
        "print (sum3(7,8,9)) # function calling"
      ]
    },
    {
      "cell_type": "code",
      "execution_count": 253,
      "metadata": {
        "colab": {
          "base_uri": "https://localhost:8080/"
        },
        "id": "keyjssIqROuv",
        "outputId": "b0e3fd74-a9d5-48ba-b456-ec2feda52a62"
      },
      "outputs": [
        {
          "output_type": "stream",
          "name": "stdout",
          "text": [
            "Python is awesome\n"
          ]
        }
      ],
      "source": [
        "# declare a variable with a value awesome and create a function that prints \"Python is awesome\"\n",
        "\n",
        "def func1(a): #varibles that are there in the method are called local variables\n",
        "  x = 'fantastic'\n",
        "  print (f'Python is {a}')\n",
        "\n",
        "x = 'awesome' #varibles that are declared outside the method are called as global variables\n",
        "func1(x)"
      ]
    },
    {
      "cell_type": "code",
      "execution_count": 254,
      "metadata": {
        "colab": {
          "base_uri": "https://localhost:8080/"
        },
        "id": "Hv0CXmPbSInx",
        "outputId": "f819410e-66f9-4420-96c2-6ce23557c8d8"
      },
      "outputs": [
        {
          "output_type": "stream",
          "name": "stdout",
          "text": [
            "Python is awesome\n"
          ]
        }
      ],
      "source": [
        "variable = \"awesome\"\n",
        "def print_x(m):\n",
        "    print(\"Python is\",m)\n",
        "\n",
        "print_x(variable)"
      ]
    },
    {
      "cell_type": "code",
      "execution_count": 255,
      "metadata": {
        "id": "mDdPlx6aTh69"
      },
      "outputs": [],
      "source": [
        "# python method to find sum and multiplication of three numbers\n",
        "# hint : methodname(2,3,4,'sum')\n",
        "\n",
        "def summul(a,b,c,operation):\n",
        "  if operation == 'sum':\n",
        "    ans = a+b+c\n",
        "\n",
        "  if operation == 'mul':\n",
        "    ans = a*b*c\n",
        "\n",
        "  return ans"
      ]
    },
    {
      "cell_type": "code",
      "execution_count": 256,
      "metadata": {
        "colab": {
          "base_uri": "https://localhost:8080/"
        },
        "id": "wohqoPgrV3Fp",
        "outputId": "d813310f-dfb3-4aa6-cebe-450c4ff7ad12"
      },
      "outputs": [
        {
          "output_type": "execute_result",
          "data": {
            "text/plain": [
              "9"
            ]
          },
          "metadata": {},
          "execution_count": 256
        }
      ],
      "source": [
        "summul(2,3,4,'sum')"
      ]
    },
    {
      "cell_type": "code",
      "execution_count": 257,
      "metadata": {
        "colab": {
          "base_uri": "https://localhost:8080/"
        },
        "id": "bPOc1v3hV8JM",
        "outputId": "f10f177e-8dcc-4b92-db41-24f3b7de4724"
      },
      "outputs": [
        {
          "output_type": "execute_result",
          "data": {
            "text/plain": [
              "24"
            ]
          },
          "metadata": {},
          "execution_count": 257
        }
      ],
      "source": [
        "summul(2,3,4,'mul')"
      ]
    },
    {
      "cell_type": "code",
      "execution_count": 258,
      "metadata": {
        "colab": {
          "base_uri": "https://localhost:8080/"
        },
        "id": "ibkkyoZ4Wzhi",
        "outputId": "1e6960a9-40f3-46be-9e98-d76d9e89d0ed"
      },
      "outputs": [
        {
          "output_type": "execute_result",
          "data": {
            "text/plain": [
              "1"
            ]
          },
          "metadata": {},
          "execution_count": 258
        }
      ],
      "source": [
        "5%2"
      ]
    },
    {
      "cell_type": "code",
      "execution_count": 259,
      "metadata": {
        "id": "qR0qca6fV-na"
      },
      "outputs": [],
      "source": [
        "# python method findevenorodd(45)\n",
        "#Hint : num % 2 == 0 : % Remainder"
      ]
    },
    {
      "cell_type": "code",
      "execution_count": 260,
      "metadata": {
        "colab": {
          "base_uri": "https://localhost:8080/"
        },
        "id": "f0CX45VsX2Ql",
        "outputId": "026b86cb-1934-4da1-9736-5fe5ce203dbf"
      },
      "outputs": [
        {
          "output_type": "stream",
          "name": "stdout",
          "text": [
            "even\n"
          ]
        }
      ],
      "source": [
        "def findevenorodd(num):\n",
        "  if (num % 2 == 0):\n",
        "    print ('even')\n",
        "  if (num % 2 != 0):\n",
        "    print ('odd')\n",
        "\n",
        "findevenorodd(444)"
      ]
    },
    {
      "cell_type": "code",
      "execution_count": 261,
      "metadata": {
        "colab": {
          "base_uri": "https://localhost:8080/",
          "height": 36
        },
        "id": "cy66geTcYLtv",
        "outputId": "939a4e22-9b61-45d4-f17b-2e625be2a381"
      },
      "outputs": [
        {
          "output_type": "execute_result",
          "data": {
            "text/plain": [
              "'even'"
            ],
            "application/vnd.google.colaboratory.intrinsic+json": {
              "type": "string"
            }
          },
          "metadata": {},
          "execution_count": 261
        }
      ],
      "source": [
        "def findevenorodd(num):\n",
        "  if (num % 2 == 0):\n",
        "    result = 'even'\n",
        "  if (num % 2 != 0):\n",
        "    result = 'odd'\n",
        "  return result\n",
        "\n",
        "findevenorodd(444)"
      ]
    },
    {
      "cell_type": "markdown",
      "metadata": {
        "id": "vy5Y8lFHIp8A"
      },
      "source": [
        "## DataTypes in Python"
      ]
    },
    {
      "cell_type": "code",
      "execution_count": 262,
      "metadata": {
        "id": "al95k1Y6YXpU"
      },
      "outputs": [],
      "source": [
        "'''\n",
        "Text type : str\n",
        "NUmeric ical TYpes : int, float, comple\n",
        "Sequene datatypes : list, tuple and range\n",
        "Mapping TYpe : dict\n",
        "settypes : set\n",
        "Boolean Type:\tbool\n",
        "Binary Types:\tbytes, bytearray, memoryview\n",
        "None Type:\tNoneType\n",
        "'''\n",
        "x = 'Dog killed a cat'\n",
        "y = 64\n",
        "z = 75.432\n",
        "m1 = ['aijigr','fhuwhebr','fg'] # list needs to be in square bracket, list can take only strings, only numbers or both\n",
        "m2 = [4,5.67,5.21]\n",
        "m3 = ['deesg',4.4,'gregr']\n",
        "n1 = ()\n",
        "l1 = [i for i in range(10)]\n",
        "l2 = [i for i in range(0,5)] #(start position, end_position)\n",
        "l3 = [i for i in range(0,5,2)]"
      ]
    },
    {
      "cell_type": "code",
      "execution_count": 263,
      "metadata": {
        "colab": {
          "base_uri": "https://localhost:8080/"
        },
        "id": "6U-eiBXRKUn5",
        "outputId": "cb83157e-f3a0-4129-d2d5-2707c4cade12"
      },
      "outputs": [
        {
          "output_type": "execute_result",
          "data": {
            "text/plain": [
              "[0, 1, 2, 3, 4, 5, 6, 7, 8, 9]"
            ]
          },
          "metadata": {},
          "execution_count": 263
        }
      ],
      "source": [
        "l1"
      ]
    },
    {
      "cell_type": "code",
      "execution_count": 264,
      "metadata": {
        "colab": {
          "base_uri": "https://localhost:8080/"
        },
        "id": "YmVVAhZ1KhnZ",
        "outputId": "b14ca24c-7565-4767-b401-d3c54a7ac27a"
      },
      "outputs": [
        {
          "output_type": "execute_result",
          "data": {
            "text/plain": [
              "[0, 1, 2, 3, 4]"
            ]
          },
          "metadata": {},
          "execution_count": 264
        }
      ],
      "source": [
        "l2"
      ]
    },
    {
      "cell_type": "code",
      "execution_count": 265,
      "metadata": {
        "colab": {
          "base_uri": "https://localhost:8080/"
        },
        "id": "olNRJd-YK65k",
        "outputId": "b0f661ab-2e39-4351-f98c-18619e6abf23"
      },
      "outputs": [
        {
          "output_type": "execute_result",
          "data": {
            "text/plain": [
              "[0, 2, 4]"
            ]
          },
          "metadata": {},
          "execution_count": 265
        }
      ],
      "source": [
        "l3"
      ]
    },
    {
      "cell_type": "code",
      "execution_count": 266,
      "metadata": {
        "colab": {
          "base_uri": "https://localhost:8080/"
        },
        "id": "eyyHTLd5I8A4",
        "outputId": "2f9d333c-5491-4856-d860-84e3ba079f69"
      },
      "outputs": [
        {
          "output_type": "stream",
          "name": "stdout",
          "text": [
            "<class 'str'>\n",
            "<class 'int'>\n",
            "<class 'float'>\n"
          ]
        }
      ],
      "source": [
        "print(type(x))\n",
        "print(type(y))\n",
        "print(type(z))"
      ]
    },
    {
      "cell_type": "code",
      "execution_count": 267,
      "metadata": {
        "id": "bdLyhD8JI_LH"
      },
      "outputs": [],
      "source": [
        "l2 = [i for i in range(20,40)]\n",
        "l2 = [i for i in range(20,40,4)]"
      ]
    },
    {
      "cell_type": "code",
      "execution_count": 268,
      "metadata": {
        "id": "Y9Ehc6oWLnRv"
      },
      "outputs": [],
      "source": [
        "x = 1\n",
        "y = 2.8"
      ]
    },
    {
      "cell_type": "code",
      "execution_count": 269,
      "metadata": {
        "colab": {
          "base_uri": "https://localhost:8080/"
        },
        "id": "YWTx8ZSWLnOC",
        "outputId": "ce64eb49-12f2-4a34-bf6b-6ddbbeaefa8d"
      },
      "outputs": [
        {
          "output_type": "execute_result",
          "data": {
            "text/plain": [
              "int"
            ]
          },
          "metadata": {},
          "execution_count": 269
        }
      ],
      "source": [
        "type(x)"
      ]
    },
    {
      "cell_type": "code",
      "execution_count": 270,
      "metadata": {
        "colab": {
          "base_uri": "https://localhost:8080/"
        },
        "id": "hTjczheVMDAI",
        "outputId": "6c842a70-b213-4ac1-9833-bcde9462f0cf"
      },
      "outputs": [
        {
          "output_type": "execute_result",
          "data": {
            "text/plain": [
              "float"
            ]
          },
          "metadata": {},
          "execution_count": 270
        }
      ],
      "source": [
        "type(y)"
      ]
    },
    {
      "cell_type": "code",
      "execution_count": 271,
      "metadata": {
        "id": "gslytbveMEMf"
      },
      "outputs": [],
      "source": [
        "a = float(x)\n",
        "b = int(y)"
      ]
    },
    {
      "cell_type": "code",
      "execution_count": 272,
      "metadata": {
        "colab": {
          "base_uri": "https://localhost:8080/"
        },
        "id": "BT3qC_w5MR6J",
        "outputId": "f99d58b8-9dfc-49f3-8d35-dea8a5eb2e64"
      },
      "outputs": [
        {
          "output_type": "execute_result",
          "data": {
            "text/plain": [
              "2"
            ]
          },
          "metadata": {},
          "execution_count": 272
        }
      ],
      "source": [
        "import random #import is a keyword to call the libraries into your code\n",
        "random.randrange(1,10)"
      ]
    },
    {
      "cell_type": "code",
      "execution_count": 273,
      "metadata": {
        "colab": {
          "base_uri": "https://localhost:8080/"
        },
        "id": "8262YCWLMvyZ",
        "outputId": "74cb3ddf-6c9f-4269-ca8d-c87769dbfa12"
      },
      "outputs": [
        {
          "output_type": "execute_result",
          "data": {
            "text/plain": [
              "1.0"
            ]
          },
          "metadata": {},
          "execution_count": 273
        }
      ],
      "source": [
        "x = \"1\"\n",
        "float(x)"
      ]
    },
    {
      "cell_type": "markdown",
      "metadata": {
        "id": "1A_2XLj0NeXO"
      },
      "source": [
        "## Strings"
      ]
    },
    {
      "cell_type": "code",
      "execution_count": 274,
      "metadata": {
        "colab": {
          "base_uri": "https://localhost:8080/"
        },
        "id": "aLyewNkINMvq",
        "outputId": "abfa1ffa-9b2e-48e6-94a7-191226af3aad"
      },
      "outputs": [
        {
          "output_type": "stream",
          "name": "stdout",
          "text": [
            "Hello\n"
          ]
        }
      ],
      "source": [
        "a = 'Hello'\n",
        "print (a)"
      ]
    },
    {
      "cell_type": "code",
      "execution_count": 275,
      "metadata": {
        "colab": {
          "base_uri": "https://localhost:8080/"
        },
        "id": "1y4vHkceNqcy",
        "outputId": "8fdc930d-f6e3-4be2-f458-11a6db72036e"
      },
      "outputs": [
        {
          "output_type": "stream",
          "name": "stdout",
          "text": [
            "\n",
            "This is a Datascince course\n",
            "We are in batch 2\n",
            "We started with python\n",
            "\n"
          ]
        }
      ],
      "source": [
        "b = \"\"\"\n",
        "This is a Datascince course\n",
        "We are in batch 2\n",
        "We started with python\n",
        "\"\"\"\n",
        "print (b)"
      ]
    },
    {
      "cell_type": "code",
      "execution_count": 276,
      "metadata": {
        "id": "h9ni1iO_N63b"
      },
      "outputs": [],
      "source": [
        "a = \"I like icecream\""
      ]
    },
    {
      "cell_type": "code",
      "execution_count": 277,
      "metadata": {
        "colab": {
          "base_uri": "https://localhost:8080/",
          "height": 36
        },
        "id": "-nKQwv1XOCMG",
        "outputId": "3c165050-83a3-46df-f6c9-d4863500b9f3"
      },
      "outputs": [
        {
          "output_type": "execute_result",
          "data": {
            "text/plain": [
              "'I'"
            ],
            "application/vnd.google.colaboratory.intrinsic+json": {
              "type": "string"
            }
          },
          "metadata": {},
          "execution_count": 277
        }
      ],
      "source": [
        "a[0]"
      ]
    },
    {
      "cell_type": "code",
      "execution_count": 278,
      "metadata": {
        "colab": {
          "base_uri": "https://localhost:8080/"
        },
        "id": "teJKsvOkOQZM",
        "outputId": "62d54455-b876-42e2-d291-6152e091800f"
      },
      "outputs": [
        {
          "output_type": "execute_result",
          "data": {
            "text/plain": [
              "15"
            ]
          },
          "metadata": {},
          "execution_count": 278
        }
      ],
      "source": [
        "len(a)"
      ]
    },
    {
      "cell_type": "code",
      "execution_count": 279,
      "metadata": {
        "colab": {
          "base_uri": "https://localhost:8080/"
        },
        "id": "2aiiWE6LOTpl",
        "outputId": "20ed1487-3dfd-4d04-c870-5843ca085cd6"
      },
      "outputs": [
        {
          "output_type": "stream",
          "name": "stdout",
          "text": [
            "I\n",
            " \n",
            "l\n",
            "i\n",
            "k\n",
            "e\n",
            " \n",
            "i\n",
            "c\n",
            "e\n",
            "c\n",
            "r\n",
            "e\n",
            "a\n",
            "m\n"
          ]
        }
      ],
      "source": [
        "for i in a:\n",
        "  print(i)"
      ]
    },
    {
      "cell_type": "code",
      "execution_count": 280,
      "metadata": {
        "colab": {
          "base_uri": "https://localhost:8080/"
        },
        "id": "4MBIsiy5OhMq",
        "outputId": "1f7fb2fd-acf1-4926-b626-f69b0972794a"
      },
      "outputs": [
        {
          "output_type": "stream",
          "name": "stdout",
          "text": [
            "I\n",
            " \n",
            "l\n",
            "i\n",
            "k\n",
            "e\n",
            " \n",
            "i\n",
            "c\n",
            "e\n",
            "c\n",
            "r\n",
            "e\n",
            "a\n",
            "m\n"
          ]
        }
      ],
      "source": [
        "for i in range(0,len(a)):\n",
        "  print (a[i])"
      ]
    },
    {
      "cell_type": "code",
      "execution_count": 281,
      "metadata": {
        "colab": {
          "base_uri": "https://localhost:8080/",
          "height": 36
        },
        "id": "HZBUwYc3OwUR",
        "outputId": "a159b44c-b6cb-4a51-bd33-117a568d43b3"
      },
      "outputs": [
        {
          "output_type": "execute_result",
          "data": {
            "text/plain": [
              "'I like icecream'"
            ],
            "application/vnd.google.colaboratory.intrinsic+json": {
              "type": "string"
            }
          },
          "metadata": {},
          "execution_count": 281
        }
      ],
      "source": [
        "a"
      ]
    },
    {
      "cell_type": "code",
      "execution_count": 282,
      "metadata": {
        "colab": {
          "base_uri": "https://localhost:8080/"
        },
        "id": "3sP4Prm4O7Gx",
        "outputId": "c114f0ca-10a7-49f8-d0e7-876fd54b73c7"
      },
      "outputs": [
        {
          "output_type": "execute_result",
          "data": {
            "text/plain": [
              "['I ', ' icecream']"
            ]
          },
          "metadata": {},
          "execution_count": 282
        }
      ],
      "source": [
        "a.split('like')"
      ]
    },
    {
      "cell_type": "code",
      "execution_count": 283,
      "metadata": {
        "colab": {
          "base_uri": "https://localhost:8080/"
        },
        "id": "MOHizxhHO95E",
        "outputId": "042e63b8-88c9-48ba-b824-b424ac64f2ab"
      },
      "outputs": [
        {
          "output_type": "stream",
          "name": "stdout",
          "text": [
            "['My', 'name', 'is', 'Ajay']\n"
          ]
        }
      ],
      "source": [
        "str1 = 'My name is Ajay'\n",
        "print(str1.split(' '))"
      ]
    },
    {
      "cell_type": "code",
      "execution_count": 284,
      "metadata": {
        "colab": {
          "base_uri": "https://localhost:8080/"
        },
        "id": "tZXIW0-WPc76",
        "outputId": "132ac4f3-3595-4595-df6b-63aed4b3ecd6"
      },
      "outputs": [
        {
          "output_type": "stream",
          "name": "stdout",
          "text": [
            "True\n"
          ]
        }
      ],
      "source": [
        "str1 = \"This is a basic class on python\"\n",
        "print (\"class\" in str1)"
      ]
    },
    {
      "cell_type": "code",
      "execution_count": 285,
      "metadata": {
        "colab": {
          "base_uri": "https://localhost:8080/"
        },
        "id": "CfPSl1uNP4l2",
        "outputId": "3f67a81b-43cb-436a-f5f4-f4ad10400aba"
      },
      "outputs": [
        {
          "output_type": "stream",
          "name": "stdout",
          "text": [
            "Yes class is present in the text\n"
          ]
        }
      ],
      "source": [
        "if \"class\" in str1:\n",
        "  print ('Yes class is present in the text')"
      ]
    },
    {
      "cell_type": "code",
      "execution_count": 286,
      "metadata": {
        "colab": {
          "base_uri": "https://localhost:8080/"
        },
        "id": "rCh4vwVjQYNG",
        "outputId": "116b713c-0a68-46b7-8f83-c7225dafcb76"
      },
      "outputs": [
        {
          "output_type": "stream",
          "name": "stdout",
          "text": [
            "False\n"
          ]
        }
      ],
      "source": [
        "print (\"class\" not in str1)"
      ]
    },
    {
      "cell_type": "code",
      "execution_count": 287,
      "metadata": {
        "colab": {
          "base_uri": "https://localhost:8080/"
        },
        "id": "rzprkTXKQfyQ",
        "outputId": "b67fa2c1-7f47-4627-8057-47d971f55a88"
      },
      "outputs": [
        {
          "output_type": "stream",
          "name": "stdout",
          "text": [
            "True\n"
          ]
        }
      ],
      "source": [
        "print ('expensive' not in str1)"
      ]
    },
    {
      "cell_type": "code",
      "execution_count": 288,
      "metadata": {
        "colab": {
          "base_uri": "https://localhost:8080/",
          "height": 36
        },
        "id": "gOCNMxh7Qn6M",
        "outputId": "a46d65d3-35f0-4695-b3f0-9cb7713fab89"
      },
      "outputs": [
        {
          "output_type": "execute_result",
          "data": {
            "text/plain": [
              "'llo'"
            ],
            "application/vnd.google.colaboratory.intrinsic+json": {
              "type": "string"
            }
          },
          "metadata": {},
          "execution_count": 288
        }
      ],
      "source": [
        "str2 = \"hello world\"\n",
        "str2[2:5] #[staartposition:endposition]"
      ]
    },
    {
      "cell_type": "code",
      "execution_count": 289,
      "metadata": {
        "colab": {
          "base_uri": "https://localhost:8080/",
          "height": 36
        },
        "id": "Clh27yKfRCNP",
        "outputId": "f94915a0-2b8f-4e08-fbcb-1de6fa6cbd80"
      },
      "outputs": [
        {
          "output_type": "execute_result",
          "data": {
            "text/plain": [
              "'hell'"
            ],
            "application/vnd.google.colaboratory.intrinsic+json": {
              "type": "string"
            }
          },
          "metadata": {},
          "execution_count": 289
        }
      ],
      "source": [
        "str2[:4]"
      ]
    },
    {
      "cell_type": "code",
      "execution_count": 290,
      "metadata": {
        "colab": {
          "base_uri": "https://localhost:8080/",
          "height": 36
        },
        "id": "FOkoQHOcRLSN",
        "outputId": "25ad0589-de55-492d-b61e-384c4f8aa1ea"
      },
      "outputs": [
        {
          "output_type": "execute_result",
          "data": {
            "text/plain": [
              "'lo world'"
            ],
            "application/vnd.google.colaboratory.intrinsic+json": {
              "type": "string"
            }
          },
          "metadata": {},
          "execution_count": 290
        }
      ],
      "source": [
        "str2[3:]"
      ]
    },
    {
      "cell_type": "code",
      "execution_count": 291,
      "metadata": {
        "colab": {
          "base_uri": "https://localhost:8080/",
          "height": 36
        },
        "id": "JaOeEe8vRYe7",
        "outputId": "6f9f96ae-3a1f-4707-ce20-7b1d64460e2b"
      },
      "outputs": [
        {
          "output_type": "execute_result",
          "data": {
            "text/plain": [
              "'worl'"
            ],
            "application/vnd.google.colaboratory.intrinsic+json": {
              "type": "string"
            }
          },
          "metadata": {},
          "execution_count": 291
        }
      ],
      "source": [
        "str2[-5:-1]"
      ]
    },
    {
      "cell_type": "code",
      "execution_count": 292,
      "metadata": {
        "colab": {
          "base_uri": "https://localhost:8080/",
          "height": 36
        },
        "id": "WlhPDwxsRjhd",
        "outputId": "c4c54058-2961-47d1-e9b8-29b8b8bcd2dd"
      },
      "outputs": [
        {
          "output_type": "execute_result",
          "data": {
            "text/plain": [
              "''"
            ],
            "application/vnd.google.colaboratory.intrinsic+json": {
              "type": "string"
            }
          },
          "metadata": {},
          "execution_count": 292
        }
      ],
      "source": [
        "str2[-1:-2]"
      ]
    },
    {
      "cell_type": "code",
      "execution_count": 293,
      "metadata": {
        "colab": {
          "base_uri": "https://localhost:8080/",
          "height": 36
        },
        "id": "p-qOE0pvRpQZ",
        "outputId": "0478fd4f-44d5-4b6e-99ae-91300f2cd9cb"
      },
      "outputs": [
        {
          "output_type": "execute_result",
          "data": {
            "text/plain": [
              "''"
            ],
            "application/vnd.google.colaboratory.intrinsic+json": {
              "type": "string"
            }
          },
          "metadata": {},
          "execution_count": 293
        }
      ],
      "source": [
        "str2[-1:-5]"
      ]
    },
    {
      "cell_type": "code",
      "execution_count": 294,
      "metadata": {
        "colab": {
          "base_uri": "https://localhost:8080/",
          "height": 36
        },
        "id": "UeWFXltlR0r1",
        "outputId": "26ca9c83-c688-402e-f7cb-ed455ce60bbd"
      },
      "outputs": [
        {
          "output_type": "execute_result",
          "data": {
            "text/plain": [
              "'RAMA KILLED RAVANA'"
            ],
            "application/vnd.google.colaboratory.intrinsic+json": {
              "type": "string"
            }
          },
          "metadata": {},
          "execution_count": 294
        }
      ],
      "source": [
        "str3 = \"Rama killed Ravana\"\n",
        "str3.upper()"
      ]
    },
    {
      "cell_type": "code",
      "execution_count": 295,
      "metadata": {
        "colab": {
          "base_uri": "https://localhost:8080/",
          "height": 36
        },
        "id": "bLGCyG92SJFU",
        "outputId": "12519f65-311e-40d5-d2a3-19f91e6f2d12"
      },
      "outputs": [
        {
          "output_type": "execute_result",
          "data": {
            "text/plain": [
              "'rama killed ravana'"
            ],
            "application/vnd.google.colaboratory.intrinsic+json": {
              "type": "string"
            }
          },
          "metadata": {},
          "execution_count": 295
        }
      ],
      "source": [
        "str3.lower()"
      ]
    },
    {
      "cell_type": "code",
      "execution_count": 296,
      "metadata": {
        "colab": {
          "base_uri": "https://localhost:8080/",
          "height": 36
        },
        "id": "gzrvXui8SMGW",
        "outputId": "30ac3278-c1de-4eac-e576-fff1d05bb36d"
      },
      "outputs": [
        {
          "output_type": "execute_result",
          "data": {
            "text/plain": [
              "'King od Ayodhya killed Ravana'"
            ],
            "application/vnd.google.colaboratory.intrinsic+json": {
              "type": "string"
            }
          },
          "metadata": {},
          "execution_count": 296
        }
      ],
      "source": [
        "str3.replace('Rama','King od Ayodhya')"
      ]
    },
    {
      "cell_type": "code",
      "execution_count": 297,
      "metadata": {
        "colab": {
          "base_uri": "https://localhost:8080/",
          "height": 36
        },
        "id": "K2kyXgYrSShj",
        "outputId": "3dfbbdc9-a515-4b31-e02c-13ae1f595cdc"
      },
      "outputs": [
        {
          "output_type": "execute_result",
          "data": {
            "text/plain": [
              "'RAMA KILLED RAVANA'"
            ],
            "application/vnd.google.colaboratory.intrinsic+json": {
              "type": "string"
            }
          },
          "metadata": {},
          "execution_count": 297
        }
      ],
      "source": [
        "str3 = \"rama killed Ravana\"\n",
        "str3.upper()"
      ]
    },
    {
      "cell_type": "code",
      "execution_count": 298,
      "metadata": {
        "colab": {
          "base_uri": "https://localhost:8080/",
          "height": 36
        },
        "id": "azOg4i-ISfZW",
        "outputId": "c67b13e0-fb44-4b82-e234-d867b012675e"
      },
      "outputs": [
        {
          "output_type": "execute_result",
          "data": {
            "text/plain": [
              "'Rama killed ravana'"
            ],
            "application/vnd.google.colaboratory.intrinsic+json": {
              "type": "string"
            }
          },
          "metadata": {},
          "execution_count": 298
        }
      ],
      "source": [
        "str3.capitalize()"
      ]
    },
    {
      "cell_type": "code",
      "execution_count": 299,
      "metadata": {
        "id": "8DgwBCE-SxRH"
      },
      "outputs": [],
      "source": [
        "a = 'Hello'\n",
        "b = 'World'"
      ]
    },
    {
      "cell_type": "code",
      "execution_count": 300,
      "metadata": {
        "colab": {
          "base_uri": "https://localhost:8080/",
          "height": 36
        },
        "id": "ABqqdR7DTAYU",
        "outputId": "afd7bc18-4b3b-4d86-c762-65bd0d3dc562"
      },
      "outputs": [
        {
          "output_type": "execute_result",
          "data": {
            "text/plain": [
              "'HelloWorld'"
            ],
            "application/vnd.google.colaboratory.intrinsic+json": {
              "type": "string"
            }
          },
          "metadata": {},
          "execution_count": 300
        }
      ],
      "source": [
        "a + b"
      ]
    },
    {
      "cell_type": "code",
      "execution_count": 301,
      "metadata": {
        "colab": {
          "base_uri": "https://localhost:8080/",
          "height": 36
        },
        "id": "Ewo0dY3rTcs8",
        "outputId": "f0e6a9e5-aefc-4603-ba6a-daf1ec0ecc2b"
      },
      "outputs": [
        {
          "output_type": "execute_result",
          "data": {
            "text/plain": [
              "'Hello World'"
            ],
            "application/vnd.google.colaboratory.intrinsic+json": {
              "type": "string"
            }
          },
          "metadata": {},
          "execution_count": 301
        }
      ],
      "source": [
        "a + ' ' + b"
      ]
    },
    {
      "cell_type": "code",
      "execution_count": 302,
      "metadata": {
        "id": "cYLAFJmfThNV"
      },
      "outputs": [],
      "source": [
        "x = 5"
      ]
    },
    {
      "cell_type": "code",
      "execution_count": 303,
      "metadata": {
        "colab": {
          "base_uri": "https://localhost:8080/"
        },
        "id": "U16PnL3GTmWE",
        "outputId": "11cb3f8e-7fa0-44ba-f50c-f5eb8637757c"
      },
      "outputs": [
        {
          "output_type": "stream",
          "name": "stdout",
          "text": [
            "I bought 5 apples\n"
          ]
        }
      ],
      "source": [
        "print (f'I bought {x} apples')"
      ]
    },
    {
      "cell_type": "code",
      "execution_count": 304,
      "metadata": {
        "colab": {
          "base_uri": "https://localhost:8080/",
          "height": 36
        },
        "id": "JmIuBW-kTtgn",
        "outputId": "0489fd79-6ee4-4b75-af54-8b2b31125d8e"
      },
      "outputs": [
        {
          "output_type": "execute_result",
          "data": {
            "text/plain": [
              "'I bought 5 apples'"
            ],
            "application/vnd.google.colaboratory.intrinsic+json": {
              "type": "string"
            }
          },
          "metadata": {},
          "execution_count": 304
        }
      ],
      "source": [
        "str4 = 'I bought {} apples'\n",
        "str4.format(x)"
      ]
    },
    {
      "cell_type": "code",
      "execution_count": 305,
      "metadata": {
        "id": "iQX2N6xIT4wg",
        "colab": {
          "base_uri": "https://localhost:8080/",
          "height": 123
        },
        "outputId": "e71befe6-7601-4624-a2d2-4afd6ed8fbf6"
      },
      "outputs": [
        {
          "output_type": "execute_result",
          "data": {
            "text/plain": [
              "'\\nMethod\\tDescription\\ncapitalize()\\tConverts the first character to upper case\\ncasefold()\\tConverts string into lower case\\ncenter()\\tReturns a centered string\\ncount()\\tReturns the number of times a specified value occurs in a string\\nencode()\\tReturns an encoded version of the string\\nendswith()\\tReturns true if the string ends with the specified value\\nexpandtabs()\\tSets the tab size of the string\\nfind()\\tSearches the string for a specified value and returns the position of where it was found\\nformat()\\tFormats specified values in a string\\nformat_map()\\tFormats specified values in a string\\nindex()\\tSearches the string for a specified value and returns the position of where it was found\\nisalnum()\\tReturns True if all characters in the string are alphanumeric\\nisalpha()\\tReturns True if all characters in the string are in the alphabet\\nisascii()\\tReturns True if all characters in the string are ascii characters\\nisdecimal()\\tReturns True if all characters in the string are decimals\\nisdigit()\\tReturns True if all characters in the string are digits\\nisidentifier()\\tReturns True if the string is an identifier\\nislower()\\tReturns True if all characters in the string are lower case\\nisnumeric()\\tReturns True if all characters in the string are numeric\\nisprintable()\\tReturns True if all characters in the string are printable\\nisspace()\\tReturns True if all characters in the string are whitespaces\\nistitle()\\tReturns True if the string follows the rules of a title\\nisupper()\\tReturns True if all characters in the string are upper case\\njoin()\\tJoins the elements of an iterable to the end of the string\\nljust()\\tReturns a left justified version of the string\\nlower()\\tConverts a string into lower case\\nlstrip()\\tReturns a left trim version of the string\\nmaketrans()\\tReturns a translation table to be used in translations\\npartition()\\tReturns a tuple where the string is parted into three parts\\nreplace()\\tReturns a string where a specified value is replaced with a specified value\\nrfind()\\tSearches the string for a specified value and returns the last position of where it was found\\nrindex()\\tSearches the string for a specified value and returns the last position of where it was found\\nrjust()\\tReturns a right justified version of the string\\nrpartition()\\tReturns a tuple where the string is parted into three parts\\nrsplit()\\tSplits the string at the specified separator, and returns a list\\nrstrip()\\tReturns a right trim version of the string\\nsplit()\\tSplits the string at the specified separator, and returns a list\\nsplitlines()\\tSplits the string at line breaks and returns a list\\nstartswith()\\tReturns true if the string starts with the specified value\\nstrip()\\tReturns a trimmed version of the string\\nswapcase()\\tSwaps cases, lower case becomes upper case and vice versa\\ntitle()\\tConverts the first character of each word to upper case\\ntranslate()\\tReturns a translated string\\nupper()\\tConverts a string into upper case\\nzfill()\\tFills the string with a specified number of 0 values at the beginning\\n'"
            ],
            "application/vnd.google.colaboratory.intrinsic+json": {
              "type": "string"
            }
          },
          "metadata": {},
          "execution_count": 305
        }
      ],
      "source": [
        "'''\n",
        "Method\tDescription\n",
        "capitalize()\tConverts the first character to upper case\n",
        "casefold()\tConverts string into lower case\n",
        "center()\tReturns a centered string\n",
        "count()\tReturns the number of times a specified value occurs in a string\n",
        "encode()\tReturns an encoded version of the string\n",
        "endswith()\tReturns true if the string ends with the specified value\n",
        "expandtabs()\tSets the tab size of the string\n",
        "find()\tSearches the string for a specified value and returns the position of where it was found\n",
        "format()\tFormats specified values in a string\n",
        "format_map()\tFormats specified values in a string\n",
        "index()\tSearches the string for a specified value and returns the position of where it was found\n",
        "isalnum()\tReturns True if all characters in the string are alphanumeric\n",
        "isalpha()\tReturns True if all characters in the string are in the alphabet\n",
        "isascii()\tReturns True if all characters in the string are ascii characters\n",
        "isdecimal()\tReturns True if all characters in the string are decimals\n",
        "isdigit()\tReturns True if all characters in the string are digits\n",
        "isidentifier()\tReturns True if the string is an identifier\n",
        "islower()\tReturns True if all characters in the string are lower case\n",
        "isnumeric()\tReturns True if all characters in the string are numeric\n",
        "isprintable()\tReturns True if all characters in the string are printable\n",
        "isspace()\tReturns True if all characters in the string are whitespaces\n",
        "istitle()\tReturns True if the string follows the rules of a title\n",
        "isupper()\tReturns True if all characters in the string are upper case\n",
        "join()\tJoins the elements of an iterable to the end of the string\n",
        "ljust()\tReturns a left justified version of the string\n",
        "lower()\tConverts a string into lower case\n",
        "lstrip()\tReturns a left trim version of the string\n",
        "maketrans()\tReturns a translation table to be used in translations\n",
        "partition()\tReturns a tuple where the string is parted into three parts\n",
        "replace()\tReturns a string where a specified value is replaced with a specified value\n",
        "rfind()\tSearches the string for a specified value and returns the last position of where it was found\n",
        "rindex()\tSearches the string for a specified value and returns the last position of where it was found\n",
        "rjust()\tReturns a right justified version of the string\n",
        "rpartition()\tReturns a tuple where the string is parted into three parts\n",
        "rsplit()\tSplits the string at the specified separator, and returns a list\n",
        "rstrip()\tReturns a right trim version of the string\n",
        "split()\tSplits the string at the specified separator, and returns a list\n",
        "splitlines()\tSplits the string at line breaks and returns a list\n",
        "startswith()\tReturns true if the string starts with the specified value\n",
        "strip()\tReturns a trimmed version of the string\n",
        "swapcase()\tSwaps cases, lower case becomes upper case and vice versa\n",
        "title()\tConverts the first character of each word to upper case\n",
        "translate()\tReturns a translated string\n",
        "upper()\tConverts a string into upper case\n",
        "zfill()\tFills the string with a specified number of 0 values at the beginning\n",
        "'''"
      ]
    },
    {
      "cell_type": "markdown",
      "metadata": {
        "id": "BYuTvgmhUUZJ"
      },
      "source": [
        "##Boolean Operators"
      ]
    },
    {
      "cell_type": "code",
      "execution_count": 306,
      "metadata": {
        "colab": {
          "base_uri": "https://localhost:8080/"
        },
        "id": "8sDgeh_oUXjn",
        "outputId": "bf1157de-61ea-41a7-9458-5790b264b5e4"
      },
      "outputs": [
        {
          "output_type": "stream",
          "name": "stdout",
          "text": [
            "True\n"
          ]
        }
      ],
      "source": [
        "print (10 > 5)"
      ]
    },
    {
      "cell_type": "code",
      "execution_count": 307,
      "metadata": {
        "colab": {
          "base_uri": "https://localhost:8080/"
        },
        "id": "_Vho1TnjUeWX",
        "outputId": "32868172-0492-4d1d-9144-18d9cf29a905"
      },
      "outputs": [
        {
          "output_type": "stream",
          "name": "stdout",
          "text": [
            "False\n"
          ]
        }
      ],
      "source": [
        "print (10 == 9)"
      ]
    },
    {
      "cell_type": "code",
      "execution_count": 308,
      "metadata": {
        "colab": {
          "base_uri": "https://localhost:8080/"
        },
        "id": "uPVKCp_5UhCV",
        "outputId": "2885497e-3001-41fe-81ae-ae0f146a71ed"
      },
      "outputs": [
        {
          "output_type": "stream",
          "name": "stdout",
          "text": [
            "False\n"
          ]
        }
      ],
      "source": [
        "print (10<9)"
      ]
    },
    {
      "cell_type": "code",
      "execution_count": 309,
      "metadata": {
        "colab": {
          "base_uri": "https://localhost:8080/"
        },
        "id": "dnY10xxwUj55",
        "outputId": "aa3f73c0-057a-4c30-cd91-8d9f7b1f99e0"
      },
      "outputs": [
        {
          "output_type": "stream",
          "name": "stdout",
          "text": [
            "hello\n"
          ]
        }
      ],
      "source": [
        "a = 200\n",
        "b = 13\n",
        "if b >a:\n",
        "  print ('hi')\n",
        "else:\n",
        "  print ('hello')"
      ]
    },
    {
      "cell_type": "code",
      "execution_count": 310,
      "metadata": {
        "colab": {
          "base_uri": "https://localhost:8080/"
        },
        "id": "DEPsaa1QVQQH",
        "outputId": "e5737c4d-2c31-4512-e10a-b8115efc158a"
      },
      "outputs": [
        {
          "output_type": "stream",
          "name": "stdout",
          "text": [
            "0\n",
            "2\n",
            "4\n",
            "6\n",
            "8\n"
          ]
        }
      ],
      "source": [
        "def evenodd(x):\n",
        "  for j in x:\n",
        "\n",
        "    if j % 2 == 0:\n",
        "      print (j)\n",
        "\n",
        "\n",
        "\n",
        "l1 = [i for i in range(0,10)]\n",
        "evenodd(l1)"
      ]
    },
    {
      "cell_type": "markdown",
      "metadata": {
        "id": "H6ToEHGhRYNH"
      },
      "source": [
        "## operators"
      ]
    },
    {
      "cell_type": "code",
      "execution_count": 311,
      "metadata": {
        "id": "AbbABlwLSJfl"
      },
      "outputs": [],
      "source": [
        "def mathfunc(a,b,operation):\n",
        "\n",
        "  if operation == 'addition':\n",
        "    return a+b\n"
      ]
    },
    {
      "cell_type": "code",
      "execution_count": 312,
      "metadata": {
        "id": "ZmzzT_EcWcwt"
      },
      "outputs": [],
      "source": [
        "x = 10\n",
        "y = 20"
      ]
    },
    {
      "cell_type": "code",
      "execution_count": 313,
      "metadata": {
        "colab": {
          "base_uri": "https://localhost:8080/"
        },
        "id": "o1hvpzvCSUxP",
        "outputId": "cd541a11-4443-4a53-f098-63f04c7e7123"
      },
      "outputs": [
        {
          "output_type": "execute_result",
          "data": {
            "text/plain": [
              "30"
            ]
          },
          "metadata": {},
          "execution_count": 313
        }
      ],
      "source": [
        "mathfunc(x,y,'addition')"
      ]
    },
    {
      "cell_type": "code",
      "execution_count": 314,
      "metadata": {
        "id": "3gBsDoriS_M_"
      },
      "outputs": [],
      "source": [
        "from IPython.core.compilerop import operator\n",
        "def mathfunc(a,operation):\n",
        "\n",
        "  if operation == 'addition':\n",
        "    sum = 0\n",
        "    for i in a:\n",
        "      sum = sum + i\n",
        "    return sum\n",
        "\n",
        "  if operation == 'substraction':\n",
        "    sub = a[0]\n",
        "    for i in a[1:]:\n",
        "      sub = sub-i\n",
        "    return sub\n",
        "\n",
        "  if operation == 'multiplication':\n",
        "    total = 1\n",
        "    for i in a:\n",
        "      total = total*i\n",
        "    return total\n",
        "\n",
        "  if operation == 'division':\n",
        "    div = a[0]\n",
        "    for i in a[1:]:\n",
        "      div = div/i\n",
        "    return div"
      ]
    },
    {
      "cell_type": "code",
      "execution_count": 315,
      "metadata": {
        "id": "_dHeD2UHStGG"
      },
      "outputs": [],
      "source": [
        "l1 = [10,20]"
      ]
    },
    {
      "cell_type": "code",
      "execution_count": 316,
      "metadata": {
        "colab": {
          "base_uri": "https://localhost:8080/"
        },
        "id": "1bGulKF7Trlv",
        "outputId": "ddf6afd4-7796-454c-ab5f-96fad6291700"
      },
      "outputs": [
        {
          "output_type": "execute_result",
          "data": {
            "text/plain": [
              "30"
            ]
          },
          "metadata": {},
          "execution_count": 316
        }
      ],
      "source": [
        "mathfunc(l1,'addition')"
      ]
    },
    {
      "cell_type": "code",
      "execution_count": 317,
      "metadata": {
        "colab": {
          "base_uri": "https://localhost:8080/"
        },
        "id": "mayej0XcTt0F",
        "outputId": "188ce53f-f0ce-416f-f462-396487fbf82b"
      },
      "outputs": [
        {
          "output_type": "execute_result",
          "data": {
            "text/plain": [
              "-10"
            ]
          },
          "metadata": {},
          "execution_count": 317
        }
      ],
      "source": [
        "mathfunc(l1,'substraction')"
      ]
    },
    {
      "cell_type": "code",
      "execution_count": 318,
      "metadata": {
        "id": "RaQV_v-PVnZv",
        "colab": {
          "base_uri": "https://localhost:8080/"
        },
        "outputId": "77ae6f47-576c-465f-a6e8-ce5692a0a2b8"
      },
      "outputs": [
        {
          "output_type": "execute_result",
          "data": {
            "text/plain": [
              "200"
            ]
          },
          "metadata": {},
          "execution_count": 318
        }
      ],
      "source": [
        "mathfunc(l1,'multiplication')"
      ]
    },
    {
      "cell_type": "markdown",
      "metadata": {
        "id": "R9Dfc28uadMM"
      },
      "source": [
        "##Operators"
      ]
    },
    {
      "cell_type": "code",
      "execution_count": 319,
      "metadata": {
        "id": "PDN5BpWAaelH",
        "colab": {
          "base_uri": "https://localhost:8080/",
          "height": 36
        },
        "outputId": "c90a0fae-7497-4a0e-dfe6-103ecb98c34e"
      },
      "outputs": [
        {
          "output_type": "execute_result",
          "data": {
            "text/plain": [
              "'\\nArithmentic\\nAssignment operators\\nLogical operators\\n'"
            ],
            "application/vnd.google.colaboratory.intrinsic+json": {
              "type": "string"
            }
          },
          "metadata": {},
          "execution_count": 319
        }
      ],
      "source": [
        "'''\n",
        "Arithmentic\n",
        "Assignment operators\n",
        "Logical operators\n",
        "'''"
      ]
    },
    {
      "cell_type": "code",
      "execution_count": 320,
      "metadata": {
        "id": "NRnVjpfpa8sj"
      },
      "outputs": [],
      "source": [
        "x = 5\n",
        "y = 10"
      ]
    },
    {
      "cell_type": "code",
      "execution_count": 321,
      "metadata": {
        "colab": {
          "base_uri": "https://localhost:8080/"
        },
        "id": "A4IKQ5icbDSj",
        "outputId": "0e7d0839-4af5-4400-8609-56def27ee5f9"
      },
      "outputs": [
        {
          "output_type": "execute_result",
          "data": {
            "text/plain": [
              "15"
            ]
          },
          "metadata": {},
          "execution_count": 321
        }
      ],
      "source": [
        "x+y"
      ]
    },
    {
      "cell_type": "code",
      "execution_count": 322,
      "metadata": {
        "colab": {
          "base_uri": "https://localhost:8080/"
        },
        "id": "6AN815EgbFA2",
        "outputId": "40d96da0-4852-444a-b48b-c94e9ff370e4"
      },
      "outputs": [
        {
          "output_type": "execute_result",
          "data": {
            "text/plain": [
              "-5"
            ]
          },
          "metadata": {},
          "execution_count": 322
        }
      ],
      "source": [
        "x-y"
      ]
    },
    {
      "cell_type": "code",
      "execution_count": 323,
      "metadata": {
        "colab": {
          "base_uri": "https://localhost:8080/"
        },
        "id": "-MlzncxRbG_s",
        "outputId": "5f11d2eb-b656-4a2a-b5dd-8a6d7a57a904"
      },
      "outputs": [
        {
          "output_type": "execute_result",
          "data": {
            "text/plain": [
              "50"
            ]
          },
          "metadata": {},
          "execution_count": 323
        }
      ],
      "source": [
        "x*y"
      ]
    },
    {
      "cell_type": "code",
      "execution_count": 324,
      "metadata": {
        "colab": {
          "base_uri": "https://localhost:8080/"
        },
        "id": "-Tsz8oWlbJLr",
        "outputId": "600edfca-1d07-4c5a-ab11-eaa098c64e85"
      },
      "outputs": [
        {
          "output_type": "execute_result",
          "data": {
            "text/plain": [
              "0.5"
            ]
          },
          "metadata": {},
          "execution_count": 324
        }
      ],
      "source": [
        "x/y"
      ]
    },
    {
      "cell_type": "code",
      "execution_count": 325,
      "metadata": {
        "colab": {
          "base_uri": "https://localhost:8080/"
        },
        "id": "lh63ZAoybNGc",
        "outputId": "76807f4a-f0f7-49c4-8e7b-dfb963f751e6"
      },
      "outputs": [
        {
          "output_type": "execute_result",
          "data": {
            "text/plain": [
              "5"
            ]
          },
          "metadata": {},
          "execution_count": 325
        }
      ],
      "source": [
        "# % modulus : Givens the remainder of division\n",
        "x % y"
      ]
    },
    {
      "cell_type": "code",
      "execution_count": 326,
      "metadata": {
        "colab": {
          "base_uri": "https://localhost:8080/"
        },
        "id": "tvMxlJVWbcyQ",
        "outputId": "ed998acd-e937-4bb5-93e4-c8d8eca067de"
      },
      "outputs": [
        {
          "output_type": "stream",
          "name": "stdout",
          "text": [
            "2.3333333333333335\n"
          ]
        }
      ],
      "source": [
        "x = 7\n",
        "y = 3\n",
        "\n",
        "print (x/y)"
      ]
    },
    {
      "cell_type": "code",
      "execution_count": 327,
      "metadata": {
        "colab": {
          "base_uri": "https://localhost:8080/"
        },
        "id": "WUVMwZRlbrke",
        "outputId": "7008aecf-4a10-42aa-e4f0-190ec532f2ef"
      },
      "outputs": [
        {
          "output_type": "stream",
          "name": "stdout",
          "text": [
            "2\n"
          ]
        }
      ],
      "source": [
        "print (x//y) # // performs rounding of the quotient"
      ]
    },
    {
      "cell_type": "code",
      "execution_count": 328,
      "metadata": {
        "colab": {
          "base_uri": "https://localhost:8080/"
        },
        "id": "0h28Mly6bvDT",
        "outputId": "415cd204-99bf-4ce4-ca4d-f988b2193ed4"
      },
      "outputs": [
        {
          "output_type": "execute_result",
          "data": {
            "text/plain": [
              "0"
            ]
          },
          "metadata": {},
          "execution_count": 328
        }
      ],
      "source": [
        "l1 = [5,7]\n",
        "l1[0]//l1[1]"
      ]
    },
    {
      "cell_type": "code",
      "execution_count": 329,
      "metadata": {
        "colab": {
          "base_uri": "https://localhost:8080/"
        },
        "id": "OKMlCwNBcZQb",
        "outputId": "8542d5a1-1a84-48d1-d598-f0d93ea74d37"
      },
      "outputs": [
        {
          "output_type": "execute_result",
          "data": {
            "text/plain": [
              "[0, 1, 2, 3, 4, 5, 6, 7, 8, 9]"
            ]
          },
          "metadata": {},
          "execution_count": 329
        }
      ],
      "source": [
        "l1 = [i for i in range(0,10)]\n",
        "l1"
      ]
    },
    {
      "cell_type": "code",
      "execution_count": 330,
      "metadata": {
        "id": "Opr3zdwic5ha"
      },
      "outputs": [],
      "source": [
        "a =list(range(0,10))"
      ]
    },
    {
      "cell_type": "code",
      "execution_count": 331,
      "metadata": {
        "colab": {
          "base_uri": "https://localhost:8080/"
        },
        "id": "LCCCjJ8HdPyI",
        "outputId": "d4a8c40a-bf3b-4d47-f605-0fce6ff5067f"
      },
      "outputs": [
        {
          "output_type": "execute_result",
          "data": {
            "text/plain": [
              "[0, 1, 2, 3, 4, 5, 6, 7, 8, 9]"
            ]
          },
          "metadata": {},
          "execution_count": 331
        }
      ],
      "source": [
        "a"
      ]
    },
    {
      "cell_type": "code",
      "execution_count": 332,
      "metadata": {
        "id": "bdqIdxZFdQRE"
      },
      "outputs": [],
      "source": [
        "total = 1\n",
        "for i in range(0,len(a)):\n",
        "  if i %2 == 0:\n",
        "    total = total*i"
      ]
    },
    {
      "cell_type": "code",
      "execution_count": 333,
      "metadata": {
        "id": "D0JnDAPJd8dn"
      },
      "outputs": [],
      "source": [
        "l2 = [i for i in range(10,20)]"
      ]
    },
    {
      "cell_type": "code",
      "source": [
        "l2"
      ],
      "metadata": {
        "colab": {
          "base_uri": "https://localhost:8080/"
        },
        "id": "Y4DesTxWiNqS",
        "outputId": "3414e2ed-f212-470d-ee4a-504d82cd1294"
      },
      "execution_count": 334,
      "outputs": [
        {
          "output_type": "execute_result",
          "data": {
            "text/plain": [
              "[10, 11, 12, 13, 14, 15, 16, 17, 18, 19]"
            ]
          },
          "metadata": {},
          "execution_count": 334
        }
      ]
    },
    {
      "cell_type": "code",
      "source": [
        "for i in l2:\n",
        "   i = i+3\n",
        "   print (i)"
      ],
      "metadata": {
        "colab": {
          "base_uri": "https://localhost:8080/"
        },
        "id": "0xGc33oLiQK3",
        "outputId": "95f4f74c-e605-4ece-aad9-2567821aecbd"
      },
      "execution_count": 335,
      "outputs": [
        {
          "output_type": "stream",
          "name": "stdout",
          "text": [
            "13\n",
            "14\n",
            "15\n",
            "16\n",
            "17\n",
            "18\n",
            "19\n",
            "20\n",
            "21\n",
            "22\n"
          ]
        }
      ]
    },
    {
      "cell_type": "code",
      "source": [
        "l2"
      ],
      "metadata": {
        "colab": {
          "base_uri": "https://localhost:8080/"
        },
        "id": "LRCbv-61juBl",
        "outputId": "5ee5290e-4d50-4bb8-8cfe-afcb99141d2d"
      },
      "execution_count": 336,
      "outputs": [
        {
          "output_type": "execute_result",
          "data": {
            "text/plain": [
              "[10, 11, 12, 13, 14, 15, 16, 17, 18, 19]"
            ]
          },
          "metadata": {},
          "execution_count": 336
        }
      ]
    },
    {
      "cell_type": "code",
      "source": [
        "for i in l2:\n",
        "   #i = i+3\n",
        "   i += 3 # variable = variable + somenumber -> Assignment Operators\n",
        "   print (i)"
      ],
      "metadata": {
        "colab": {
          "base_uri": "https://localhost:8080/"
        },
        "id": "zN3qRFJsibM6",
        "outputId": "999fce69-3a86-46d3-9458-dc18ace1f52d"
      },
      "execution_count": 337,
      "outputs": [
        {
          "output_type": "stream",
          "name": "stdout",
          "text": [
            "13\n",
            "14\n",
            "15\n",
            "16\n",
            "17\n",
            "18\n",
            "19\n",
            "20\n",
            "21\n",
            "22\n"
          ]
        }
      ]
    },
    {
      "cell_type": "code",
      "source": [
        "for i in l2:\n",
        "  i -= 3 #i = i -3\n",
        "  print (i)"
      ],
      "metadata": {
        "colab": {
          "base_uri": "https://localhost:8080/"
        },
        "id": "xzj5looziueO",
        "outputId": "a070ab63-7f39-4f40-ae96-366e6dc00143"
      },
      "execution_count": 338,
      "outputs": [
        {
          "output_type": "stream",
          "name": "stdout",
          "text": [
            "7\n",
            "8\n",
            "9\n",
            "10\n",
            "11\n",
            "12\n",
            "13\n",
            "14\n",
            "15\n",
            "16\n"
          ]
        }
      ]
    },
    {
      "cell_type": "code",
      "source": [
        "for i in l2:\n",
        "  i *= 3 #i = i -3\n",
        "  print (i)"
      ],
      "metadata": {
        "colab": {
          "base_uri": "https://localhost:8080/"
        },
        "id": "gAZsuAyZkMwX",
        "outputId": "a823d409-ae8a-4729-c530-72d68925a3b9"
      },
      "execution_count": 339,
      "outputs": [
        {
          "output_type": "stream",
          "name": "stdout",
          "text": [
            "30\n",
            "33\n",
            "36\n",
            "39\n",
            "42\n",
            "45\n",
            "48\n",
            "51\n",
            "54\n",
            "57\n"
          ]
        }
      ]
    },
    {
      "cell_type": "code",
      "source": [
        "## Comparision operators"
      ],
      "metadata": {
        "id": "-2sSrtPAlh1b"
      },
      "execution_count": 340,
      "outputs": []
    },
    {
      "cell_type": "code",
      "source": [
        "x = 7\n",
        "y = 10\n",
        "\n",
        "x == y"
      ],
      "metadata": {
        "colab": {
          "base_uri": "https://localhost:8080/"
        },
        "id": "eusOljCflmp6",
        "outputId": "33a166be-3166-4b99-9486-ba57e5ac62e9"
      },
      "execution_count": 341,
      "outputs": [
        {
          "output_type": "execute_result",
          "data": {
            "text/plain": [
              "False"
            ]
          },
          "metadata": {},
          "execution_count": 341
        }
      ]
    },
    {
      "cell_type": "code",
      "source": [
        "x != y"
      ],
      "metadata": {
        "colab": {
          "base_uri": "https://localhost:8080/"
        },
        "id": "fsonbotRmIDZ",
        "outputId": "166cacec-1a00-4c72-c23f-e337d1f68e11"
      },
      "execution_count": 342,
      "outputs": [
        {
          "output_type": "execute_result",
          "data": {
            "text/plain": [
              "True"
            ]
          },
          "metadata": {},
          "execution_count": 342
        }
      ]
    },
    {
      "cell_type": "code",
      "source": [
        "x > y"
      ],
      "metadata": {
        "colab": {
          "base_uri": "https://localhost:8080/"
        },
        "id": "EQyenQpWmMW9",
        "outputId": "9d42853f-a2ee-49d9-9468-0512172880af"
      },
      "execution_count": 343,
      "outputs": [
        {
          "output_type": "execute_result",
          "data": {
            "text/plain": [
              "False"
            ]
          },
          "metadata": {},
          "execution_count": 343
        }
      ]
    },
    {
      "cell_type": "code",
      "source": [
        "x < y"
      ],
      "metadata": {
        "colab": {
          "base_uri": "https://localhost:8080/"
        },
        "id": "bw0hXD4OmPH3",
        "outputId": "46e70e03-1d55-41a6-ba3c-62dbf0943022"
      },
      "execution_count": 344,
      "outputs": [
        {
          "output_type": "execute_result",
          "data": {
            "text/plain": [
              "True"
            ]
          },
          "metadata": {},
          "execution_count": 344
        }
      ]
    },
    {
      "cell_type": "code",
      "source": [
        "x >= y"
      ],
      "metadata": {
        "colab": {
          "base_uri": "https://localhost:8080/"
        },
        "id": "CcHcdW1qmQnR",
        "outputId": "5dec5035-e4e6-4c72-b1d1-11769ecd13ee"
      },
      "execution_count": 345,
      "outputs": [
        {
          "output_type": "execute_result",
          "data": {
            "text/plain": [
              "False"
            ]
          },
          "metadata": {},
          "execution_count": 345
        }
      ]
    },
    {
      "cell_type": "code",
      "source": [
        "x <= y"
      ],
      "metadata": {
        "colab": {
          "base_uri": "https://localhost:8080/"
        },
        "id": "aXEqzYcTmaw0",
        "outputId": "4f7ae1b0-8cb2-4fc4-c0e3-a8a281a30fb2"
      },
      "execution_count": 346,
      "outputs": [
        {
          "output_type": "execute_result",
          "data": {
            "text/plain": [
              "True"
            ]
          },
          "metadata": {},
          "execution_count": 346
        }
      ]
    },
    {
      "cell_type": "code",
      "source": [
        "## logical operators\n",
        "\n",
        "x = 7 # if 7 is between 5 and 10\n",
        "\n",
        "(x > 5) and (x < 10) # and operation both comparisions have to be true"
      ],
      "metadata": {
        "colab": {
          "base_uri": "https://localhost:8080/"
        },
        "id": "3G02D4Qnmd-Q",
        "outputId": "599adf96-9dd6-4b86-88f7-3bc15de84bdc"
      },
      "execution_count": 347,
      "outputs": [
        {
          "output_type": "execute_result",
          "data": {
            "text/plain": [
              "True"
            ]
          },
          "metadata": {},
          "execution_count": 347
        }
      ]
    },
    {
      "cell_type": "code",
      "source": [
        "(x < 5) or (x < 10)"
      ],
      "metadata": {
        "colab": {
          "base_uri": "https://localhost:8080/"
        },
        "id": "tRC6jtYOm2f9",
        "outputId": "515ca02d-90d7-4554-8df7-5dac528c54a4"
      },
      "execution_count": 348,
      "outputs": [
        {
          "output_type": "execute_result",
          "data": {
            "text/plain": [
              "True"
            ]
          },
          "metadata": {},
          "execution_count": 348
        }
      ]
    },
    {
      "cell_type": "code",
      "source": [
        "x = 5\n",
        "(x < 10) and (x < 0) and (x==5)"
      ],
      "metadata": {
        "colab": {
          "base_uri": "https://localhost:8080/"
        },
        "id": "uyroY4UvnXLH",
        "outputId": "5164ee75-29dd-4a09-a26d-9bde3d0cbb92"
      },
      "execution_count": 349,
      "outputs": [
        {
          "output_type": "execute_result",
          "data": {
            "text/plain": [
              "False"
            ]
          },
          "metadata": {},
          "execution_count": 349
        }
      ]
    },
    {
      "cell_type": "code",
      "source": [
        "(x < 10) or (x < 0) and (x==5)"
      ],
      "metadata": {
        "colab": {
          "base_uri": "https://localhost:8080/"
        },
        "id": "5F3J39Nfn5rk",
        "outputId": "c8933b89-a218-4cc2-b934-0edcede4c438"
      },
      "execution_count": 350,
      "outputs": [
        {
          "output_type": "execute_result",
          "data": {
            "text/plain": [
              "True"
            ]
          },
          "metadata": {},
          "execution_count": 350
        }
      ]
    },
    {
      "cell_type": "markdown",
      "source": [
        "## LIsts"
      ],
      "metadata": {
        "id": "sWbuBA2roMXD"
      }
    },
    {
      "cell_type": "code",
      "source": [
        "l1 = [\"apples\",\"bananas\",\"mangoes\"]\n",
        "\n",
        "#lists are mutable\n",
        "#either only numbers or only strings or both\n",
        "type(l1)"
      ],
      "metadata": {
        "colab": {
          "base_uri": "https://localhost:8080/"
        },
        "id": "_qgmc25VoBrJ",
        "outputId": "30c9a817-9575-44ff-c5c1-95eaf534dbab"
      },
      "execution_count": 351,
      "outputs": [
        {
          "output_type": "execute_result",
          "data": {
            "text/plain": [
              "list"
            ]
          },
          "metadata": {},
          "execution_count": 351
        }
      ]
    },
    {
      "cell_type": "code",
      "source": [
        "l1 = (\"apples\",\"bananas\",\"mangoes\")\n",
        "l2 = list(l1)"
      ],
      "metadata": {
        "id": "RckyVzVaowyh"
      },
      "execution_count": 352,
      "outputs": []
    },
    {
      "cell_type": "code",
      "source": [
        "l2"
      ],
      "metadata": {
        "colab": {
          "base_uri": "https://localhost:8080/"
        },
        "id": "UiRYzn9RpEfC",
        "outputId": "ddb33dd2-8857-46e9-9e4f-7f295d74e312"
      },
      "execution_count": 353,
      "outputs": [
        {
          "output_type": "execute_result",
          "data": {
            "text/plain": [
              "['apples', 'bananas', 'mangoes']"
            ]
          },
          "metadata": {},
          "execution_count": 353
        }
      ]
    },
    {
      "cell_type": "code",
      "source": [
        "l2[2]"
      ],
      "metadata": {
        "colab": {
          "base_uri": "https://localhost:8080/",
          "height": 36
        },
        "id": "azzFIQtgpFT3",
        "outputId": "faddbed1-4669-4897-e036-26e4a95b38bf"
      },
      "execution_count": 354,
      "outputs": [
        {
          "output_type": "execute_result",
          "data": {
            "text/plain": [
              "'mangoes'"
            ],
            "application/vnd.google.colaboratory.intrinsic+json": {
              "type": "string"
            }
          },
          "metadata": {},
          "execution_count": 354
        }
      ]
    },
    {
      "cell_type": "code",
      "source": [
        "['apples', 'bananas', 'mangoes'] # positive positions[0,1,2] and negative positions[-3,-2-1]"
      ],
      "metadata": {
        "id": "KIdBcsPJpfQp",
        "colab": {
          "base_uri": "https://localhost:8080/"
        },
        "outputId": "f131da7a-8d96-4a6e-ef9e-479b36084d12"
      },
      "execution_count": 355,
      "outputs": [
        {
          "output_type": "execute_result",
          "data": {
            "text/plain": [
              "['apples', 'bananas', 'mangoes']"
            ]
          },
          "metadata": {},
          "execution_count": 355
        }
      ]
    },
    {
      "cell_type": "code",
      "source": [
        "l2[-2]"
      ],
      "metadata": {
        "colab": {
          "base_uri": "https://localhost:8080/",
          "height": 36
        },
        "id": "nyMHIMbpp9F8",
        "outputId": "0f0b4c9b-208c-405d-9f0f-79d9286b5259"
      },
      "execution_count": 356,
      "outputs": [
        {
          "output_type": "execute_result",
          "data": {
            "text/plain": [
              "'bananas'"
            ],
            "application/vnd.google.colaboratory.intrinsic+json": {
              "type": "string"
            }
          },
          "metadata": {},
          "execution_count": 356
        }
      ]
    },
    {
      "cell_type": "code",
      "source": [
        "thislist = [\"apple\", \"banana\", \"cherry\", \"orange\", \"kiwi\", \"melon\", \"mango\"]"
      ],
      "metadata": {
        "id": "9UxwCb2sp-TR"
      },
      "execution_count": 357,
      "outputs": []
    },
    {
      "cell_type": "code",
      "source": [
        "thislist[1:5] # start:end it will always print from start till end-1"
      ],
      "metadata": {
        "colab": {
          "base_uri": "https://localhost:8080/"
        },
        "id": "rkVysBuKqCUj",
        "outputId": "9f673533-6adc-4796-8856-c45762a8fe51"
      },
      "execution_count": 358,
      "outputs": [
        {
          "output_type": "execute_result",
          "data": {
            "text/plain": [
              "['banana', 'cherry', 'orange', 'kiwi']"
            ]
          },
          "metadata": {},
          "execution_count": 358
        }
      ]
    },
    {
      "cell_type": "code",
      "source": [
        "thislist[0:4] # (startposition,endpoisiton-1)"
      ],
      "metadata": {
        "colab": {
          "base_uri": "https://localhost:8080/"
        },
        "id": "uBhruHKhqLBQ",
        "outputId": "ce29f12c-706c-4977-e96d-4936d1df1c8b"
      },
      "execution_count": 359,
      "outputs": [
        {
          "output_type": "execute_result",
          "data": {
            "text/plain": [
              "['apple', 'banana', 'cherry', 'orange']"
            ]
          },
          "metadata": {},
          "execution_count": 359
        }
      ]
    },
    {
      "cell_type": "code",
      "source": [
        "thislist[:4]"
      ],
      "metadata": {
        "id": "NoRtjo_OqduH",
        "colab": {
          "base_uri": "https://localhost:8080/"
        },
        "outputId": "f200701a-daa3-4207-8dc6-abb9c0f00bb6"
      },
      "execution_count": 360,
      "outputs": [
        {
          "output_type": "execute_result",
          "data": {
            "text/plain": [
              "['apple', 'banana', 'cherry', 'orange']"
            ]
          },
          "metadata": {},
          "execution_count": 360
        }
      ]
    },
    {
      "cell_type": "code",
      "source": [
        "thislist[-3:-1] # print from -3 to -1-1 = -2"
      ],
      "metadata": {
        "colab": {
          "base_uri": "https://localhost:8080/"
        },
        "id": "qu_XgW8JqldQ",
        "outputId": "aa2b781d-6e4a-4270-8992-c4a10ed5e231"
      },
      "execution_count": 361,
      "outputs": [
        {
          "output_type": "execute_result",
          "data": {
            "text/plain": [
              "['kiwi', 'melon']"
            ]
          },
          "metadata": {},
          "execution_count": 361
        }
      ]
    },
    {
      "cell_type": "code",
      "source": [
        "thislist = [\"apple\", \"banana\", \"cherry\", \"orange\", \"kiwi\", \"melon\", \"mango\"]\n",
        "\n",
        "if \"Cherry\" in thislist: #question : do it using for loop\n",
        "  print ('hi')"
      ],
      "metadata": {
        "id": "r5V18H31qrCE"
      },
      "execution_count": 362,
      "outputs": []
    },
    {
      "cell_type": "code",
      "source": [
        "#changing items in the list\n",
        "thislist[2] = 'watermelon'"
      ],
      "metadata": {
        "id": "V96kJofjrVqI"
      },
      "execution_count": 363,
      "outputs": []
    },
    {
      "cell_type": "code",
      "source": [
        "thislist"
      ],
      "metadata": {
        "id": "Kb0_bIgnlky8",
        "colab": {
          "base_uri": "https://localhost:8080/"
        },
        "outputId": "49a07b38-ca93-4217-ccde-1d91a7d8c383"
      },
      "execution_count": 364,
      "outputs": [
        {
          "output_type": "execute_result",
          "data": {
            "text/plain": [
              "['apple', 'banana', 'watermelon', 'orange', 'kiwi', 'melon', 'mango']"
            ]
          },
          "metadata": {},
          "execution_count": 364
        }
      ]
    },
    {
      "cell_type": "code",
      "source": [
        "thislist[1:3]"
      ],
      "metadata": {
        "colab": {
          "base_uri": "https://localhost:8080/"
        },
        "id": "FCT9XMZ1mEMY",
        "outputId": "d142817c-b0b2-4204-bccb-4cdb99f5c257"
      },
      "execution_count": 365,
      "outputs": [
        {
          "output_type": "execute_result",
          "data": {
            "text/plain": [
              "['banana', 'watermelon']"
            ]
          },
          "metadata": {},
          "execution_count": 365
        }
      ]
    },
    {
      "cell_type": "code",
      "source": [
        "thislist[1:3] = ['onoins','tomatos']"
      ],
      "metadata": {
        "id": "q1y8ZCb0mil6"
      },
      "execution_count": 366,
      "outputs": []
    },
    {
      "cell_type": "code",
      "source": [
        "thislist"
      ],
      "metadata": {
        "id": "uwoUgZQ2m00G",
        "outputId": "c2c12dbb-cefa-44ac-9ef4-cc658a6e15a1",
        "colab": {
          "base_uri": "https://localhost:8080/"
        }
      },
      "execution_count": 367,
      "outputs": [
        {
          "output_type": "execute_result",
          "data": {
            "text/plain": [
              "['apple', 'onoins', 'tomatos', 'orange', 'kiwi', 'melon', 'mango']"
            ]
          },
          "metadata": {},
          "execution_count": 367
        }
      ]
    },
    {
      "cell_type": "code",
      "source": [
        "thislist = [\"apple\", \"banana\", \"cherry\", \"orange\", \"kiwi\", \"melon\", \"mango\"]\n",
        "thislist.insert(2,'eatermelon')\n",
        "thislist"
      ],
      "metadata": {
        "id": "eS-D4zLAm3W8",
        "outputId": "b469e6d9-da75-4e6f-8502-15c8985ceb68",
        "colab": {
          "base_uri": "https://localhost:8080/"
        }
      },
      "execution_count": 368,
      "outputs": [
        {
          "output_type": "execute_result",
          "data": {
            "text/plain": [
              "['apple', 'banana', 'eatermelon', 'cherry', 'orange', 'kiwi', 'melon', 'mango']"
            ]
          },
          "metadata": {},
          "execution_count": 368
        }
      ]
    },
    {
      "cell_type": "code",
      "source": [
        "thislist = [\"apple\", \"banana\", \"cherry\", \"orange\", \"kiwi\", \"melon\", \"mango\"]\n",
        "thislist.insert(-1,'eatermelon')\n",
        "thislist"
      ],
      "metadata": {
        "id": "eR3KM4x5nNYX",
        "outputId": "a8bbb1dd-1d50-48ea-dc4c-70d7efd2b7fb",
        "colab": {
          "base_uri": "https://localhost:8080/"
        }
      },
      "execution_count": 369,
      "outputs": [
        {
          "output_type": "execute_result",
          "data": {
            "text/plain": [
              "['apple', 'banana', 'cherry', 'orange', 'kiwi', 'melon', 'eatermelon', 'mango']"
            ]
          },
          "metadata": {},
          "execution_count": 369
        }
      ]
    },
    {
      "cell_type": "code",
      "source": [
        "thislist = [\"apple\", \"banana\", \"cherry\", \"orange\", \"kiwi\", \"melon\", \"mango\"]\n",
        "\n",
        "thislist.append('eatermelon')"
      ],
      "metadata": {
        "id": "yvY0b6Hjnr_Q"
      },
      "execution_count": 370,
      "outputs": []
    },
    {
      "cell_type": "code",
      "source": [
        "thislist"
      ],
      "metadata": {
        "id": "p4RzxZVLn8tx",
        "outputId": "dbb3ae03-8e9b-4cc1-a08f-ca1c2fd2e88a",
        "colab": {
          "base_uri": "https://localhost:8080/"
        }
      },
      "execution_count": 371,
      "outputs": [
        {
          "output_type": "execute_result",
          "data": {
            "text/plain": [
              "['apple', 'banana', 'cherry', 'orange', 'kiwi', 'melon', 'mango', 'eatermelon']"
            ]
          },
          "metadata": {},
          "execution_count": 371
        }
      ]
    },
    {
      "cell_type": "code",
      "source": [
        "l1 = [i for i in range(0,100)]\n",
        "\n",
        "even = []\n",
        "odd = []\n",
        "\n",
        "for i in l1:\n",
        "  if i%2 ==0:\n",
        "    even.append(i)\n",
        "  if i%2 !=0:\n",
        "    odd.append(i)\n",
        "print(even)"
      ],
      "metadata": {
        "id": "dtIJEiqAn966",
        "colab": {
          "base_uri": "https://localhost:8080/"
        },
        "outputId": "60b5ba92-358c-43bf-b40f-37f013bb62a5"
      },
      "execution_count": 372,
      "outputs": [
        {
          "output_type": "stream",
          "name": "stdout",
          "text": [
            "[0, 2, 4, 6, 8, 10, 12, 14, 16, 18, 20, 22, 24, 26, 28, 30, 32, 34, 36, 38, 40, 42, 44, 46, 48, 50, 52, 54, 56, 58, 60, 62, 64, 66, 68, 70, 72, 74, 76, 78, 80, 82, 84, 86, 88, 90, 92, 94, 96, 98]\n"
          ]
        }
      ]
    },
    {
      "cell_type": "code",
      "source": [
        "multiply = []\n",
        "for j in l1:\n",
        "  if j % 3 == 0:\n",
        "    multiply.append(j)"
      ],
      "metadata": {
        "id": "GsXCqPwOowH2"
      },
      "execution_count": 373,
      "outputs": []
    },
    {
      "cell_type": "code",
      "source": [
        "thislist1 = [\"apple\", \"banana\", \"cherry\"]\n",
        "thislist2 = [\"orange\", \"kiwi\", \"melon\", \"mango\"]\n",
        "\n",
        "thislist1.extend(thislist2)"
      ],
      "metadata": {
        "id": "N2LsZJBXp7D9"
      },
      "execution_count": 374,
      "outputs": []
    },
    {
      "cell_type": "code",
      "source": [
        "thislist1"
      ],
      "metadata": {
        "id": "uBfTwHU0skhW",
        "outputId": "cca5f81f-c6c9-4e79-9f1b-f544a97f1cfe",
        "colab": {
          "base_uri": "https://localhost:8080/"
        }
      },
      "execution_count": 375,
      "outputs": [
        {
          "output_type": "execute_result",
          "data": {
            "text/plain": [
              "['apple', 'banana', 'cherry', 'orange', 'kiwi', 'melon', 'mango']"
            ]
          },
          "metadata": {},
          "execution_count": 375
        }
      ]
    },
    {
      "cell_type": "code",
      "source": [
        "thislist = [\"apple\", \"banana\", \"cherry\", \"orange\", \"kiwi\", \"melon\", \"mango\"]\n",
        "\n",
        "# remove cherry from the list using indexing and extend"
      ],
      "metadata": {
        "id": "DERLNzjYsmdz"
      },
      "execution_count": 376,
      "outputs": []
    },
    {
      "cell_type": "code",
      "source": [
        "l1 = thislist[:2]\n",
        "l2 = thislist[3:]"
      ],
      "metadata": {
        "id": "D4NDYrfxtrwn"
      },
      "execution_count": 377,
      "outputs": []
    },
    {
      "cell_type": "code",
      "source": [
        "l2"
      ],
      "metadata": {
        "id": "-6a6jceQtxBv",
        "outputId": "aaeb93f7-3016-4fdc-d9ca-c7a4caf058e7",
        "colab": {
          "base_uri": "https://localhost:8080/"
        }
      },
      "execution_count": 378,
      "outputs": [
        {
          "output_type": "execute_result",
          "data": {
            "text/plain": [
              "['orange', 'kiwi', 'melon', 'mango']"
            ]
          },
          "metadata": {},
          "execution_count": 378
        }
      ]
    },
    {
      "cell_type": "code",
      "source": [
        "l1"
      ],
      "metadata": {
        "id": "wiF_TDOdtyob",
        "outputId": "3c3b9918-c18e-4dea-d939-199de7264214",
        "colab": {
          "base_uri": "https://localhost:8080/"
        }
      },
      "execution_count": 379,
      "outputs": [
        {
          "output_type": "execute_result",
          "data": {
            "text/plain": [
              "['apple', 'banana']"
            ]
          },
          "metadata": {},
          "execution_count": 379
        }
      ]
    },
    {
      "cell_type": "code",
      "source": [
        "l1.extend(l2)"
      ],
      "metadata": {
        "id": "5LhYFu0ltzzx"
      },
      "execution_count": 380,
      "outputs": []
    },
    {
      "cell_type": "code",
      "source": [
        "l1"
      ],
      "metadata": {
        "id": "VBWNgMMHuHJ4",
        "outputId": "89992505-c154-47c4-f99e-8031d9cb28bc",
        "colab": {
          "base_uri": "https://localhost:8080/"
        }
      },
      "execution_count": 381,
      "outputs": [
        {
          "output_type": "execute_result",
          "data": {
            "text/plain": [
              "['apple', 'banana', 'orange', 'kiwi', 'melon', 'mango']"
            ]
          },
          "metadata": {},
          "execution_count": 381
        }
      ]
    },
    {
      "cell_type": "code",
      "source": [
        "thislist = [\"apple\", \"banana\", \"cherry\", \"orange\", \"kiwi\", \"melon\", \"mango\"]\n",
        "thislist.remove('cherry')"
      ],
      "metadata": {
        "id": "2MPvHld7uKOn"
      },
      "execution_count": 382,
      "outputs": []
    },
    {
      "cell_type": "code",
      "source": [
        "thislist"
      ],
      "metadata": {
        "id": "m1fO79AguVcq",
        "outputId": "dc86dd31-85f0-48f0-e70d-b27e3b83124f",
        "colab": {
          "base_uri": "https://localhost:8080/"
        }
      },
      "execution_count": 383,
      "outputs": [
        {
          "output_type": "execute_result",
          "data": {
            "text/plain": [
              "['apple', 'banana', 'orange', 'kiwi', 'melon', 'mango']"
            ]
          },
          "metadata": {},
          "execution_count": 383
        }
      ]
    },
    {
      "cell_type": "code",
      "source": [
        "thislist = [\"apple\", \"banana\", \"cherry\", \"orange\", \"kiwi\", \"melon\", \"mango\"]\n",
        "thislist.pop(2)"
      ],
      "metadata": {
        "id": "FrpDN0FNuWke",
        "outputId": "9d49a1de-73c1-45fe-aed3-db9b5e0ac56a",
        "colab": {
          "base_uri": "https://localhost:8080/",
          "height": 36
        }
      },
      "execution_count": 384,
      "outputs": [
        {
          "output_type": "execute_result",
          "data": {
            "text/plain": [
              "'cherry'"
            ],
            "application/vnd.google.colaboratory.intrinsic+json": {
              "type": "string"
            }
          },
          "metadata": {},
          "execution_count": 384
        }
      ]
    },
    {
      "cell_type": "code",
      "source": [
        "thislist"
      ],
      "metadata": {
        "id": "66NivRMAugrk",
        "outputId": "b602e1ce-7b84-4506-c2f4-509c90f8a165",
        "colab": {
          "base_uri": "https://localhost:8080/"
        }
      },
      "execution_count": 385,
      "outputs": [
        {
          "output_type": "execute_result",
          "data": {
            "text/plain": [
              "['apple', 'banana', 'orange', 'kiwi', 'melon', 'mango']"
            ]
          },
          "metadata": {},
          "execution_count": 385
        }
      ]
    },
    {
      "cell_type": "code",
      "source": [
        "#looping throught the list"
      ],
      "metadata": {
        "id": "tf0h5XdhujiT"
      },
      "execution_count": 386,
      "outputs": []
    },
    {
      "cell_type": "code",
      "source": [
        "thislist = [\"apple\", \"banana\", \"cherry\", \"orange\", \"kiwi\", \"melon\", \"mango\"]\n",
        "for i  in thislist:\n",
        "  print (i)"
      ],
      "metadata": {
        "id": "kyBHrFwRu__V",
        "outputId": "ac9efede-c00a-4dbe-a09e-ce1d2143f067",
        "colab": {
          "base_uri": "https://localhost:8080/"
        }
      },
      "execution_count": 387,
      "outputs": [
        {
          "output_type": "stream",
          "name": "stdout",
          "text": [
            "apple\n",
            "banana\n",
            "cherry\n",
            "orange\n",
            "kiwi\n",
            "melon\n",
            "mango\n"
          ]
        }
      ]
    },
    {
      "cell_type": "code",
      "source": [
        "for i in range(0,len(thislist)):\n",
        "  print (thislist[i])"
      ],
      "metadata": {
        "id": "5XTrMz9qvf8k",
        "outputId": "76dd776c-04f7-4bbc-e193-447361f36946",
        "colab": {
          "base_uri": "https://localhost:8080/"
        }
      },
      "execution_count": 388,
      "outputs": [
        {
          "output_type": "stream",
          "name": "stdout",
          "text": [
            "apple\n",
            "banana\n",
            "cherry\n",
            "orange\n",
            "kiwi\n",
            "melon\n",
            "mango\n"
          ]
        }
      ]
    },
    {
      "cell_type": "code",
      "source": [
        "i = 0#1\n",
        "while(i<len(thislist)):#2\n",
        "  print (thislist[i])\n",
        "  i = i+1#3"
      ],
      "metadata": {
        "id": "J2bwPrDjwWRM",
        "outputId": "6a92a856-f8a8-45fb-ee0c-66c5169ba44c",
        "colab": {
          "base_uri": "https://localhost:8080/"
        }
      },
      "execution_count": 389,
      "outputs": [
        {
          "output_type": "stream",
          "name": "stdout",
          "text": [
            "apple\n",
            "banana\n",
            "cherry\n",
            "orange\n",
            "kiwi\n",
            "melon\n",
            "mango\n"
          ]
        }
      ]
    },
    {
      "cell_type": "code",
      "source": [
        "[print(x) for x in thislist]"
      ],
      "metadata": {
        "id": "nyYBwIsKw5BC",
        "outputId": "352edf94-9586-48a4-91af-cf16942899f5",
        "colab": {
          "base_uri": "https://localhost:8080/"
        }
      },
      "execution_count": 390,
      "outputs": [
        {
          "output_type": "stream",
          "name": "stdout",
          "text": [
            "apple\n",
            "banana\n",
            "cherry\n",
            "orange\n",
            "kiwi\n",
            "melon\n",
            "mango\n"
          ]
        },
        {
          "output_type": "execute_result",
          "data": {
            "text/plain": [
              "[None, None, None, None, None, None, None]"
            ]
          },
          "metadata": {},
          "execution_count": 390
        }
      ]
    },
    {
      "cell_type": "code",
      "source": [
        "thislist = [\"apple\", \"banana\", \"cherry\", \"orange\", \"kiwi\", \"melon\", \"mango\"]\n",
        "newlist = []\n",
        "\n",
        "####\n",
        "# TODO : append elemts to the newlist of charcter a is present in the word\n",
        "###\n",
        "\n",
        "for i in thislist:\n",
        "  if 'a'in i:\n",
        "    newlist.append(i)\n",
        "print (newlist)"
      ],
      "metadata": {
        "id": "ueiwBXKYxpsI",
        "outputId": "4a85add9-a0a5-4de9-c43c-233c819383a5",
        "colab": {
          "base_uri": "https://localhost:8080/"
        }
      },
      "execution_count": 391,
      "outputs": [
        {
          "output_type": "stream",
          "name": "stdout",
          "text": [
            "['apple', 'banana', 'orange', 'mango']\n"
          ]
        }
      ]
    },
    {
      "cell_type": "code",
      "source": [
        "newlist = [x for x in thislist if 'a' in x]"
      ],
      "metadata": {
        "id": "8Vzj-kwQzFIm"
      },
      "execution_count": 392,
      "outputs": []
    },
    {
      "cell_type": "code",
      "source": [
        "newlist"
      ],
      "metadata": {
        "id": "uIY9HPVpzYjz",
        "outputId": "852b4d8e-1c5e-4c51-8b96-b585dd1031e7",
        "colab": {
          "base_uri": "https://localhost:8080/"
        }
      },
      "execution_count": 393,
      "outputs": [
        {
          "output_type": "execute_result",
          "data": {
            "text/plain": [
              "['apple', 'banana', 'orange', 'mango']"
            ]
          },
          "metadata": {},
          "execution_count": 393
        }
      ]
    },
    {
      "cell_type": "code",
      "source": [
        "## sorting"
      ],
      "metadata": {
        "id": "PjLuc1znzZdf"
      },
      "execution_count": 394,
      "outputs": []
    },
    {
      "cell_type": "code",
      "source": [
        "thislist = [100, 50, 65, 82, 23]\n",
        "thislist.sort()"
      ],
      "metadata": {
        "id": "oXP4byCbz28F"
      },
      "execution_count": 395,
      "outputs": []
    },
    {
      "cell_type": "code",
      "source": [
        "thislist"
      ],
      "metadata": {
        "id": "j-zgwmpJz_Cb",
        "outputId": "e38d2de2-271c-4d16-a61a-ce4c285a446f",
        "colab": {
          "base_uri": "https://localhost:8080/"
        }
      },
      "execution_count": 396,
      "outputs": [
        {
          "output_type": "execute_result",
          "data": {
            "text/plain": [
              "[23, 50, 65, 82, 100]"
            ]
          },
          "metadata": {},
          "execution_count": 396
        }
      ]
    },
    {
      "cell_type": "code",
      "source": [
        "thislist.sort(reverse = True)"
      ],
      "metadata": {
        "id": "Nbb07mSX0A1T"
      },
      "execution_count": 397,
      "outputs": []
    },
    {
      "cell_type": "code",
      "source": [
        "thislist"
      ],
      "metadata": {
        "id": "zbPt-SjS0Hfq",
        "outputId": "fc0ca714-99a6-44c0-ab02-37cf3ef94430",
        "colab": {
          "base_uri": "https://localhost:8080/"
        }
      },
      "execution_count": 398,
      "outputs": [
        {
          "output_type": "execute_result",
          "data": {
            "text/plain": [
              "[100, 82, 65, 50, 23]"
            ]
          },
          "metadata": {},
          "execution_count": 398
        }
      ]
    },
    {
      "cell_type": "code",
      "source": [
        "# create a function that calculates n-50 and check it this is less that zero you have to multply with -1"
      ],
      "metadata": {
        "id": "PFPYGZqk0I5M"
      },
      "execution_count": 399,
      "outputs": []
    },
    {
      "cell_type": "code",
      "source": [
        "def func1(n):\n",
        "  i = n-50\n",
        "  if i < 0:\n",
        "    i *= -1\n",
        "  return i"
      ],
      "metadata": {
        "id": "cTqiCErQ1Ugs"
      },
      "execution_count": 400,
      "outputs": []
    },
    {
      "cell_type": "code",
      "source": [
        "func1(10)"
      ],
      "metadata": {
        "id": "Vg-HDHZD1nv2",
        "outputId": "849a3efc-84cb-4610-d394-99c1ebe85c75",
        "colab": {
          "base_uri": "https://localhost:8080/"
        }
      },
      "execution_count": 401,
      "outputs": [
        {
          "output_type": "execute_result",
          "data": {
            "text/plain": [
              "40"
            ]
          },
          "metadata": {},
          "execution_count": 401
        }
      ]
    },
    {
      "cell_type": "code",
      "source": [
        "thislist = [100, 50, 65, 82, 23]\n",
        "thislist.sort(key = func1)"
      ],
      "metadata": {
        "id": "iXmFfqf_1pvt"
      },
      "execution_count": 402,
      "outputs": []
    },
    {
      "cell_type": "code",
      "source": [
        "thislist"
      ],
      "metadata": {
        "id": "av-Zm0ke13Bu",
        "outputId": "4e4fbb78-a269-414c-87cf-47768bb66039",
        "colab": {
          "base_uri": "https://localhost:8080/"
        }
      },
      "execution_count": 403,
      "outputs": [
        {
          "output_type": "execute_result",
          "data": {
            "text/plain": [
              "[50, 65, 23, 82, 100]"
            ]
          },
          "metadata": {},
          "execution_count": 403
        }
      ]
    },
    {
      "cell_type": "code",
      "source": [
        "'''\n",
        "[50,0,15,32,27]\n",
        "[0,1,2,3,4]\n",
        "Sorted position [1,2,4,3,0]\n",
        "\n",
        "'''"
      ],
      "metadata": {
        "id": "CMBJ-Zve2-w_",
        "colab": {
          "base_uri": "https://localhost:8080/",
          "height": 36
        },
        "outputId": "14a7fcca-23d1-416a-e72d-902adad330d1"
      },
      "execution_count": 404,
      "outputs": [
        {
          "output_type": "execute_result",
          "data": {
            "text/plain": [
              "'\\n[50,0,15,32,27]\\n[0,1,2,3,4]\\nSorted position [1,2,4,3,0]\\n\\n'"
            ],
            "application/vnd.google.colaboratory.intrinsic+json": {
              "type": "string"
            }
          },
          "metadata": {},
          "execution_count": 404
        }
      ]
    },
    {
      "cell_type": "markdown",
      "source": [
        "## copy lists"
      ],
      "metadata": {
        "id": "TmLuTyYyL0CZ"
      }
    },
    {
      "cell_type": "code",
      "source": [
        "list1 = [12,23,546,768]\n",
        "list2 = list1.copy()"
      ],
      "metadata": {
        "id": "BKATPHW4LFz6"
      },
      "execution_count": 405,
      "outputs": []
    },
    {
      "cell_type": "code",
      "source": [
        "list2"
      ],
      "metadata": {
        "colab": {
          "base_uri": "https://localhost:8080/"
        },
        "id": "DRYAYZJ1MTie",
        "outputId": "02e12ca6-59b2-4044-a0be-5b08a3af7457"
      },
      "execution_count": 406,
      "outputs": [
        {
          "output_type": "execute_result",
          "data": {
            "text/plain": [
              "[12, 23, 546, 768]"
            ]
          },
          "metadata": {},
          "execution_count": 406
        }
      ]
    },
    {
      "cell_type": "code",
      "source": [
        "list2[2] = 45"
      ],
      "metadata": {
        "id": "5bHAd8CiMVLj"
      },
      "execution_count": 407,
      "outputs": []
    },
    {
      "cell_type": "code",
      "source": [
        "list2"
      ],
      "metadata": {
        "colab": {
          "base_uri": "https://localhost:8080/"
        },
        "id": "aL490hxeMdZD",
        "outputId": "54b5bed4-dca6-48bd-dd1e-abfde04635d6"
      },
      "execution_count": 408,
      "outputs": [
        {
          "output_type": "execute_result",
          "data": {
            "text/plain": [
              "[12, 23, 45, 768]"
            ]
          },
          "metadata": {},
          "execution_count": 408
        }
      ]
    },
    {
      "cell_type": "code",
      "source": [
        "list1"
      ],
      "metadata": {
        "colab": {
          "base_uri": "https://localhost:8080/"
        },
        "id": "1qOAN0MSMeJX",
        "outputId": "9f36f310-2a61-4f91-c9df-9da382ed646a"
      },
      "execution_count": 409,
      "outputs": [
        {
          "output_type": "execute_result",
          "data": {
            "text/plain": [
              "[12, 23, 546, 768]"
            ]
          },
          "metadata": {},
          "execution_count": 409
        }
      ]
    },
    {
      "cell_type": "code",
      "source": [
        "list1[2] = 21"
      ],
      "metadata": {
        "id": "Dcb2iEEuMfTz"
      },
      "execution_count": 410,
      "outputs": []
    },
    {
      "cell_type": "code",
      "source": [
        "list1"
      ],
      "metadata": {
        "colab": {
          "base_uri": "https://localhost:8080/"
        },
        "id": "nls6Mbq0Mnia",
        "outputId": "776e4737-565f-408d-fcfd-20909d6e4f96"
      },
      "execution_count": 411,
      "outputs": [
        {
          "output_type": "execute_result",
          "data": {
            "text/plain": [
              "[12, 23, 21, 768]"
            ]
          },
          "metadata": {},
          "execution_count": 411
        }
      ]
    },
    {
      "cell_type": "code",
      "source": [
        "list2 #these are called objects"
      ],
      "metadata": {
        "colab": {
          "base_uri": "https://localhost:8080/"
        },
        "id": "U--OEBOOModO",
        "outputId": "fb4e94f2-ec3c-49ce-9e8c-e1d9736e07d8"
      },
      "execution_count": 412,
      "outputs": [
        {
          "output_type": "execute_result",
          "data": {
            "text/plain": [
              "[12, 23, 45, 768]"
            ]
          },
          "metadata": {},
          "execution_count": 412
        }
      ]
    },
    {
      "cell_type": "code",
      "source": [
        "list1 = [\"a\",\"b\",\"c\"]\n",
        "list2 = [1,2,3]"
      ],
      "metadata": {
        "id": "_FHbmqfmMpi6"
      },
      "execution_count": 413,
      "outputs": []
    },
    {
      "cell_type": "code",
      "source": [
        "list1 + list2"
      ],
      "metadata": {
        "colab": {
          "base_uri": "https://localhost:8080/"
        },
        "id": "D3_X0VHPN9BK",
        "outputId": "59fc0914-f866-44e6-ee31-765d31c80a45"
      },
      "execution_count": 414,
      "outputs": [
        {
          "output_type": "execute_result",
          "data": {
            "text/plain": [
              "['a', 'b', 'c', 1, 2, 3]"
            ]
          },
          "metadata": {},
          "execution_count": 414
        }
      ]
    },
    {
      "cell_type": "code",
      "source": [
        "for i in list2:\n",
        "  list1.append(i)"
      ],
      "metadata": {
        "id": "9rDt3ohkN-Y4"
      },
      "execution_count": 415,
      "outputs": []
    },
    {
      "cell_type": "code",
      "source": [
        "list1"
      ],
      "metadata": {
        "colab": {
          "base_uri": "https://localhost:8080/"
        },
        "id": "vo8RdSOvOmHK",
        "outputId": "ce97f606-dba7-4c28-9e69-0753e2b5e327"
      },
      "execution_count": 416,
      "outputs": [
        {
          "output_type": "execute_result",
          "data": {
            "text/plain": [
              "['a', 'b', 'c', 1, 2, 3]"
            ]
          },
          "metadata": {},
          "execution_count": 416
        }
      ]
    },
    {
      "cell_type": "markdown",
      "source": [
        "## TUples"
      ],
      "metadata": {
        "id": "zNudGjQdOxwL"
      }
    },
    {
      "cell_type": "code",
      "source": [
        "tup1 = ('aj','an','by')\n",
        "print (tup1)"
      ],
      "metadata": {
        "colab": {
          "base_uri": "https://localhost:8080/"
        },
        "id": "kVlbCliIOnQz",
        "outputId": "3fd0c446-2b83-4674-8373-92ea8e80ada1"
      },
      "execution_count": 417,
      "outputs": [
        {
          "output_type": "stream",
          "name": "stdout",
          "text": [
            "('aj', 'an', 'by')\n"
          ]
        }
      ]
    },
    {
      "cell_type": "code",
      "source": [
        "tup1.append('b')"
      ],
      "metadata": {
        "colab": {
          "base_uri": "https://localhost:8080/",
          "height": 175
        },
        "id": "OHP5W-9PO_VL",
        "outputId": "532fa7a4-76ed-432c-a691-bdfe9663ff6f"
      },
      "execution_count": 419,
      "outputs": [
        {
          "output_type": "error",
          "ename": "AttributeError",
          "evalue": "ignored",
          "traceback": [
            "\u001b[0;31m---------------------------------------------------------------------------\u001b[0m",
            "\u001b[0;31mAttributeError\u001b[0m                            Traceback (most recent call last)",
            "\u001b[0;32m<ipython-input-419-399f8d6ddd82>\u001b[0m in \u001b[0;36m<cell line: 1>\u001b[0;34m()\u001b[0m\n\u001b[0;32m----> 1\u001b[0;31m \u001b[0mtup1\u001b[0m\u001b[0;34m.\u001b[0m\u001b[0mappend\u001b[0m\u001b[0;34m(\u001b[0m\u001b[0;34m'b'\u001b[0m\u001b[0;34m)\u001b[0m\u001b[0;34m\u001b[0m\u001b[0;34m\u001b[0m\u001b[0m\n\u001b[0m",
            "\u001b[0;31mAttributeError\u001b[0m: 'tuple' object has no attribute 'append'"
          ]
        }
      ]
    },
    {
      "cell_type": "code",
      "source": [
        "len(tup1)"
      ],
      "metadata": {
        "colab": {
          "base_uri": "https://localhost:8080/"
        },
        "id": "W1U0fmhoPed4",
        "outputId": "4754f3fd-6480-4409-f755-f24443ca4907"
      },
      "execution_count": 420,
      "outputs": [
        {
          "output_type": "execute_result",
          "data": {
            "text/plain": [
              "3"
            ]
          },
          "metadata": {},
          "execution_count": 420
        }
      ]
    },
    {
      "cell_type": "code",
      "source": [
        "type(tup1)"
      ],
      "metadata": {
        "colab": {
          "base_uri": "https://localhost:8080/"
        },
        "id": "xmhGCLxWPs5u",
        "outputId": "4447e83d-da79-41e0-dd1e-f22bd2c3c1f0"
      },
      "execution_count": 421,
      "outputs": [
        {
          "output_type": "execute_result",
          "data": {
            "text/plain": [
              "tuple"
            ]
          },
          "metadata": {},
          "execution_count": 421
        }
      ]
    },
    {
      "cell_type": "code",
      "source": [
        "a1 = (\"apple\",)\n",
        "print (a1)"
      ],
      "metadata": {
        "colab": {
          "base_uri": "https://localhost:8080/"
        },
        "id": "4XsR9yWCPxK8",
        "outputId": "1c20538e-cae3-4ec0-c43e-b3ccf34a36e6"
      },
      "execution_count": 422,
      "outputs": [
        {
          "output_type": "stream",
          "name": "stdout",
          "text": [
            "('apple',)\n"
          ]
        }
      ]
    },
    {
      "cell_type": "code",
      "source": [
        "print (type(a1))"
      ],
      "metadata": {
        "colab": {
          "base_uri": "https://localhost:8080/"
        },
        "id": "Bfpp3W5NQGnX",
        "outputId": "7196eb52-9e0e-405e-b47d-529c627d331f"
      },
      "execution_count": 423,
      "outputs": [
        {
          "output_type": "stream",
          "name": "stdout",
          "text": [
            "<class 'tuple'>\n"
          ]
        }
      ]
    },
    {
      "cell_type": "code",
      "source": [
        "tup1 = ('aj','an','by')\n",
        "tup1 = list(tup1)\n",
        "tup1.append('cz')\n",
        "tup1 = tuple(tup1)\n",
        "print (tup1)"
      ],
      "metadata": {
        "colab": {
          "base_uri": "https://localhost:8080/"
        },
        "id": "WVym_TAwQJaW",
        "outputId": "aefd0554-598a-443c-b061-55cec05f1d92"
      },
      "execution_count": 424,
      "outputs": [
        {
          "output_type": "stream",
          "name": "stdout",
          "text": [
            "('aj', 'an', 'by', 'cz')\n"
          ]
        }
      ]
    },
    {
      "cell_type": "code",
      "source": [
        "thistuple = (\"apple\", \"banana\", \"cherry\")\n",
        "y = (\"orange\",)\n",
        "\n",
        "thistuple + y"
      ],
      "metadata": {
        "colab": {
          "base_uri": "https://localhost:8080/"
        },
        "id": "yr_vSjChQ2W4",
        "outputId": "e0b45621-7632-405a-9c7f-bc2af4dbf0ae"
      },
      "execution_count": 425,
      "outputs": [
        {
          "output_type": "execute_result",
          "data": {
            "text/plain": [
              "('apple', 'banana', 'cherry', 'orange')"
            ]
          },
          "metadata": {},
          "execution_count": 425
        }
      ]
    },
    {
      "cell_type": "markdown",
      "source": [
        "## Unpack"
      ],
      "metadata": {
        "id": "0EbN5uAbRagz"
      }
    },
    {
      "cell_type": "code",
      "source": [
        "thistuple = (\"apple\", \"banana\", \"cherry\")"
      ],
      "metadata": {
        "id": "YiHjZG8CRDtM"
      },
      "execution_count": 426,
      "outputs": []
    },
    {
      "cell_type": "code",
      "source": [
        "(a,b,c) = thistuple"
      ],
      "metadata": {
        "id": "D9fswzQgRfOe"
      },
      "execution_count": 427,
      "outputs": []
    },
    {
      "cell_type": "code",
      "source": [
        "a"
      ],
      "metadata": {
        "colab": {
          "base_uri": "https://localhost:8080/",
          "height": 36
        },
        "id": "-6VIdKfRRmFP",
        "outputId": "30cf192c-4024-46bf-ab77-8a9d4bf3ac4e"
      },
      "execution_count": 428,
      "outputs": [
        {
          "output_type": "execute_result",
          "data": {
            "text/plain": [
              "'apple'"
            ],
            "application/vnd.google.colaboratory.intrinsic+json": {
              "type": "string"
            }
          },
          "metadata": {},
          "execution_count": 428
        }
      ]
    },
    {
      "cell_type": "code",
      "source": [
        "b"
      ],
      "metadata": {
        "colab": {
          "base_uri": "https://localhost:8080/",
          "height": 36
        },
        "id": "g5N0A7VtRnYH",
        "outputId": "4efde512-31c4-4198-80cb-f941637d01a7"
      },
      "execution_count": 429,
      "outputs": [
        {
          "output_type": "execute_result",
          "data": {
            "text/plain": [
              "'banana'"
            ],
            "application/vnd.google.colaboratory.intrinsic+json": {
              "type": "string"
            }
          },
          "metadata": {},
          "execution_count": 429
        }
      ]
    },
    {
      "cell_type": "code",
      "source": [
        "c"
      ],
      "metadata": {
        "colab": {
          "base_uri": "https://localhost:8080/",
          "height": 36
        },
        "id": "6bvfFc_-Ro0l",
        "outputId": "92baf071-eda1-4345-ad97-f8eb5b22bb15"
      },
      "execution_count": 430,
      "outputs": [
        {
          "output_type": "execute_result",
          "data": {
            "text/plain": [
              "'cherry'"
            ],
            "application/vnd.google.colaboratory.intrinsic+json": {
              "type": "string"
            }
          },
          "metadata": {},
          "execution_count": 430
        }
      ]
    },
    {
      "cell_type": "code",
      "source": [
        "thistuple = (\"apple\", \"banana\", \"cherry\")\n",
        "(a,*b) = thistuple"
      ],
      "metadata": {
        "id": "1GRIjzlIRrCn"
      },
      "execution_count": 431,
      "outputs": []
    },
    {
      "cell_type": "code",
      "source": [
        "a"
      ],
      "metadata": {
        "colab": {
          "base_uri": "https://localhost:8080/",
          "height": 36
        },
        "id": "-OvAbYT7Rw9l",
        "outputId": "652af48d-6920-4a2f-a6d2-0cde0979d3c7"
      },
      "execution_count": 432,
      "outputs": [
        {
          "output_type": "execute_result",
          "data": {
            "text/plain": [
              "'apple'"
            ],
            "application/vnd.google.colaboratory.intrinsic+json": {
              "type": "string"
            }
          },
          "metadata": {},
          "execution_count": 432
        }
      ]
    },
    {
      "cell_type": "code",
      "source": [
        "b"
      ],
      "metadata": {
        "colab": {
          "base_uri": "https://localhost:8080/"
        },
        "id": "PuvzscTzR4wC",
        "outputId": "6befcf89-7342-475b-c61c-e2a8a6913d76"
      },
      "execution_count": 433,
      "outputs": [
        {
          "output_type": "execute_result",
          "data": {
            "text/plain": [
              "['banana', 'cherry']"
            ]
          },
          "metadata": {},
          "execution_count": 433
        }
      ]
    },
    {
      "cell_type": "code",
      "source": [
        "for i in thistuple:\n",
        "  print (i)"
      ],
      "metadata": {
        "colab": {
          "base_uri": "https://localhost:8080/"
        },
        "id": "ZXvNtrnlR5z6",
        "outputId": "578e3e7b-f9f3-4b58-bc84-6dcfd8680f40"
      },
      "execution_count": 434,
      "outputs": [
        {
          "output_type": "stream",
          "name": "stdout",
          "text": [
            "apple\n",
            "banana\n",
            "cherry\n"
          ]
        }
      ]
    },
    {
      "cell_type": "code",
      "source": [
        "for j in range(0,len(thistuple)):\n",
        "  print (thistuple[j])"
      ],
      "metadata": {
        "colab": {
          "base_uri": "https://localhost:8080/"
        },
        "id": "4LL47DrqSZWi",
        "outputId": "cb67f342-3779-4579-d7db-2ef4fdfc1119"
      },
      "execution_count": 435,
      "outputs": [
        {
          "output_type": "stream",
          "name": "stdout",
          "text": [
            "apple\n",
            "banana\n",
            "cherry\n"
          ]
        }
      ]
    },
    {
      "cell_type": "code",
      "source": [
        "j = 0\n",
        "\n",
        "while(j<len(thistuple)):\n",
        "  print (thistuple[j])\n",
        "  j = j+1"
      ],
      "metadata": {
        "colab": {
          "base_uri": "https://localhost:8080/"
        },
        "id": "JTpx5bETSmxe",
        "outputId": "3e22f3d3-29de-4c0c-fa07-4850ef6be61a"
      },
      "execution_count": 436,
      "outputs": [
        {
          "output_type": "stream",
          "name": "stdout",
          "text": [
            "apple\n",
            "banana\n",
            "cherry\n"
          ]
        }
      ]
    },
    {
      "cell_type": "markdown",
      "source": [
        "## Sets"
      ],
      "metadata": {
        "id": "gEUwVx7vUPf9"
      }
    },
    {
      "cell_type": "code",
      "source": [
        "# sets unordererd, unchangeable, unindexed"
      ],
      "metadata": {
        "id": "ZrstJF96Tvgr"
      },
      "execution_count": 437,
      "outputs": []
    },
    {
      "cell_type": "code",
      "source": [
        "myset = {\"coconut\",\"mango\",\"orange\"}"
      ],
      "metadata": {
        "id": "lWtX-U_6Ugr_"
      },
      "execution_count": 438,
      "outputs": []
    },
    {
      "cell_type": "code",
      "source": [
        "myset = {\"coconut\",\"mango\",\"orange\",\"orange\"}\n",
        "mytup = (\"coconut\",\"mango\",\"orange\",\"orange\")\n",
        "mylist = [\"coconut\",\"mango\",\"orange\",\"orange\"]\n",
        "\n",
        "print (myset)\n",
        "print (mytup)\n",
        "print (mylist)"
      ],
      "metadata": {
        "colab": {
          "base_uri": "https://localhost:8080/"
        },
        "id": "3FB689Q-Uu2l",
        "outputId": "efb6f03b-8c2a-41ad-f052-73df03799025"
      },
      "execution_count": 441,
      "outputs": [
        {
          "output_type": "stream",
          "name": "stdout",
          "text": [
            "{'mango', 'coconut', 'orange'}\n",
            "('coconut', 'mango', 'orange', 'orange')\n",
            "['coconut', 'mango', 'orange', 'orange']\n"
          ]
        }
      ]
    },
    {
      "cell_type": "code",
      "source": [
        "thisset = {\"apple\", \"banana\", \"cherry\", True, 1, 2}\n",
        "\n",
        "print(thisset) #sets treat True and 1 as same"
      ],
      "metadata": {
        "colab": {
          "base_uri": "https://localhost:8080/"
        },
        "id": "1P8sr9rCUoJu",
        "outputId": "028ac572-f637-4d22-ddf0-c03526832cb6"
      },
      "execution_count": 439,
      "outputs": [
        {
          "output_type": "stream",
          "name": "stdout",
          "text": [
            "{True, 2, 'banana', 'cherry', 'apple'}\n"
          ]
        }
      ]
    },
    {
      "cell_type": "code",
      "source": [
        "type(thisset)"
      ],
      "metadata": {
        "colab": {
          "base_uri": "https://localhost:8080/"
        },
        "id": "WmDiWKW2UsRh",
        "outputId": "a8259b95-a163-4033-adff-1b33dffb12cf"
      },
      "execution_count": 440,
      "outputs": [
        {
          "output_type": "execute_result",
          "data": {
            "text/plain": [
              "set"
            ]
          },
          "metadata": {},
          "execution_count": 440
        }
      ]
    },
    {
      "cell_type": "code",
      "source": [
        "len(thisset)"
      ],
      "metadata": {
        "colab": {
          "base_uri": "https://localhost:8080/"
        },
        "id": "JCF_kNm3Vmlu",
        "outputId": "5eb8594a-6e54-4f8e-9ee8-e4420cbc2219"
      },
      "execution_count": 442,
      "outputs": [
        {
          "output_type": "execute_result",
          "data": {
            "text/plain": [
              "5"
            ]
          },
          "metadata": {},
          "execution_count": 442
        }
      ]
    },
    {
      "cell_type": "code",
      "source": [
        "thisset = {\"apple\", \"banana\", \"cherry\"}\n",
        "thisset.add(\"orange\")\n",
        "print(thisset)"
      ],
      "metadata": {
        "colab": {
          "base_uri": "https://localhost:8080/"
        },
        "id": "tIoZi7IIVnp6",
        "outputId": "e79ad93e-b294-4701-e072-21930d3d0bd1"
      },
      "execution_count": 443,
      "outputs": [
        {
          "output_type": "stream",
          "name": "stdout",
          "text": [
            "{'banana', 'cherry', 'apple', 'orange'}\n"
          ]
        }
      ]
    },
    {
      "cell_type": "code",
      "source": [
        "thisset = {\"apple\", \"banana\", \"cherry\"}\n",
        "tropical = {\"pineapple\", \"mango\", \"papaya\"}\n",
        "\n",
        "thisset.update(tropical)\n",
        "\n",
        "print(thisset)"
      ],
      "metadata": {
        "colab": {
          "base_uri": "https://localhost:8080/"
        },
        "id": "_1OAcpU6Vxn6",
        "outputId": "b210a77f-a32b-4e57-b9d6-17d7720b6084"
      },
      "execution_count": 444,
      "outputs": [
        {
          "output_type": "stream",
          "name": "stdout",
          "text": [
            "{'mango', 'papaya', 'banana', 'cherry', 'apple', 'pineapple'}\n"
          ]
        }
      ]
    },
    {
      "cell_type": "code",
      "source": [
        "a = {'a','b','c'}\n",
        "b = {1,2,3}\n",
        "\n",
        "a.union(b)"
      ],
      "metadata": {
        "colab": {
          "base_uri": "https://localhost:8080/"
        },
        "id": "gz3Gz1bJV4us",
        "outputId": "44bffb0b-3e57-4ccd-a60c-8ad170f5e6a6"
      },
      "execution_count": 445,
      "outputs": [
        {
          "output_type": "execute_result",
          "data": {
            "text/plain": [
              "{1, 2, 3, 'a', 'b', 'c'}"
            ]
          },
          "metadata": {},
          "execution_count": 445
        }
      ]
    },
    {
      "cell_type": "markdown",
      "source": [
        "## Dictionaries"
      ],
      "metadata": {
        "id": "DR-gzSkvWSMC"
      }
    },
    {
      "cell_type": "code",
      "source": [
        "thisdict = {'Manoj':76,'Ram':46,'Vinay':56,'Nikhil':66} #{key:value}"
      ],
      "metadata": {
        "id": "BDU_IHKqWLFR"
      },
      "execution_count": 446,
      "outputs": []
    },
    {
      "cell_type": "code",
      "source": [
        "thisdict"
      ],
      "metadata": {
        "colab": {
          "base_uri": "https://localhost:8080/"
        },
        "id": "XtWKf887YgT4",
        "outputId": "43443dfb-d9d1-4db8-adf3-c13487b47097"
      },
      "execution_count": 447,
      "outputs": [
        {
          "output_type": "execute_result",
          "data": {
            "text/plain": [
              "{'Manoj': 76, 'Ram': 46, 'Vinay': 56, 'Nikhil': 66}"
            ]
          },
          "metadata": {},
          "execution_count": 447
        }
      ]
    },
    {
      "cell_type": "code",
      "source": [
        "thisdict['Vinay']"
      ],
      "metadata": {
        "colab": {
          "base_uri": "https://localhost:8080/"
        },
        "id": "B4v6obmYYhQJ",
        "outputId": "297a650c-4d31-4fcf-aa41-617aeba52149"
      },
      "execution_count": 448,
      "outputs": [
        {
          "output_type": "execute_result",
          "data": {
            "text/plain": [
              "56"
            ]
          },
          "metadata": {},
          "execution_count": 448
        }
      ]
    },
    {
      "cell_type": "code",
      "source": [
        "thisdict = {'Manoj':76,'Ram':46,'Vinay':56,'Nikhil':66,'Nikhil':76}"
      ],
      "metadata": {
        "id": "7aLX_JLGY3ux"
      },
      "execution_count": 449,
      "outputs": []
    },
    {
      "cell_type": "code",
      "source": [
        "thisdict"
      ],
      "metadata": {
        "colab": {
          "base_uri": "https://localhost:8080/"
        },
        "id": "dfDtosm-ZH62",
        "outputId": "6ab17601-9ca8-4aad-a62e-1fc1574668a2"
      },
      "execution_count": 450,
      "outputs": [
        {
          "output_type": "execute_result",
          "data": {
            "text/plain": [
              "{'Manoj': 76, 'Ram': 46, 'Vinay': 56, 'Nikhil': 76}"
            ]
          },
          "metadata": {},
          "execution_count": 450
        }
      ]
    },
    {
      "cell_type": "code",
      "source": [
        "len(thisdict)"
      ],
      "metadata": {
        "colab": {
          "base_uri": "https://localhost:8080/"
        },
        "id": "pGVUyy-LZJc2",
        "outputId": "e14deb6b-6da4-4b9d-c74d-e783dde46318"
      },
      "execution_count": 451,
      "outputs": [
        {
          "output_type": "execute_result",
          "data": {
            "text/plain": [
              "4"
            ]
          },
          "metadata": {},
          "execution_count": 451
        }
      ]
    },
    {
      "cell_type": "code",
      "source": [
        "#keys in the dictinary\n",
        "thisdict.keys()"
      ],
      "metadata": {
        "colab": {
          "base_uri": "https://localhost:8080/"
        },
        "id": "ra-QWPasaUpB",
        "outputId": "a8815139-f47f-4814-f86e-001836559ae9"
      },
      "execution_count": 452,
      "outputs": [
        {
          "output_type": "execute_result",
          "data": {
            "text/plain": [
              "dict_keys(['Manoj', 'Ram', 'Vinay', 'Nikhil'])"
            ]
          },
          "metadata": {},
          "execution_count": 452
        }
      ]
    },
    {
      "cell_type": "code",
      "source": [
        "thisdict.values()"
      ],
      "metadata": {
        "colab": {
          "base_uri": "https://localhost:8080/"
        },
        "id": "w2HxVHpJaaYO",
        "outputId": "985cad72-392b-4c04-b1fd-3c9866619520"
      },
      "execution_count": 453,
      "outputs": [
        {
          "output_type": "execute_result",
          "data": {
            "text/plain": [
              "dict_values([76, 46, 56, 76])"
            ]
          },
          "metadata": {},
          "execution_count": 453
        }
      ]
    },
    {
      "cell_type": "code",
      "source": [
        "q = 'governament'\n",
        "q[7:]"
      ],
      "metadata": {
        "colab": {
          "base_uri": "https://localhost:8080/",
          "height": 36
        },
        "id": "N9-tHbQlafBa",
        "outputId": "7b51d5c3-4b08-4b48-dc1a-4dc6c169fd19"
      },
      "execution_count": 454,
      "outputs": [
        {
          "output_type": "execute_result",
          "data": {
            "text/plain": [
              "'ment'"
            ],
            "application/vnd.google.colaboratory.intrinsic+json": {
              "type": "string"
            }
          },
          "metadata": {},
          "execution_count": 454
        }
      ]
    },
    {
      "cell_type": "code",
      "source": [
        "l1 = [i for i in range(0,100)]\n",
        "\n",
        "even = []\n",
        "odd = []\n",
        "for i in l1:\n",
        "  if i%2 == 0:\n",
        "    even.append(i+3)\n",
        "  if i%2 != 0:\n",
        "    odd.append(i+7)"
      ],
      "metadata": {
        "id": "1bFWmSLvbSDQ"
      },
      "execution_count": 455,
      "outputs": []
    },
    {
      "cell_type": "code",
      "source": [
        "thisdict = {'Marks':20,'firstname':'Vinay','year':1998}"
      ],
      "metadata": {
        "id": "Be4tKOXJb2eo"
      },
      "execution_count": 456,
      "outputs": []
    },
    {
      "cell_type": "code",
      "source": [
        "type(thisdict)"
      ],
      "metadata": {
        "colab": {
          "base_uri": "https://localhost:8080/"
        },
        "id": "17Q7SWWnVh_h",
        "outputId": "e1f0f314-d183-46f8-f325-09d89ee8e798"
      },
      "execution_count": 457,
      "outputs": [
        {
          "output_type": "execute_result",
          "data": {
            "text/plain": [
              "dict"
            ]
          },
          "metadata": {},
          "execution_count": 457
        }
      ]
    },
    {
      "cell_type": "code",
      "source": [
        "thisdict.values()"
      ],
      "metadata": {
        "colab": {
          "base_uri": "https://localhost:8080/"
        },
        "id": "XhTBJVINVl3s",
        "outputId": "21edf243-0f09-4e90-fee2-69a5f29eccae"
      },
      "execution_count": 458,
      "outputs": [
        {
          "output_type": "execute_result",
          "data": {
            "text/plain": [
              "dict_values([20, 'Vinay', 1998])"
            ]
          },
          "metadata": {},
          "execution_count": 458
        }
      ]
    },
    {
      "cell_type": "code",
      "source": [
        "thisdict.keys()"
      ],
      "metadata": {
        "colab": {
          "base_uri": "https://localhost:8080/"
        },
        "id": "FPRYXIpOWETC",
        "outputId": "0cb243c8-a85e-4b36-a5ba-9cebee5dc1b7"
      },
      "execution_count": 459,
      "outputs": [
        {
          "output_type": "execute_result",
          "data": {
            "text/plain": [
              "dict_keys(['Marks', 'firstname', 'year'])"
            ]
          },
          "metadata": {},
          "execution_count": 459
        }
      ]
    },
    {
      "cell_type": "code",
      "source": [
        "thisdict['Marks']"
      ],
      "metadata": {
        "colab": {
          "base_uri": "https://localhost:8080/"
        },
        "id": "bwUL8MTWWKrM",
        "outputId": "6e07b4d2-2cec-4056-c77d-f87178723400"
      },
      "execution_count": 460,
      "outputs": [
        {
          "output_type": "execute_result",
          "data": {
            "text/plain": [
              "20"
            ]
          },
          "metadata": {},
          "execution_count": 460
        }
      ]
    },
    {
      "cell_type": "code",
      "source": [
        "thisdict['Marks'] = 80\n",
        "thisdict"
      ],
      "metadata": {
        "colab": {
          "base_uri": "https://localhost:8080/"
        },
        "id": "Z5bsn1quWNBq",
        "outputId": "c359d677-3537-420c-e941-ea57cd106509"
      },
      "execution_count": 461,
      "outputs": [
        {
          "output_type": "execute_result",
          "data": {
            "text/plain": [
              "{'Marks': 80, 'firstname': 'Vinay', 'year': 1998}"
            ]
          },
          "metadata": {},
          "execution_count": 461
        }
      ]
    },
    {
      "cell_type": "code",
      "source": [
        "thisdict.items() #retruns a tuple of key value pairs"
      ],
      "metadata": {
        "colab": {
          "base_uri": "https://localhost:8080/"
        },
        "id": "vIDQ01NKWbhL",
        "outputId": "6c9fb684-433c-41a3-8ff9-8919c5efc49b"
      },
      "execution_count": 462,
      "outputs": [
        {
          "output_type": "execute_result",
          "data": {
            "text/plain": [
              "dict_items([('Marks', 80), ('firstname', 'Vinay'), ('year', 1998)])"
            ]
          },
          "metadata": {},
          "execution_count": 462
        }
      ]
    },
    {
      "cell_type": "code",
      "source": [
        "for k,v in thisdict.items():\n",
        "  print (k)\n",
        "  print (v)"
      ],
      "metadata": {
        "colab": {
          "base_uri": "https://localhost:8080/"
        },
        "id": "omBWGxqXWh7T",
        "outputId": "c6070207-4d6a-455e-d237-f4b38e14e191"
      },
      "execution_count": 463,
      "outputs": [
        {
          "output_type": "stream",
          "name": "stdout",
          "text": [
            "Marks\n",
            "80\n",
            "firstname\n",
            "Vinay\n",
            "year\n",
            "1998\n"
          ]
        }
      ]
    },
    {
      "cell_type": "code",
      "source": [
        "thisdict = {'marks_5_sunjects':[24,56,76,34,43],'Average':0,'Rank':1}"
      ],
      "metadata": {
        "id": "nmS93ab-XuHK"
      },
      "execution_count": 464,
      "outputs": []
    },
    {
      "cell_type": "code",
      "source": [
        "thisdict"
      ],
      "metadata": {
        "colab": {
          "base_uri": "https://localhost:8080/"
        },
        "id": "eQHu0uqqY1Iu",
        "outputId": "4f80c779-af3d-4059-b555-96bc84efde13"
      },
      "execution_count": 465,
      "outputs": [
        {
          "output_type": "execute_result",
          "data": {
            "text/plain": [
              "{'marks_5_sunjects': [24, 56, 76, 34, 43], 'Average': 0, 'Rank': 1}"
            ]
          },
          "metadata": {},
          "execution_count": 465
        }
      ]
    },
    {
      "cell_type": "code",
      "source": [
        "for k,v in thisdict.items():\n",
        "  if k == 'marks_5_sunjects':\n",
        "    sum = 0\n",
        "    for j in v:\n",
        "      sum += j\n",
        "    av = sum/len(v)\n",
        "  if k == 'Average':\n",
        "    thisdict[k] = av"
      ],
      "metadata": {
        "id": "lsqaEvzLY2WU"
      },
      "execution_count": 466,
      "outputs": []
    },
    {
      "cell_type": "code",
      "source": [
        "thisdict"
      ],
      "metadata": {
        "colab": {
          "base_uri": "https://localhost:8080/"
        },
        "id": "ivgkvYG1ZYCP",
        "outputId": "af107f39-47f5-4fa4-e365-33f52cdf5bd0"
      },
      "execution_count": 467,
      "outputs": [
        {
          "output_type": "execute_result",
          "data": {
            "text/plain": [
              "{'marks_5_sunjects': [24, 56, 76, 34, 43], 'Average': 46.6, 'Rank': 1}"
            ]
          },
          "metadata": {},
          "execution_count": 467
        }
      ]
    },
    {
      "cell_type": "code",
      "source": [
        "'''\n",
        "Create a dictionary with keys as even_num_av and odd_num_av\n",
        "consider list of numbers from 1 to 100\n",
        "dict1 = {'even_num_av':....,'odd_num_av':......}\n",
        "'''"
      ],
      "metadata": {
        "id": "1XzUNXVSZZNP",
        "colab": {
          "base_uri": "https://localhost:8080/",
          "height": 36
        },
        "outputId": "4d00f2d9-f088-43df-81d4-d83341e0a16f"
      },
      "execution_count": 468,
      "outputs": [
        {
          "output_type": "execute_result",
          "data": {
            "text/plain": [
              "\"\\nCreate a dictionary with keys as even_num_av and odd_num_av\\nconsider list of numbers from 1 to 100\\ndict1 = {'even_num_av':....,'odd_num_av':......}\\n\""
            ],
            "application/vnd.google.colaboratory.intrinsic+json": {
              "type": "string"
            }
          },
          "metadata": {},
          "execution_count": 468
        }
      ]
    },
    {
      "cell_type": "code",
      "source": [
        "thisdict"
      ],
      "metadata": {
        "colab": {
          "base_uri": "https://localhost:8080/"
        },
        "id": "-ZAbiIdebXvp",
        "outputId": "1950e124-f497-4d60-8d3d-bfefbc694de6"
      },
      "execution_count": 469,
      "outputs": [
        {
          "output_type": "execute_result",
          "data": {
            "text/plain": [
              "{'marks_5_sunjects': [24, 56, 76, 34, 43], 'Average': 46.6, 'Rank': 1}"
            ]
          },
          "metadata": {},
          "execution_count": 469
        }
      ]
    },
    {
      "cell_type": "code",
      "source": [
        "thisdict['height'] = 175"
      ],
      "metadata": {
        "id": "vMy5qJYmbYaH"
      },
      "execution_count": 470,
      "outputs": []
    },
    {
      "cell_type": "code",
      "source": [
        "thisdict"
      ],
      "metadata": {
        "colab": {
          "base_uri": "https://localhost:8080/"
        },
        "id": "xSjZ1rGZbcP_",
        "outputId": "75b5ff04-e2c9-4ed7-e158-89c19d282eac"
      },
      "execution_count": 471,
      "outputs": [
        {
          "output_type": "execute_result",
          "data": {
            "text/plain": [
              "{'marks_5_sunjects': [24, 56, 76, 34, 43],\n",
              " 'Average': 46.6,\n",
              " 'Rank': 1,\n",
              " 'height': 175}"
            ]
          },
          "metadata": {},
          "execution_count": 471
        }
      ]
    },
    {
      "cell_type": "code",
      "source": [
        "#to remove a key from dictinary\n",
        "thisdict.pop('height')"
      ],
      "metadata": {
        "colab": {
          "base_uri": "https://localhost:8080/"
        },
        "id": "P4_V0kmobdKL",
        "outputId": "c4348ece-4be2-4317-e317-e74614df6768"
      },
      "execution_count": 472,
      "outputs": [
        {
          "output_type": "execute_result",
          "data": {
            "text/plain": [
              "175"
            ]
          },
          "metadata": {},
          "execution_count": 472
        }
      ]
    },
    {
      "cell_type": "code",
      "source": [
        "thisdict"
      ],
      "metadata": {
        "colab": {
          "base_uri": "https://localhost:8080/"
        },
        "id": "sARCkuWnbnmM",
        "outputId": "b7cdd05b-dd7a-4e98-ec29-6ba44fe052bf"
      },
      "execution_count": 473,
      "outputs": [
        {
          "output_type": "execute_result",
          "data": {
            "text/plain": [
              "{'marks_5_sunjects': [24, 56, 76, 34, 43], 'Average': 46.6, 'Rank': 1}"
            ]
          },
          "metadata": {},
          "execution_count": 473
        }
      ]
    },
    {
      "cell_type": "code",
      "source": [
        "## variants of for loops in dictionary\n",
        "for x in thisdict:\n",
        "  print (x)"
      ],
      "metadata": {
        "colab": {
          "base_uri": "https://localhost:8080/"
        },
        "id": "ddXwxidibo2u",
        "outputId": "402cb983-c038-43d6-b144-724bdcbd2ad3"
      },
      "execution_count": 474,
      "outputs": [
        {
          "output_type": "stream",
          "name": "stdout",
          "text": [
            "marks_5_sunjects\n",
            "Average\n",
            "Rank\n"
          ]
        }
      ]
    },
    {
      "cell_type": "code",
      "source": [
        "## variants of for loops in dictionary\n",
        "for x in thisdict.keys():\n",
        "  print (x)"
      ],
      "metadata": {
        "colab": {
          "base_uri": "https://localhost:8080/"
        },
        "id": "c7WgowGFcdYL",
        "outputId": "5576a1ba-3a41-442d-918b-e09932259610"
      },
      "execution_count": 475,
      "outputs": [
        {
          "output_type": "stream",
          "name": "stdout",
          "text": [
            "marks_5_sunjects\n",
            "Average\n",
            "Rank\n"
          ]
        }
      ]
    },
    {
      "cell_type": "code",
      "source": [
        "## variants of for loops in dictionary\n",
        "for x in thisdict.values():\n",
        "  print (x)"
      ],
      "metadata": {
        "colab": {
          "base_uri": "https://localhost:8080/"
        },
        "id": "TgYkXUUQcgTM",
        "outputId": "2d52ae37-9d1e-4527-ba56-9033f4e30716"
      },
      "execution_count": 476,
      "outputs": [
        {
          "output_type": "stream",
          "name": "stdout",
          "text": [
            "[24, 56, 76, 34, 43]\n",
            "46.6\n",
            "1\n"
          ]
        }
      ]
    },
    {
      "cell_type": "code",
      "source": [
        "## variants of for loops in dictionary\n",
        "for x,y in thisdict.items():\n",
        "  print (x)\n",
        "  print (y)"
      ],
      "metadata": {
        "colab": {
          "base_uri": "https://localhost:8080/"
        },
        "id": "bvWrrd9bciNr",
        "outputId": "68e27357-4cdf-474d-82d3-79b0a37f2f04"
      },
      "execution_count": 477,
      "outputs": [
        {
          "output_type": "stream",
          "name": "stdout",
          "text": [
            "marks_5_sunjects\n",
            "[24, 56, 76, 34, 43]\n",
            "Average\n",
            "46.6\n",
            "Rank\n",
            "1\n"
          ]
        }
      ]
    },
    {
      "cell_type": "code",
      "source": [
        "friends = {'Vinay':{'Age':24,'height':156},'Rajesh':{'Age':26,'height':166},'Yesh':{'Age':28,'height':176}}"
      ],
      "metadata": {
        "id": "FOaDSjS0clxQ"
      },
      "execution_count": 478,
      "outputs": []
    },
    {
      "cell_type": "code",
      "source": [
        "friends"
      ],
      "metadata": {
        "colab": {
          "base_uri": "https://localhost:8080/"
        },
        "id": "MZ8vweOBdZd0",
        "outputId": "75e21959-56ae-4948-e3d3-76415f761f4f"
      },
      "execution_count": 479,
      "outputs": [
        {
          "output_type": "execute_result",
          "data": {
            "text/plain": [
              "{'Vinay': {'Age': 24, 'height': 156},\n",
              " 'Rajesh': {'Age': 26, 'height': 166},\n",
              " 'Yesh': {'Age': 28, 'height': 176}}"
            ]
          },
          "metadata": {},
          "execution_count": 479
        }
      ]
    },
    {
      "cell_type": "code",
      "source": [
        "friends.keys()"
      ],
      "metadata": {
        "colab": {
          "base_uri": "https://localhost:8080/"
        },
        "id": "4fz-VYfOdaDq",
        "outputId": "cd22759d-9385-47d0-a8bc-adcc20bed8c5"
      },
      "execution_count": 480,
      "outputs": [
        {
          "output_type": "execute_result",
          "data": {
            "text/plain": [
              "dict_keys(['Vinay', 'Rajesh', 'Yesh'])"
            ]
          },
          "metadata": {},
          "execution_count": 480
        }
      ]
    },
    {
      "cell_type": "code",
      "source": [
        "friends.values()"
      ],
      "metadata": {
        "colab": {
          "base_uri": "https://localhost:8080/"
        },
        "id": "g5ZkfDcEeMss",
        "outputId": "8b4cc120-cb22-46a1-9425-ebabab0588f6"
      },
      "execution_count": 481,
      "outputs": [
        {
          "output_type": "execute_result",
          "data": {
            "text/plain": [
              "dict_values([{'Age': 24, 'height': 156}, {'Age': 26, 'height': 166}, {'Age': 28, 'height': 176}])"
            ]
          },
          "metadata": {},
          "execution_count": 481
        }
      ]
    },
    {
      "cell_type": "code",
      "source": [
        "friends['Rajesh']"
      ],
      "metadata": {
        "colab": {
          "base_uri": "https://localhost:8080/"
        },
        "id": "7mf2qoKheN9P",
        "outputId": "0f9610af-d96d-4c0a-d9bc-f2bd8ffc695b"
      },
      "execution_count": 482,
      "outputs": [
        {
          "output_type": "execute_result",
          "data": {
            "text/plain": [
              "{'Age': 26, 'height': 166}"
            ]
          },
          "metadata": {},
          "execution_count": 482
        }
      ]
    },
    {
      "cell_type": "code",
      "source": [
        "friends['Rajesh']['Age']"
      ],
      "metadata": {
        "colab": {
          "base_uri": "https://localhost:8080/"
        },
        "id": "7iObTpRTeUBV",
        "outputId": "e5bf4d13-e685-432f-a72b-978e85bfdfc7"
      },
      "execution_count": 483,
      "outputs": [
        {
          "output_type": "execute_result",
          "data": {
            "text/plain": [
              "26"
            ]
          },
          "metadata": {},
          "execution_count": 483
        }
      ]
    },
    {
      "cell_type": "markdown",
      "source": [
        "## If_Else_Condition"
      ],
      "metadata": {
        "id": "pE7QHdjPen7h"
      }
    },
    {
      "cell_type": "code",
      "source": [
        "a = 33\n",
        "b = 200\n",
        "\n",
        "if b > a:\n",
        "  print ('hi')"
      ],
      "metadata": {
        "id": "s8AvPTWgeZ8Q",
        "colab": {
          "base_uri": "https://localhost:8080/"
        },
        "outputId": "071963d9-4c51-4103-e476-b688c547f380"
      },
      "execution_count": 485,
      "outputs": [
        {
          "output_type": "stream",
          "name": "stdout",
          "text": [
            "hi\n"
          ]
        }
      ]
    },
    {
      "cell_type": "code",
      "source": [
        "a = 33\n",
        "b = 33\n",
        "\n",
        "if b > a:\n",
        "  print ('hi')\n",
        "elif b == a:\n",
        "  print ('hello')\n",
        "else:\n",
        "  print ('world')"
      ],
      "metadata": {
        "colab": {
          "base_uri": "https://localhost:8080/"
        },
        "id": "cmCFJrquf65c",
        "outputId": "c9189e45-98c0-437d-d529-a20bb9e0feb9"
      },
      "execution_count": 486,
      "outputs": [
        {
          "output_type": "stream",
          "name": "stdout",
          "text": [
            "hello\n"
          ]
        }
      ]
    },
    {
      "cell_type": "code",
      "source": [
        "'''\n",
        "a = 200\n",
        "b = 33\n",
        "\n",
        "a > b : \"a is greater than b\"\n",
        "a < b : \"a is less than b\"\n",
        "else: \"a is equal to b\"\n",
        "'''\n"
      ],
      "metadata": {
        "id": "UXccllu8gcRI",
        "colab": {
          "base_uri": "https://localhost:8080/",
          "height": 36
        },
        "outputId": "ce22201b-7d25-4608-e2f2-eec03340f146"
      },
      "execution_count": 487,
      "outputs": [
        {
          "output_type": "execute_result",
          "data": {
            "text/plain": [
              "'\\na = 200\\nb = 33\\n\\na > b : \"a is greater than b\"\\na < b : \"a is less than b\"\\nelse: \"a is equal to b\"\\n'"
            ],
            "application/vnd.google.colaboratory.intrinsic+json": {
              "type": "string"
            }
          },
          "metadata": {},
          "execution_count": 487
        }
      ]
    },
    {
      "cell_type": "code",
      "source": [
        "if a > b:\n",
        "  print (\"a is greater than b\")\n",
        "elif a < b:\n",
        "  print (\"a is less than b\")\n",
        "elif a == b:\n",
        "  print (\"a is equal to b\")"
      ],
      "metadata": {
        "colab": {
          "base_uri": "https://localhost:8080/"
        },
        "id": "zWFEavnmhOgZ",
        "outputId": "276e0b47-b130-4bb8-b230-c1336cff8373"
      },
      "execution_count": 488,
      "outputs": [
        {
          "output_type": "stream",
          "name": "stdout",
          "text": [
            "a is equal to b\n"
          ]
        }
      ]
    },
    {
      "cell_type": "code",
      "source": [
        "if a > b:\n",
        "  print (\"a is greater than b\")\n",
        "elif a < b:\n",
        "  print (\"a is less than b\")\n",
        "else:\n",
        "  print (\"a is equal to b\")"
      ],
      "metadata": {
        "colab": {
          "base_uri": "https://localhost:8080/"
        },
        "id": "k3XfyGE7hZ54",
        "outputId": "dc71c56c-9def-4efa-def2-0f68d5519810"
      },
      "execution_count": 489,
      "outputs": [
        {
          "output_type": "stream",
          "name": "stdout",
          "text": [
            "a is equal to b\n"
          ]
        }
      ]
    },
    {
      "cell_type": "code",
      "source": [
        "# short hand notation\n",
        "a = 2\n",
        "b = 330\n",
        "\n",
        "print (a) if a > b else print (b)"
      ],
      "metadata": {
        "colab": {
          "base_uri": "https://localhost:8080/"
        },
        "id": "Omh5O0qHhdZx",
        "outputId": "95aac9ea-0b0d-4888-cb49-2fe5d1795b69"
      },
      "execution_count": 490,
      "outputs": [
        {
          "output_type": "stream",
          "name": "stdout",
          "text": [
            "330\n"
          ]
        }
      ]
    },
    {
      "cell_type": "code",
      "source": [
        "a = 200\n",
        "b = 33\n",
        "c = 500\n",
        "\n",
        "if a>b and a>c:\n",
        "  print ('hi')"
      ],
      "metadata": {
        "id": "E2LHIOihiBJU"
      },
      "execution_count": 493,
      "outputs": []
    },
    {
      "cell_type": "code",
      "source": [
        "if a>b or a>c:\n",
        "  print ('hi')"
      ],
      "metadata": {
        "colab": {
          "base_uri": "https://localhost:8080/"
        },
        "id": "4HfXFd8giUmc",
        "outputId": "93cef0bc-8996-4d7d-e1ce-adcd21e8a4b6"
      },
      "execution_count": 494,
      "outputs": [
        {
          "output_type": "stream",
          "name": "stdout",
          "text": [
            "hi\n"
          ]
        }
      ]
    },
    {
      "cell_type": "code",
      "source": [
        "a = 33\n",
        "b = 200\n",
        "\n",
        "if not a > b:\n",
        "  print ('hi')"
      ],
      "metadata": {
        "colab": {
          "base_uri": "https://localhost:8080/"
        },
        "id": "k8rl9IXIibyO",
        "outputId": "8c434bdc-00d4-4910-abc9-894d8f1462e9"
      },
      "execution_count": 495,
      "outputs": [
        {
          "output_type": "stream",
          "name": "stdout",
          "text": [
            "hi\n"
          ]
        }
      ]
    },
    {
      "cell_type": "code",
      "source": [
        "#nested if\n",
        "\n",
        "x = 41\n",
        "\n",
        "if x > 10:\n",
        "  if x > 20:\n",
        "    if x > 30:\n",
        "      print ('hi')"
      ],
      "metadata": {
        "colab": {
          "base_uri": "https://localhost:8080/"
        },
        "id": "voiscqj1ivU5",
        "outputId": "0753d3cb-f8e5-45c7-e3aa-cc81968d9aa6"
      },
      "execution_count": 496,
      "outputs": [
        {
          "output_type": "stream",
          "name": "stdout",
          "text": [
            "hi\n"
          ]
        }
      ]
    },
    {
      "cell_type": "code",
      "source": [
        "#nested if\n",
        "\n",
        "x = 15\n",
        "\n",
        "if x > 10:\n",
        "  if x > 20:\n",
        "    if x > 30:\n",
        "      print ('hi')\n",
        "  else:\n",
        "    print ('world')"
      ],
      "metadata": {
        "colab": {
          "base_uri": "https://localhost:8080/"
        },
        "id": "nTy_7Ve1ji6N",
        "outputId": "7bb49e90-1502-423b-b54c-3b70ba45990e"
      },
      "execution_count": 497,
      "outputs": [
        {
          "output_type": "stream",
          "name": "stdout",
          "text": [
            "world\n"
          ]
        }
      ]
    },
    {
      "cell_type": "code",
      "source": [
        "#nested if\n",
        "\n",
        "x = 15\n",
        "\n",
        "if x > 10:\n",
        "  if x > 20:\n",
        "    pass\n",
        "  else:\n",
        "    print ('world')\n",
        "    if x > 30:\n",
        "      print ('hi')"
      ],
      "metadata": {
        "colab": {
          "base_uri": "https://localhost:8080/"
        },
        "id": "ZJPyEyDDj9BD",
        "outputId": "501bf4d3-5e1b-4c83-a5af-635466406a5a"
      },
      "execution_count": 498,
      "outputs": [
        {
          "output_type": "stream",
          "name": "stdout",
          "text": [
            "world\n"
          ]
        }
      ]
    },
    {
      "cell_type": "code",
      "source": [
        "'''\n",
        "dict1 = {'Ram':14,'Ravi':42,'Vinay':76,'Reshma':25}\n",
        "\n",
        "stundents who has marks between 40 to 80\n",
        "\n",
        "'''"
      ],
      "metadata": {
        "id": "WNML0Vc0k47L",
        "colab": {
          "base_uri": "https://localhost:8080/",
          "height": 36
        },
        "outputId": "5838cdb1-3026-4322-abd6-72536e4767c9"
      },
      "execution_count": 499,
      "outputs": [
        {
          "output_type": "execute_result",
          "data": {
            "text/plain": [
              "\"\\ndict1 = {'Ram':14,'Ravi':42,'Vinay':76,'Reshma':25}\\n\\nstundents who has marks between 40 to 80\\n\\n\""
            ],
            "application/vnd.google.colaboratory.intrinsic+json": {
              "type": "string"
            }
          },
          "metadata": {},
          "execution_count": 499
        }
      ]
    },
    {
      "cell_type": "code",
      "source": [
        "dict1 = {'Ram':14,'Ravi':42,'Vinay':76,'Reshma':25}\n",
        "\n",
        "for k,v in dict1.items():\n",
        "  if v > 40 and v < 80:\n",
        "    print(k)"
      ],
      "metadata": {
        "colab": {
          "base_uri": "https://localhost:8080/"
        },
        "id": "fS7GjUHYmSRP",
        "outputId": "a40f1443-3346-4749-fe04-9128142cb5db"
      },
      "execution_count": 500,
      "outputs": [
        {
          "output_type": "stream",
          "name": "stdout",
          "text": [
            "Ravi\n",
            "Vinay\n"
          ]
        }
      ]
    },
    {
      "cell_type": "code",
      "source": [
        "l1 = [i for i in range(500)]\n",
        "l2 = [i for i in range(501,1000)]\n",
        "\n",
        "dict1 = {'range1':l1,'range2':l2}"
      ],
      "metadata": {
        "id": "xG_cg0WamoxL"
      },
      "execution_count": 501,
      "outputs": []
    },
    {
      "cell_type": "markdown",
      "source": [
        "## while loops"
      ],
      "metadata": {
        "id": "sOxwU2sypTiL"
      }
    },
    {
      "cell_type": "code",
      "source": [
        "'''\n",
        "while loop that print i from 0 to 6\n",
        "'''\n",
        "\n",
        "i = 0\n",
        "\n",
        "while i < 6:\n",
        "  print (i)\n",
        "  if i == 3:\n",
        "    break\n",
        "  i = i + 1"
      ],
      "metadata": {
        "colab": {
          "base_uri": "https://localhost:8080/"
        },
        "id": "B0KczVVqou50",
        "outputId": "8372681b-6f19-4036-a245-1c42391afc58"
      },
      "execution_count": 502,
      "outputs": [
        {
          "output_type": "stream",
          "name": "stdout",
          "text": [
            "0\n",
            "1\n",
            "2\n",
            "3\n"
          ]
        }
      ]
    },
    {
      "cell_type": "code",
      "source": [
        "i = 0\n",
        "while i < 6:\n",
        "  print (i)\n",
        "  i = i + 1\n",
        "  if i == 3:\n",
        "    continue"
      ],
      "metadata": {
        "colab": {
          "base_uri": "https://localhost:8080/"
        },
        "id": "WUKPMHVjD6Cj",
        "outputId": "89c8a52a-b4ee-4ae8-f420-af9f4ce6e829"
      },
      "execution_count": 504,
      "outputs": [
        {
          "output_type": "stream",
          "name": "stdout",
          "text": [
            "0\n",
            "1\n",
            "2\n",
            "3\n",
            "4\n",
            "5\n"
          ]
        }
      ]
    },
    {
      "cell_type": "code",
      "source": [
        "l1 = ['apple','banana','cherry']\n",
        "\n",
        "for x in l1:\n",
        "  if x == 'banana':\n",
        "    break\n",
        "  else:\n",
        "    print(x)"
      ],
      "metadata": {
        "colab": {
          "base_uri": "https://localhost:8080/"
        },
        "id": "A99Qcw2YsVe_",
        "outputId": "b3c4a79c-0470-4a5c-d255-197405cb7d57"
      },
      "execution_count": 505,
      "outputs": [
        {
          "output_type": "stream",
          "name": "stdout",
          "text": [
            "apple\n"
          ]
        }
      ]
    },
    {
      "cell_type": "code",
      "source": [
        "l1 = [i for i in range(0,100,3)]"
      ],
      "metadata": {
        "id": "c8r7NYVwtV6K"
      },
      "execution_count": 507,
      "outputs": []
    },
    {
      "cell_type": "code",
      "source": [
        "l1"
      ],
      "metadata": {
        "colab": {
          "base_uri": "https://localhost:8080/"
        },
        "id": "irqZSt9MErXi",
        "outputId": "dc40ed29-7c24-42b9-ae4a-e4266ac1ed38"
      },
      "execution_count": 508,
      "outputs": [
        {
          "output_type": "execute_result",
          "data": {
            "text/plain": [
              "[0,\n",
              " 3,\n",
              " 6,\n",
              " 9,\n",
              " 12,\n",
              " 15,\n",
              " 18,\n",
              " 21,\n",
              " 24,\n",
              " 27,\n",
              " 30,\n",
              " 33,\n",
              " 36,\n",
              " 39,\n",
              " 42,\n",
              " 45,\n",
              " 48,\n",
              " 51,\n",
              " 54,\n",
              " 57,\n",
              " 60,\n",
              " 63,\n",
              " 66,\n",
              " 69,\n",
              " 72,\n",
              " 75,\n",
              " 78,\n",
              " 81,\n",
              " 84,\n",
              " 87,\n",
              " 90,\n",
              " 93,\n",
              " 96,\n",
              " 99]"
            ]
          },
          "metadata": {},
          "execution_count": 508
        }
      ]
    },
    {
      "cell_type": "code",
      "source": [],
      "metadata": {
        "id": "MgBNCtJBEsVY"
      },
      "execution_count": null,
      "outputs": []
    }
  ],
  "metadata": {
    "colab": {
      "provenance": []
    },
    "kernelspec": {
      "display_name": "Python 3",
      "name": "python3"
    },
    "language_info": {
      "name": "python"
    }
  },
  "nbformat": 4,
  "nbformat_minor": 0
}